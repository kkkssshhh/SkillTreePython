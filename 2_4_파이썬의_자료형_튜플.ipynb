{
  "nbformat": 4,
  "nbformat_minor": 0,
  "metadata": {
    "colab": {
      "name": "2-4.파이썬의 자료형:튜플.ipynb",
      "provenance": [],
      "toc_visible": true,
      "include_colab_link": true
    },
    "kernelspec": {
      "name": "python3",
      "display_name": "Python 3"
    },
    "language_info": {
      "name": "python"
    }
  },
  "cells": [
    {
      "cell_type": "markdown",
      "metadata": {
        "id": "view-in-github",
        "colab_type": "text"
      },
      "source": [
        "<a href=\"https://colab.research.google.com/github/kkkssshhh/SkillTreePython/blob/main/2_4_%ED%8C%8C%EC%9D%B4%EC%8D%AC%EC%9D%98_%EC%9E%90%EB%A3%8C%ED%98%95_%ED%8A%9C%ED%94%8C.ipynb\" target=\"_parent\"><img src=\"https://colab.research.google.com/assets/colab-badge.svg\" alt=\"Open In Colab\"/></a>"
      ]
    },
    {
      "cell_type": "markdown",
      "source": [
        "# 2-4.파이썬의 자료형:튜플\n",
        "---\n",
        "* 날짜:\n",
        "* 이름:김시후\n"
      ],
      "metadata": {
        "id": "kB5IciXEm6o4"
      }
    },
    {
      "cell_type": "markdown",
      "source": [
        "## 개념정리\n",
        "---\n",
        "\n",
        "튜플(tuple) 은 리스트와 유사합니다. 하지만 수정할 수 없다는 특징을 가지고 있습니다. 따라서 어떤 군집 값을 마치 변수처럼 변환을 계속하고 싶다면 리스트를, 상수처럼 고정하고 싶다면 튜플을 쓰는게 좋습니다."
      ],
      "metadata": {
        "id": "4iN8NFzHRJ2D"
      }
    },
    {
      "cell_type": "markdown",
      "source": [
        "### (1) 생성\n",
        "\n",
        "`( )` 기호를 통해 튜플을 생성할 수 있습니다.\n",
        "\n",
        "```\n",
        "a = (1,2,3)\n",
        "print(a)\n",
        "type(a)\n",
        "```\n"
      ],
      "metadata": {
        "id": "MAM8MDnfw68b"
      }
    },
    {
      "cell_type": "code",
      "source": [
        "#a = (1,2,3)\n",
        "a = tuple([1,2,3]) #리스트를 튜플로\n",
        "a = tuple() #비어있는 튜플\n",
        "print(a, type(a))"
      ],
      "metadata": {
        "id": "M45u3wo6zrSN",
        "outputId": "021ec709-5b57-47b5-9551-a33ccf3b8cb3",
        "colab": {
          "base_uri": "https://localhost:8080/"
        }
      },
      "execution_count": 3,
      "outputs": [
        {
          "output_type": "stream",
          "name": "stdout",
          "text": [
            "() <class 'tuple'>\n"
          ]
        }
      ]
    },
    {
      "cell_type": "code",
      "source": [
        "a , type(a)"
      ],
      "metadata": {
        "id": "898IYg3lotJL",
        "outputId": "75b8f5d0-2e46-400d-edd0-13e0d4491609",
        "colab": {
          "base_uri": "https://localhost:8080/"
        }
      },
      "execution_count": 4,
      "outputs": [
        {
          "output_type": "execute_result",
          "data": {
            "text/plain": [
              "((), tuple)"
            ]
          },
          "metadata": {},
          "execution_count": 4
        }
      ]
    },
    {
      "cell_type": "markdown",
      "source": [
        "####  **튜플의 요소**\n",
        "\n",
        "리스트와 마찬가지로 튜플의 요소 또한 문자열, 리스트, 정수 등 다양한 요소들을 포함할 수 있습니다. 튜플 역시 요소들을 통일 하지 않아도 유효합니다.\n",
        "\n",
        "```\n",
        "a = (1, \"a\", True, [1,2,3])\n",
        "print(a)\n",
        "```\n"
      ],
      "metadata": {
        "id": "NvswO22Kzs62"
      }
    },
    {
      "cell_type": "code",
      "source": [
        "what = 1 , 2 , 3 #() 괄호를 안써도 튜플로 자동 인식\n",
        "print(what , type(what))"
      ],
      "metadata": {
        "id": "j6HCOsxKzuSG",
        "outputId": "26cb5a55-17c9-42ea-aaec-a81c9d7cb356",
        "colab": {
          "base_uri": "https://localhost:8080/"
        }
      },
      "execution_count": 5,
      "outputs": [
        {
          "output_type": "stream",
          "name": "stdout",
          "text": [
            "(1, 2, 3) <class 'tuple'>\n"
          ]
        }
      ]
    },
    {
      "cell_type": "markdown",
      "source": [
        "### (2) 수정과 삭제\n",
        "\n",
        "리스트와 달리 튜플은 수정과 삭제가 불가능 합니다. 에러 메시지를 확인해 봅시다."
      ],
      "metadata": {
        "id": "dDaNfov4zv6t"
      }
    },
    {
      "cell_type": "code",
      "source": [],
      "metadata": {
        "id": "RnTqPWytsdHV"
      },
      "execution_count": null,
      "outputs": []
    },
    {
      "cell_type": "markdown",
      "source": [
        "\n",
        "#### **수정**\n",
        "\n",
        "```\n",
        "a = (1,2,3,4)\n",
        "a[0] = \"a\"\n",
        "```\n"
      ],
      "metadata": {
        "id": "BlbuStFxzyad"
      }
    },
    {
      "cell_type": "code",
      "source": [
        "a = (1,2,3,4)\n",
        "a[0] = \"a\""
      ],
      "metadata": {
        "id": "GXaM8hugzwmw",
        "outputId": "08d4a686-d81a-4b42-cb81-40471ee19660",
        "colab": {
          "base_uri": "https://localhost:8080/",
          "height": 193
        }
      },
      "execution_count": 6,
      "outputs": [
        {
          "output_type": "error",
          "ename": "TypeError",
          "evalue": "ignored",
          "traceback": [
            "\u001b[0;31m---------------------------------------------------------------------------\u001b[0m",
            "\u001b[0;31mTypeError\u001b[0m                                 Traceback (most recent call last)",
            "\u001b[0;32m<ipython-input-6-ee7ed42b7b09>\u001b[0m in \u001b[0;36m<module>\u001b[0;34m\u001b[0m\n\u001b[1;32m      1\u001b[0m \u001b[0ma\u001b[0m \u001b[0;34m=\u001b[0m \u001b[0;34m(\u001b[0m\u001b[0;36m1\u001b[0m\u001b[0;34m,\u001b[0m\u001b[0;36m2\u001b[0m\u001b[0;34m,\u001b[0m\u001b[0;36m3\u001b[0m\u001b[0;34m,\u001b[0m\u001b[0;36m4\u001b[0m\u001b[0;34m)\u001b[0m\u001b[0;34m\u001b[0m\u001b[0;34m\u001b[0m\u001b[0m\n\u001b[0;32m----> 2\u001b[0;31m \u001b[0ma\u001b[0m\u001b[0;34m[\u001b[0m\u001b[0;36m0\u001b[0m\u001b[0;34m]\u001b[0m \u001b[0;34m=\u001b[0m \u001b[0;34m\"a\"\u001b[0m\u001b[0;34m\u001b[0m\u001b[0;34m\u001b[0m\u001b[0m\n\u001b[0m",
            "\u001b[0;31mTypeError\u001b[0m: 'tuple' object does not support item assignment"
          ]
        }
      ]
    },
    {
      "cell_type": "markdown",
      "source": [
        "#### **삭제**\n",
        "\n",
        "```\n",
        "a = (1,2,3,4)\n",
        "del a[0]\n",
        "```"
      ],
      "metadata": {
        "id": "dMzkZR9iz2VZ"
      }
    },
    {
      "cell_type": "code",
      "source": [
        "del a[0]"
      ],
      "metadata": {
        "id": "Hun7vYCfz0Ow",
        "outputId": "a36368c3-75ab-43c6-d0f4-ca7e415e0091",
        "colab": {
          "base_uri": "https://localhost:8080/",
          "height": 174
        }
      },
      "execution_count": 7,
      "outputs": [
        {
          "output_type": "error",
          "ename": "TypeError",
          "evalue": "ignored",
          "traceback": [
            "\u001b[0;31m---------------------------------------------------------------------------\u001b[0m",
            "\u001b[0;31mTypeError\u001b[0m                                 Traceback (most recent call last)",
            "\u001b[0;32m<ipython-input-7-c47830f0ae67>\u001b[0m in \u001b[0;36m<module>\u001b[0;34m\u001b[0m\n\u001b[0;32m----> 1\u001b[0;31m \u001b[0;32mdel\u001b[0m \u001b[0ma\u001b[0m\u001b[0;34m[\u001b[0m\u001b[0;36m0\u001b[0m\u001b[0;34m]\u001b[0m\u001b[0;34m\u001b[0m\u001b[0;34m\u001b[0m\u001b[0m\n\u001b[0m",
            "\u001b[0;31mTypeError\u001b[0m: 'tuple' object doesn't support item deletion"
          ]
        }
      ]
    },
    {
      "cell_type": "markdown",
      "source": [
        "#### **우회해서 수정하기**\n",
        "\n",
        "그래도 꼭 수정해야 한다면 방법은 리스트로 변환 후 수정과 삭제를 하는 것입니다. 수정이나 삭제 후에는 또다시 튜플로 변환을 해주어야 합니다.\n",
        "\n",
        "```\n",
        "a = (1,2,3,4)\n",
        "a = list(a)\n",
        "a[0] = 0\n",
        "a = tuple(a)\n",
        "print(a)\n",
        "```"
      ],
      "metadata": {
        "id": "g5sGGimlz5O2"
      }
    },
    {
      "cell_type": "code",
      "source": [
        "a = (1,2,3,4)\n",
        "a = list(a)\n",
        "print(a)\n",
        "a[0] = 0#첫번째 요소 0으로 수정\n",
        "a=tuple(a)\n",
        "print(a)"
      ],
      "metadata": {
        "id": "QovRb6_1z31w",
        "outputId": "551652de-6549-48b2-aea4-89abbbb01ac5",
        "colab": {
          "base_uri": "https://localhost:8080/"
        }
      },
      "execution_count": 9,
      "outputs": [
        {
          "output_type": "stream",
          "name": "stdout",
          "text": [
            "[1, 2, 3, 4]\n",
            "(0, 2, 3, 4)\n"
          ]
        }
      ]
    },
    {
      "cell_type": "markdown",
      "source": [
        "### (3) 인덱싱과 슬라이싱\n",
        "\n",
        "튜플에서도 인덱싱과 슬라이싱이 가능합니다. 반환되는 값은 튜플임을 유의합니다.\n",
        "\n",
        "```\n",
        "a = (1,2,3,4,5)\n",
        "print(a[0]) # 인덱싱\n",
        "print(a[:2]) # 슬라이싱\n",
        "```"
      ],
      "metadata": {
        "id": "9Umb8A55z9I7"
      }
    },
    {
      "cell_type": "code",
      "source": [
        "a = (1,2,3,4,5)\n",
        "a[3], a[:3]"
      ],
      "metadata": {
        "id": "LHaifq2Zz7jz",
        "outputId": "af86d12e-0a98-4d55-e64a-e3739dd977c3",
        "colab": {
          "base_uri": "https://localhost:8080/"
        }
      },
      "execution_count": 10,
      "outputs": [
        {
          "output_type": "execute_result",
          "data": {
            "text/plain": [
              "(4, (1, 2, 3))"
            ]
          },
          "metadata": {},
          "execution_count": 10
        }
      ]
    },
    {
      "cell_type": "markdown",
      "source": [
        "### (4) 튜플의 연산\n",
        "\n",
        "튜플의 연산은 더하기 `+` 와 곱하기 `*` 만 사용할 수 있습니다. 이 때 더하기는 튜플끼리의 덧셈만 가능하며, 곱하기는 튜플와 정수값의 곱만 가능함을 주의해야 합니다. 튜플끼리의 덧셈 결과는 두 튜플를 이어 붙인 튜플가 되고 튜플과 정수의 곱은 튜플의 정수크기만큼 이어붙인 튜플이 됩니다.\n"
      ],
      "metadata": {
        "id": "ZzTpNgfb0AFa"
      }
    },
    {
      "cell_type": "markdown",
      "source": [
        "#### **더하기**\n",
        "\n",
        "```\n",
        "a = (1,1,1,1,1)\n",
        "b = (2,2)\n",
        "print(a+b)\n",
        "```\n"
      ],
      "metadata": {
        "id": "1HMFTBrP0Bae"
      }
    },
    {
      "cell_type": "code",
      "source": [],
      "metadata": {
        "id": "j50B81hc0Dp9"
      },
      "execution_count": null,
      "outputs": []
    },
    {
      "cell_type": "markdown",
      "source": [
        "#### **곱하기**\n",
        "\n",
        "```\n",
        "a = (1,1,1,1,1)\n",
        "b = 2\n",
        "print(a*b)\n",
        "```"
      ],
      "metadata": {
        "id": "I9JqXuzJ0Dvx"
      }
    },
    {
      "cell_type": "code",
      "source": [],
      "metadata": {
        "id": "QmsJ1nWQz-4j"
      },
      "execution_count": null,
      "outputs": []
    },
    {
      "cell_type": "markdown",
      "source": [
        "### (5) 관련 메소드\n",
        "\n",
        "지난번 문자열 메소드와 마찬가지로 리스트에도 다양한 내장함수 및 메소드가 존재합니다. \n",
        "\n",
        "|| 종류|\n",
        "|--|--|\n",
        "|내장함수| `len()`, `max()`, `min()`, `sum()`\n",
        "|메서드|  `.count()`, `.index()`, `.sort()`\n"
      ],
      "metadata": {
        "id": "3ehCUpO50Kii"
      }
    },
    {
      "cell_type": "markdown",
      "source": [
        "####  **내장함수**\n",
        "\n",
        "* `len()`: 길이를 구합니다.\n",
        "* `max()`: 최대값을 구합니다.\n",
        "* `min()`: 최소값을 구합니다.\n",
        "* `sum()`: 모든값을 더합니다.\n",
        "\n",
        "```\n",
        "a = (1,2,3,4)\n",
        "print(len(a))\n",
        "print(max(a))\n",
        "print(min(a))\n",
        "print(sum(a))\n",
        "```"
      ],
      "metadata": {
        "id": "voHfC6oN0M7z"
      }
    },
    {
      "cell_type": "code",
      "source": [],
      "metadata": {
        "id": "IhhzAce50IfM"
      },
      "execution_count": null,
      "outputs": []
    },
    {
      "cell_type": "markdown",
      "source": [
        "#### **기타 메서드**\n",
        "\n",
        "* `count(obj)` : `obj` 개수 카운트\n",
        "*  `index(obj)` : `obj` 위치 인덱싱 (중복시 앞순서부터)\n",
        "\n",
        "```\n",
        "a = (2,2,1,3,3,3)\n",
        "print(a.count(2))\n",
        "print(a.index(2))\n",
        "```"
      ],
      "metadata": {
        "id": "oVCfiNf10Q2a"
      }
    },
    {
      "cell_type": "code",
      "source": [],
      "metadata": {
        "id": "cvqms6iH0PoF"
      },
      "execution_count": null,
      "outputs": []
    },
    {
      "cell_type": "markdown",
      "source": [
        "## 문제풀이\n",
        "---"
      ],
      "metadata": {
        "id": "wbcmVb3h00Jo"
      }
    },
    {
      "cell_type": "markdown",
      "source": [
        "\n",
        "\n",
        "**예제 01**\n",
        "\n",
        "과일메뉴가 다음과 같습니다. 튜플로 작성하세요\n",
        "\n",
        "|과일|\n",
        "|--|\n",
        "사과\n",
        "바나나\n",
        "감자\n",
        "메론\n",
        "복숭아\n",
        "딸기"
      ],
      "metadata": {
        "id": "4PX2kZmg0WWl"
      }
    },
    {
      "cell_type": "code",
      "source": [
        "a= tuple(['사과', '바나나', '감자', '메론', '복숭아','딸기'])\n",
        "print(a,type(a))"
      ],
      "metadata": {
        "id": "HQQytPl10XPQ",
        "outputId": "f8926d39-c403-4577-b773-55328455f098",
        "colab": {
          "base_uri": "https://localhost:8080/"
        }
      },
      "execution_count": 11,
      "outputs": [
        {
          "output_type": "stream",
          "name": "stdout",
          "text": [
            "('사과', '바나나', '감자', '메론', '복숭아', '딸기') <class 'tuple'>\n"
          ]
        }
      ]
    },
    {
      "cell_type": "markdown",
      "source": [
        "**예제 02**\n",
        "\n",
        "위에서 만든 튜플에  \"포도\"를 추가하세요"
      ],
      "metadata": {
        "id": "SZmwFndu0YaG"
      }
    },
    {
      "cell_type": "code",
      "source": [
        "a=('사과', '바나나', '감자', '메론', '복숭아','딸기')\n",
        "a=list(a)\n",
        "print(a)\n",
        "a.append('포도')\n",
        "a=tuple(a)\n",
        "print(a)"
      ],
      "metadata": {
        "id": "TFV-mjV30Yyl",
        "outputId": "64f08eac-7084-48af-ecaf-bc03cfce9406",
        "colab": {
          "base_uri": "https://localhost:8080/"
        }
      },
      "execution_count": 14,
      "outputs": [
        {
          "output_type": "stream",
          "name": "stdout",
          "text": [
            "['사과', '바나나', '감자', '메론', '복숭아', '딸기']\n",
            "('사과', '바나나', '감자', '메론', '복숭아', '딸기', '포도')\n"
          ]
        }
      ]
    },
    {
      "cell_type": "markdown",
      "source": [
        "**예제 03**\n",
        "\n",
        "\"감자\"가 잘못 들어가 있었습니다. \"감자\"를 삭제하세요"
      ],
      "metadata": {
        "id": "w6eyKFn30Y4T"
      }
    },
    {
      "cell_type": "code",
      "source": [
        "a=list(a)\n",
        "print(a)\n",
        "a.remove('감자')\n",
        "a=tuple(a)\n",
        "print(a)"
      ],
      "metadata": {
        "id": "5G-XdEpq0Z8u",
        "outputId": "27a9ccf2-a591-4c5a-a9ba-c9f53d04cf65",
        "colab": {
          "base_uri": "https://localhost:8080/"
        }
      },
      "execution_count": 23,
      "outputs": [
        {
          "output_type": "stream",
          "name": "stdout",
          "text": [
            "['사과', '바나나', '감자', '메론', '복숭아', '딸기', '포도']\n",
            "('사과', '바나나', '메론', '복숭아', '딸기', '포도')\n"
          ]
        }
      ]
    },
    {
      "cell_type": "markdown",
      "source": [
        "**예제 04**\n",
        "\n",
        "위에서 만든 튜플의 세번째부터 끝까지 요소만 들어있는 튜플을 새로 만드세요(슬라이싱 이용하세요)"
      ],
      "metadata": {
        "id": "04RazUkn0aCr"
      }
    },
    {
      "cell_type": "code",
      "source": [
        "print(a[2:])"
      ],
      "metadata": {
        "id": "bA5bwIh10bJW",
        "outputId": "0bc53236-c73f-4172-e999-9a252ac4fffe",
        "colab": {
          "base_uri": "https://localhost:8080/"
        }
      },
      "execution_count": 42,
      "outputs": [
        {
          "output_type": "stream",
          "name": "stdout",
          "text": [
            "('메론', '복숭아', '딸기', '포도')\n"
          ]
        }
      ]
    },
    {
      "cell_type": "markdown",
      "source": [
        "**예제 05**\n",
        "\n",
        "빈 튜플을 생성하여 `t0` 으로 저장하세요"
      ],
      "metadata": {
        "id": "MyL6SbCc0bPH"
      }
    },
    {
      "cell_type": "code",
      "source": [
        "t0 = ()\n",
        "print(t0, type(t0))\n",
        "\n",
        "t0 = tuple()\n",
        "print(t0, type(t0))"
      ],
      "metadata": {
        "id": "WHrbgYNH0cCg",
        "outputId": "121a145c-0386-4f92-f63b-441ac5994d72",
        "colab": {
          "base_uri": "https://localhost:8080/"
        }
      },
      "execution_count": 46,
      "outputs": [
        {
          "output_type": "stream",
          "name": "stdout",
          "text": [
            "() <class 'tuple'>\n",
            "() <class 'tuple'>\n"
          ]
        }
      ]
    },
    {
      "cell_type": "markdown",
      "source": [
        "**예제 06**\n",
        "\n",
        "숫자 5가 들어있는 튜플을 생성하여 `t1` 으로 저장하세요\n"
      ],
      "metadata": {
        "id": "VB35MUrz0cHK"
      }
    },
    {
      "cell_type": "code",
      "source": [
        "t1"
      ],
      "metadata": {
        "id": "ojmBEhVF0dkk"
      },
      "execution_count": null,
      "outputs": []
    },
    {
      "cell_type": "markdown",
      "source": [
        "**예제 07**\n",
        "\n",
        "`t0` 에 8을 추가하세요"
      ],
      "metadata": {
        "id": "533FHCgK0doU"
      }
    },
    {
      "cell_type": "code",
      "source": [],
      "metadata": {
        "id": "UfgIfQSv0epL"
      },
      "execution_count": null,
      "outputs": []
    },
    {
      "cell_type": "markdown",
      "source": [
        "**예제 08**\n",
        "\n",
        "\n",
        "`t0` 과 `t1` 을 합치세요"
      ],
      "metadata": {
        "id": "J06zOdwC0es7"
      }
    },
    {
      "cell_type": "code",
      "source": [],
      "metadata": {
        "id": "AIIs8TGB0ftK"
      },
      "execution_count": null,
      "outputs": []
    },
    {
      "cell_type": "markdown",
      "source": [
        "**예제 09**\n",
        "\n",
        "\n",
        "아래와 같이 `a`가 바인딩 되어 있습니다. `a`의 타입을 확인해보고 이를 통해 알 수 있는 정보를 해설하세요\n",
        "\n",
        "\n",
        "```\n",
        "a = 1,2,3,4,5\n",
        "```"
      ],
      "metadata": {
        "id": "x8UI5uxO0fxO"
      }
    },
    {
      "cell_type": "code",
      "source": [],
      "metadata": {
        "id": "JfkCQlpV0g2r"
      },
      "execution_count": null,
      "outputs": []
    },
    {
      "cell_type": "markdown",
      "source": [
        "**예제 10**\n",
        "\n",
        "`b`의 평균을 계산하세요.\n",
        "\n",
        "\n",
        "```\n",
        "b = (1,2,3,4,5,10,20,30,40)\n",
        "```"
      ],
      "metadata": {
        "id": "t-KZLhAa0g6g"
      }
    },
    {
      "cell_type": "code",
      "source": [],
      "metadata": {
        "id": "0DiU-KYj0pdX"
      },
      "execution_count": null,
      "outputs": []
    }
  ]
}