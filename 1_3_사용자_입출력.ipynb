{
  "nbformat": 4,
  "nbformat_minor": 0,
  "metadata": {
    "colab": {
      "name": "1-3.사용자 입출력.ipynb",
      "provenance": [],
      "include_colab_link": true
    },
    "kernelspec": {
      "name": "python3",
      "display_name": "Python 3"
    },
    "language_info": {
      "name": "python"
    }
  },
  "cells": [
    {
      "cell_type": "markdown",
      "metadata": {
        "id": "view-in-github",
        "colab_type": "text"
      },
      "source": [
        "<a href=\"https://colab.research.google.com/github/kkkssshhh/SkillTreePython/blob/main/1_3_%EC%82%AC%EC%9A%A9%EC%9E%90_%EC%9E%85%EC%B6%9C%EB%A0%A5.ipynb\" target=\"_parent\"><img src=\"https://colab.research.google.com/assets/colab-badge.svg\" alt=\"Open In Colab\"/></a>"
      ]
    },
    {
      "cell_type": "markdown",
      "source": [
        "# 1-3. 변수 선언하기\n",
        "---\n",
        "* 날짜:\n",
        "* 이름:김시후"
      ],
      "metadata": {
        "id": "kB5IciXEm6o4"
      }
    },
    {
      "cell_type": "markdown",
      "source": [
        "## 개념정리\n",
        "---\n",
        "\n",
        "\n",
        "사용자에게서 변수를 얻어서 그에 맞는 프로그램을 짜고 싶다면 입력기능이 필요합니다. 또한 원하는 기능을 실행 후 결과물을 확인하고 싶다면 출력기능이 필요합니다. 이번시간에서는 파이썬의 입출력기능을 알아보도록 합니다.\n",
        "\n"
      ],
      "metadata": {
        "id": "4iN8NFzHRJ2D"
      }
    },
    {
      "cell_type": "markdown",
      "source": [
        "### **(1) 입력**\n",
        "\n",
        "\n",
        "\n"
      ],
      "metadata": {
        "id": "UKlkHH0IRL5h"
      }
    },
    {
      "cell_type": "markdown",
      "source": [
        "사용자의 입력을 파이썬의 `input()` 함수를 이용해서 받을 수 있습니다. 아래 코드를 실행하면 사용자의 입력을 받는 창이 나타납니다.\n",
        "\n",
        "```\n",
        "input()\n",
        "```\n",
        "\n"
      ],
      "metadata": {
        "id": "opbfNksrAq4P"
      }
    },
    {
      "cell_type": "code",
      "source": [
        "input()"
      ],
      "metadata": {
        "id": "MMZ81oTLAsnC",
        "outputId": "099f7e6a-9d6b-4520-e52f-5cf28384c17c",
        "colab": {
          "base_uri": "https://localhost:8080/",
          "height": 54
        }
      },
      "execution_count": 26,
      "outputs": [
        {
          "name": "stdout",
          "output_type": "stream",
          "text": [
            "김시후\n"
          ]
        },
        {
          "output_type": "execute_result",
          "data": {
            "text/plain": [
              "'김시후'"
            ],
            "application/vnd.google.colaboratory.intrinsic+json": {
              "type": "string"
            }
          },
          "metadata": {},
          "execution_count": 26
        }
      ]
    },
    {
      "cell_type": "markdown",
      "source": [
        "#### **설명 추가**\n",
        "\n",
        "입력을 받을 때 설명을 추가해주고 싶다면 아래와 같이 함수의 괄호 안에 문자열을 삽입합니다.\n",
        "```\n",
        "input(\"이름을 입력하세요:\")\n",
        "```"
      ],
      "metadata": {
        "id": "W5qe6MfoAr0T"
      }
    },
    {
      "cell_type": "code",
      "source": [
        "input(\"이름을 입력해 주세요:\")"
      ],
      "metadata": {
        "id": "cZ-eUn5WAs-f",
        "outputId": "02dbfcac-adea-42e3-d9e1-5ec8989c39b7",
        "colab": {
          "base_uri": "https://localhost:8080/",
          "height": 54
        }
      },
      "execution_count": 2,
      "outputs": [
        {
          "name": "stdout",
          "output_type": "stream",
          "text": [
            "이름을 입력해 주세요:김시후\n"
          ]
        },
        {
          "output_type": "execute_result",
          "data": {
            "text/plain": [
              "'김시후'"
            ],
            "application/vnd.google.colaboratory.intrinsic+json": {
              "type": "string"
            }
          },
          "metadata": {},
          "execution_count": 2
        }
      ]
    },
    {
      "cell_type": "markdown",
      "source": [
        "#### **바인딩**\n",
        "\n",
        "`input()` 함수로 받은 값을 바인딩 하여 저장할 수 있습니다.\n",
        "```\n",
        "my_name = input('이름을 입력하세요:')\n",
        "```\n"
      ],
      "metadata": {
        "id": "6e0WFOgKBIXo"
      }
    },
    {
      "cell_type": "code",
      "source": [
        "#내장 함수\n",
        "my_name = input(\"이름을 입력해 주세요:\")"
      ],
      "metadata": {
        "id": "21s6EP4QFU6s",
        "outputId": "d3b6c0ca-42bc-43d1-a3e8-e30b03044da6",
        "colab": {
          "base_uri": "https://localhost:8080/"
        }
      },
      "execution_count": 28,
      "outputs": [
        {
          "name": "stdout",
          "output_type": "stream",
          "text": [
            "이름을 입력해 주세요:김시후\n"
          ]
        }
      ]
    },
    {
      "cell_type": "markdown",
      "source": [
        "\n",
        "위에서 선언한 `my_name`을 확인해 봅시다.\n",
        "\n",
        "```\n",
        "my_name, type(my_name)\n",
        "```\n",
        "\n"
      ],
      "metadata": {
        "id": "Fi-eRFJ_Dbog"
      }
    },
    {
      "cell_type": "code",
      "source": [
        "my_name, type(my_name)"
      ],
      "metadata": {
        "id": "XYu0SS3pFd5V",
        "outputId": "d1be1483-8f73-43e9-c0ec-31ee6f356cfa",
        "colab": {
          "base_uri": "https://localhost:8080/"
        }
      },
      "execution_count": 29,
      "outputs": [
        {
          "output_type": "execute_result",
          "data": {
            "text/plain": [
              "('김시후', str)"
            ]
          },
          "metadata": {},
          "execution_count": 29
        }
      ]
    },
    {
      "cell_type": "markdown",
      "source": [
        "\n",
        "`input()` 함수로 바인딩한 값은 모두 `문자열(str)` 임을 주의합니다. \n",
        "```\n",
        "my_age = input(\"나이를 입력하세요: \")\n",
        "type(my_age)\n",
        "```"
      ],
      "metadata": {
        "id": "3Cr--Bt7DcZ3"
      }
    },
    {
      "cell_type": "code",
      "source": [
        "my_age = input(\"나이를 입력하세요:\")\n",
        "type(my_age)"
      ],
      "metadata": {
        "id": "ond0nWOBRNlE",
        "outputId": "3d36c1f3-706a-473e-e151-08a8685dfb0f",
        "colab": {
          "base_uri": "https://localhost:8080/"
        }
      },
      "execution_count": 32,
      "outputs": [
        {
          "name": "stdout",
          "output_type": "stream",
          "text": [
            "나이를 입력하세요:31\n"
          ]
        }
      ]
    },
    {
      "cell_type": "markdown",
      "source": [
        "### **(2) 출력**\n",
        "---\n"
      ],
      "metadata": {
        "id": "sRuCgcK-JvNK"
      }
    },
    {
      "cell_type": "markdown",
      "source": [
        "* `print()` : 원하는 값을 출력 할 수 있습니다. \n",
        "\n",
        "```\n",
        "print(2)\n",
        "```\n"
      ],
      "metadata": {
        "id": "DTfxz37ERNu5"
      }
    },
    {
      "cell_type": "code",
      "source": [
        "print(5)"
      ],
      "metadata": {
        "id": "a7CnXb5sRf9R",
        "outputId": "e064a73d-fbfc-47ca-c434-9f5e5c01d64b",
        "colab": {
          "base_uri": "https://localhost:8080/"
        }
      },
      "execution_count": 9,
      "outputs": [
        {
          "output_type": "stream",
          "name": "stdout",
          "text": [
            "5\n"
          ]
        }
      ]
    },
    {
      "cell_type": "markdown",
      "source": [
        "문자 또한 출력 할 수 있습니다.\n",
        "\n",
        "```\n",
        "print(\"hello\")\n",
        "print('world')\n",
        "```\n"
      ],
      "metadata": {
        "id": "hP1Dg3r-RgFG"
      }
    },
    {
      "cell_type": "code",
      "source": [
        "print('hello')"
      ],
      "metadata": {
        "id": "_ZNiNuDdROf4",
        "outputId": "24257f7a-4ad3-4d3c-d80c-dc12f94bbeb8",
        "colab": {
          "base_uri": "https://localhost:8080/"
        }
      },
      "execution_count": 12,
      "outputs": [
        {
          "output_type": "stream",
          "name": "stdout",
          "text": [
            "hello\n"
          ]
        }
      ]
    },
    {
      "cell_type": "markdown",
      "source": [
        "여러개의 인풋을 함께 쉼표(  `,`  )를 이용해 출력할 수 있습니다.\n",
        "\n",
        "```\n",
        "print(5,  \"apples\")\n",
        "```"
      ],
      "metadata": {
        "id": "mZpdPQfzKCY-"
      }
    },
    {
      "cell_type": "code",
      "source": [
        "print(5 , \"apples\")"
      ],
      "metadata": {
        "id": "AIZD4839KB1R",
        "outputId": "4be3a596-115c-44f5-f0df-be74ca964297",
        "colab": {
          "base_uri": "https://localhost:8080/"
        }
      },
      "execution_count": 13,
      "outputs": [
        {
          "output_type": "stream",
          "name": "stdout",
          "text": [
            "5 apples\n"
          ]
        }
      ]
    },
    {
      "cell_type": "markdown",
      "source": [
        "#### **옵션**\n",
        "\n",
        "* `sep` : 출력하는 값들 사이를 어떤 값으로 채울지 지정할 수 있습니다. 디폴트 값은 스페이스(' ') 입니다.\n",
        "\n",
        "```\n",
        "print(\"Hello\", \"world\", 1, 2, 3, sep='*')\n",
        "```\n",
        "\n"
      ],
      "metadata": {
        "id": "NBoLmg06ROrn"
      }
    },
    {
      "cell_type": "code",
      "source": [
        "print(\"Hello\", \"world\", 1, 2, 3,sep=',')"
      ],
      "metadata": {
        "id": "W3O4k_RPKF7g",
        "outputId": "dbe48df2-0a57-4a69-c5d2-48f06a8ce7bc",
        "colab": {
          "base_uri": "https://localhost:8080/"
        }
      },
      "execution_count": 16,
      "outputs": [
        {
          "output_type": "stream",
          "name": "stdout",
          "text": [
            "Hello,world,1,2,3\n"
          ]
        }
      ]
    },
    {
      "cell_type": "markdown",
      "source": [
        "* `end` : 문장이 끝날 때 어떤 문자로 끝날 지 지정해 줍니다. 기본값은 줄바꿈(`\\`) 입니다.\n",
        "\n",
        "```\n",
        "print(\"Hello\", \"world\", 1, 2, 3, end='*')\n",
        "```"
      ],
      "metadata": {
        "id": "-kjP5YIuKGMl"
      }
    },
    {
      "cell_type": "code",
      "source": [
        "print(1, end='-')\n",
        "print(2)"
      ],
      "metadata": {
        "id": "FiKhVqs4RX1Q",
        "outputId": "f62cb90b-77f2-465b-846a-90a2352be30b",
        "colab": {
          "base_uri": "https://localhost:8080/"
        }
      },
      "execution_count": 21,
      "outputs": [
        {
          "output_type": "stream",
          "name": "stdout",
          "text": [
            "1-2\n"
          ]
        }
      ]
    },
    {
      "cell_type": "markdown",
      "source": [
        "## 문제풀이\n",
        "---"
      ],
      "metadata": {
        "id": "JPZeQrxgxJJF"
      }
    },
    {
      "cell_type": "markdown",
      "source": [
        "**예제 01**\n",
        "\n",
        "아래와 같이 직업을 입력하는 코드를 작성하세요\n",
        "\n",
        "```\n",
        ">> 직업을 입력하세요: \n",
        "```"
      ],
      "metadata": {
        "id": "4Hptj9hUxPr3"
      }
    },
    {
      "cell_type": "code",
      "source": [
        "input(\"직업을 입력하세요:\")"
      ],
      "metadata": {
        "id": "yvAcIx4L8Zwt",
        "outputId": "71490067-0903-4ac7-f05e-1c21fd0b4a17",
        "colab": {
          "base_uri": "https://localhost:8080/",
          "height": 54
        }
      },
      "execution_count": 30,
      "outputs": [
        {
          "name": "stdout",
          "output_type": "stream",
          "text": [
            "직업을 입력하세요:학생\n"
          ]
        },
        {
          "output_type": "execute_result",
          "data": {
            "text/plain": [
              "'학생'"
            ],
            "application/vnd.google.colaboratory.intrinsic+json": {
              "type": "string"
            }
          },
          "metadata": {},
          "execution_count": 30
        }
      ]
    },
    {
      "cell_type": "markdown",
      "source": [
        "\n",
        "**예제 02**\n",
        "\n",
        "아래와 같이 직업을 입력하면 소개글을 출력하는 코드를 작성하세요\n",
        "\n",
        "\n",
        "```\n",
        ">> 직업을 입력하세요: \n",
        ">> 당신의 직업은 강사 입니다.\n",
        "```\n"
      ],
      "metadata": {
        "id": "S6NDuF_TxNsj"
      }
    },
    {
      "cell_type": "code",
      "source": [
        "my_job=input(\"직업을 입력하세요:\")\n",
        "print(\"당신의 직업은\" , my_job, \"입니다\")\n"
      ],
      "metadata": {
        "id": "IUQi5TpfxLwc",
        "outputId": "b08dcef9-eb8f-422c-b192-ee5baa9c7d43",
        "colab": {
          "base_uri": "https://localhost:8080/"
        }
      },
      "execution_count": 43,
      "outputs": [
        {
          "output_type": "stream",
          "name": "stdout",
          "text": [
            "직업을 입력하세요:강사\n",
            "당신의 직업은 강사 입니다\n"
          ]
        }
      ]
    },
    {
      "cell_type": "markdown",
      "source": [
        "**예제 03**\n",
        "\n",
        "아래와 같이 직업을 입력하면 소개글을 출력하는 코드를 작성하세요\n",
        "\n",
        "```\n",
        ">> 직업을 입력하세요: \n",
        ">> 당신의 직업은 '강사' 입니다.\n",
        "```"
      ],
      "metadata": {
        "id": "stz9gemAxRNI"
      }
    },
    {
      "cell_type": "code",
      "source": [
        "my_job=input(\"직업을 입력하세요:\")\n",
        "print(\"당신의 직업은'\" , my_job , \"'입니다\" , sep='')"
      ],
      "metadata": {
        "id": "pBWMoVPC8aJ8",
        "outputId": "c133b1a1-6a7c-42b7-e450-11b5743afee8",
        "colab": {
          "base_uri": "https://localhost:8080/"
        }
      },
      "execution_count": 44,
      "outputs": [
        {
          "output_type": "stream",
          "name": "stdout",
          "text": [
            "직업을 입력하세요:강사\n",
            "당신의 직업은'강사'입니다\n"
          ]
        }
      ]
    },
    {
      "cell_type": "markdown",
      "source": [
        "**예제 04**\n",
        "\n",
        "아래와 같이 좋아하는 숫자를 출력하는 코드를 작성하세요\n",
        "\n",
        "```\n",
        ">> 내가 좋아하는 숫자: 7 \n",
        ">> 내가 좋아하는 숫자는 7 이다.\n",
        "```"
      ],
      "metadata": {
        "id": "107E31VkzTfm"
      }
    },
    {
      "cell_type": "code",
      "source": [
        "my_luck=input(\"내가 좋아하는 숫자:\")\n",
        "print(\"내가 좋아하는 숫자는\", my_luck , \"이다.\")"
      ],
      "metadata": {
        "id": "Hx0Ag-aAzTfm",
        "outputId": "d77567fc-836c-4890-c585-f1e7c7e3e913",
        "colab": {
          "base_uri": "https://localhost:8080/"
        }
      },
      "execution_count": 45,
      "outputs": [
        {
          "output_type": "stream",
          "name": "stdout",
          "text": [
            "내가 좋아하는 숫자:7\n",
            "내가 좋아하는 숫자는 7 이다.\n"
          ]
        }
      ]
    },
    {
      "cell_type": "markdown",
      "source": [
        "**예제 04**\n",
        "\n",
        "아래와 같이 코드를 작성하였는데 오류가 떴습니다. 이유를 설명하세요.\n",
        "\n",
        "```\n",
        "my_num = input(\"내가 좋아하는 숫자: \") \n",
        "print(my_num+10)\n",
        "```"
      ],
      "metadata": {
        "id": "optdPkAtzgjt"
      }
    },
    {
      "cell_type": "code",
      "source": [
        "my_num = input(\"내가 좋아하는 숫자: \") \n",
        "print(my_num)\n",
        "#my_num이 내가 좋아하는 숫자라서 +10을 안쳐도됨"
      ],
      "metadata": {
        "id": "4ioxaMK0zgjt",
        "outputId": "670b0479-8f8d-42a5-d3f4-86bd595510b3",
        "colab": {
          "base_uri": "https://localhost:8080/"
        }
      },
      "execution_count": 48,
      "outputs": [
        {
          "output_type": "stream",
          "name": "stdout",
          "text": [
            "내가 좋아하는 숫자: 10\n",
            "10\n"
          ]
        }
      ]
    },
    {
      "cell_type": "markdown",
      "source": [
        "**예제 05**\n",
        "\n",
        "화면에 아래 문장을 출력하세요.\n",
        "\n",
        "```\n",
        "nice day!\n",
        "```"
      ],
      "metadata": {
        "id": "BKug_5lN7NAS"
      }
    },
    {
      "cell_type": "code",
      "source": [
        "print(\"nice day!\")"
      ],
      "metadata": {
        "id": "4kuhxl6K8aiO",
        "outputId": "34faf8a5-86f3-46a9-ca89-19a7b7469385",
        "colab": {
          "base_uri": "https://localhost:8080/"
        }
      },
      "execution_count": 49,
      "outputs": [
        {
          "output_type": "stream",
          "name": "stdout",
          "text": [
            "nice day!\n"
          ]
        }
      ]
    },
    {
      "cell_type": "markdown",
      "source": [
        "\n",
        "**예제 06**\n",
        "\n",
        "아래 출력이 나오도록 `#코드작성` 부분을 채워 넣으세요  (코드 한줄로 완성하세요) \n",
        "\n",
        "```\n",
        ">> w1 = \"hello\"\n",
        ">> w2 = \"python\"\n",
        ">> w3 = 2\n",
        ">> #코드작성\n",
        ">> hello! python 2\n",
        "```"
      ],
      "metadata": {
        "id": "gqns5it27OZk"
      }
    },
    {
      "cell_type": "code",
      "source": [
        "w1 = \"hello\"\n",
        "w2 = \"python\"\n",
        "w3 = 2\n",
        "print(\"hello! python 2\")"
      ],
      "metadata": {
        "id": "HdB-Ptk58jNc",
        "outputId": "9d557d9b-9908-459e-d202-c2c32b329552",
        "colab": {
          "base_uri": "https://localhost:8080/"
        }
      },
      "execution_count": 79,
      "outputs": [
        {
          "output_type": "stream",
          "name": "stdout",
          "text": [
            "hello! python 2\n"
          ]
        }
      ]
    },
    {
      "cell_type": "markdown",
      "source": [
        "**예제 07**\n",
        "\n",
        "아래 출력이 나오도록 `#코드작성` 부분을 채워 넣으세요  (코드 한줄로 완성하세요) \n",
        "\n",
        "```\n",
        ">> w1 = '나의'\n",
        ">> w2 = '살던'\n",
        ">> w3 = '고향은'\n",
        ">> #코드작성\n",
        "나의~살던~고향은~\n",
        "```"
      ],
      "metadata": {
        "id": "ImHI8rZa7Ri2"
      }
    },
    {
      "cell_type": "code",
      "source": [
        "w1 = '나의'\n",
        "w2 = '살던'\n",
        "w3 = '고향은'\n",
        "print(\"나의~살던~고향은~\")"
      ],
      "metadata": {
        "id": "drP2EGod8jh3",
        "outputId": "83c6de96-1265-4835-8fed-0e9107c8ba68",
        "colab": {
          "base_uri": "https://localhost:8080/"
        }
      },
      "execution_count": 78,
      "outputs": [
        {
          "output_type": "stream",
          "name": "stdout",
          "text": [
            "나의~살던~고향은~\n"
          ]
        }
      ]
    },
    {
      "cell_type": "markdown",
      "source": [
        "**예제 08**\n",
        "\n",
        "아래 출력이 나오도록 `#코드작성` 부분을 채워 넣으세요 \n",
        "\n",
        "```\n",
        ">> w1 = '나의'\n",
        ">> w2 = '살던'\n",
        ">> w3 = '고향은'\n",
        ">> print(w1, end=#코드작성)\n",
        ">> print(w2, end=#코드작성)\n",
        ">> print(w3, end=#코드작성)\n",
        "나의 살던 고향은~\n",
        "```"
      ],
      "metadata": {
        "id": "IrIAl7T67TuF"
      }
    },
    {
      "cell_type": "code",
      "source": [
        "w1 = '나의'\n",
        "w2 = '살던'\n",
        "w3 = '고향은'\n",
        "print(w1, end=' ')\n",
        "print(w2, end=' ')\n",
        "print(w3, end='~')"
      ],
      "metadata": {
        "id": "TeaQAuiM8j3T",
        "outputId": "07ffd40c-4042-4e3c-e322-81bcaa37b31e",
        "colab": {
          "base_uri": "https://localhost:8080/"
        }
      },
      "execution_count": 77,
      "outputs": [
        {
          "output_type": "stream",
          "name": "stdout",
          "text": [
            "나의 살던 고향은~"
          ]
        }
      ]
    },
    {
      "cell_type": "markdown",
      "source": [
        "**예제 09**\n",
        "\n",
        "아래 출력이 나오도록 `#코드작성` 부분을 채워 넣으세요  (코드 한줄로 완성하세요) \n",
        "\n",
        "```\n",
        ">> w1 = '나의'\n",
        ">> w2 = '살던'\n",
        ">> w3 = '고향은'\n",
        ">> #코드작성\n",
        "나의**살던**고향은\n",
        "```\n"
      ],
      "metadata": {
        "id": "-Uw0J0yZ8WC8"
      }
    },
    {
      "cell_type": "code",
      "source": [
        "w1 = '나의'\n",
        "w2 = '살던'\n",
        "w3 = '고향은'\n",
        "print(w1,w2,w3)"
      ],
      "metadata": {
        "id": "uxf3akTY8kOg",
        "outputId": "909e439d-b5db-40d4-9c44-dea38bcf9e98",
        "colab": {
          "base_uri": "https://localhost:8080/"
        }
      },
      "execution_count": 100,
      "outputs": [
        {
          "output_type": "stream",
          "name": "stdout",
          "text": [
            "나의 살던 고향은\n"
          ]
        }
      ]
    },
    {
      "cell_type": "markdown",
      "source": [
        "**예제 10**\n",
        "\n",
        "아래 출력이 나오도록  `#코드작성` 부분을 채워 넣으세요 (코드 한줄로 완성하세요) \n",
        "\n",
        "```\n",
        ">> w1 = '나의'\n",
        ">> w2 = '살던'\n",
        ">> w3 = '고향은'\n",
        ">> #코드작성\n",
        "나의  \n",
        "살던    \n",
        "고향은  \n",
        "```"
      ],
      "metadata": {
        "id": "2mg9MMwq8W9Y"
      }
    },
    {
      "cell_type": "code",
      "source": [
        "w1 = '나의'\n",
        "w2 = '살던'\n",
        "w3 = '고향은'\n",
        "print(\"나의\")\n",
        "print(\"살던\")\n",
        "print(\"고향은\")"
      ],
      "metadata": {
        "id": "AVd52M5n8kkS",
        "outputId": "60efbc89-b9d1-472d-e7c5-18765327b0b5",
        "colab": {
          "base_uri": "https://localhost:8080/"
        }
      },
      "execution_count": 99,
      "outputs": [
        {
          "output_type": "stream",
          "name": "stdout",
          "text": [
            "나의\n",
            "살던\n",
            "고향은\n"
          ]
        }
      ]
    },
    {
      "cell_type": "markdown",
      "source": [
        "**예제 11**\n",
        "\n",
        "아래 코드의 결과를 예측하고 그 이유를 해설하세요\n",
        "\n",
        "```\n",
        "print('hello python\")\n",
        "```\n"
      ],
      "metadata": {
        "id": "HtnfpWOF8YV_"
      }
    },
    {
      "cell_type": "code",
      "source": [],
      "metadata": {
        "id": "FrRPaGaGj2qd"
      },
      "execution_count": null,
      "outputs": []
    },
    {
      "cell_type": "markdown",
      "source": [
        "**예제 12**\n",
        "\n",
        "아래와 같이 이름과 나이를 `input()`으로 받고 소개글을 출력하는 코드를 작성하세요\n",
        "\n",
        "```\n",
        ">> 이름 : 홍길동\n",
        ">> 나이: 20\n",
        "반갑습니다. 20살 홍길동 이라고 합니다. 잘 부탁드립니다!\n",
        "```"
      ],
      "metadata": {
        "id": "ZGtma_5Ej210"
      }
    },
    {
      "cell_type": "code",
      "source": [
        "my_name=input(\"이름:\")\n",
        "my_age=input(\"나이:\")\n",
        "print(\"반갑습니다. 20살 홍길동 이라고 합니다. 잘부탁드립니다!\")"
      ],
      "metadata": {
        "id": "qEfBFeNRj9ho",
        "outputId": "6824e8a9-4a8e-4c61-f2e8-9aa67acd8341",
        "colab": {
          "base_uri": "https://localhost:8080/"
        }
      },
      "execution_count": 102,
      "outputs": [
        {
          "output_type": "stream",
          "name": "stdout",
          "text": [
            "이름:홍길동\n",
            "나이:20\n",
            "반갑습니다. 20살 홍길동 이라고 합니다. 잘부탁드립니다!\n"
          ]
        }
      ]
    },
    {
      "cell_type": "markdown",
      "source": [
        "**예제 13**\n",
        "\n",
        "아래와 같이 특정 메뉴를 고르는 코드를 작성하세요\n",
        "\n",
        "```\n",
        ">> 아메리카노    라떼   에스프레소\n",
        ">> 메뉴를 선택하세요 : 라떼\n",
        "라떼를 선택하였습니다.\n",
        "```\n"
      ],
      "metadata": {
        "id": "jXwMlnnAj9uz"
      }
    },
    {
      "cell_type": "code",
      "source": [],
      "metadata": {
        "id": "nK_NWWQ8kAPZ"
      },
      "execution_count": null,
      "outputs": []
    },
    {
      "cell_type": "markdown",
      "source": [
        "\n",
        "**예제 14**\n",
        "\n",
        "아래와 같이 휴대폰 번호를 입력하면 전체 번호를 출력하는 코드를 작성하세요\n",
        "\n",
        "```\n",
        ">> 휴대폰 앞자리 : 010\n",
        ">> 휴대폰 중간자리: 1111\n",
        ">> 휴대폰 뒷자리: 1111\n",
        "제 번호는 010-1111-1111 입니다.\n",
        "```\n"
      ],
      "metadata": {
        "id": "QnVuK29mkBfo"
      }
    },
    {
      "cell_type": "code",
      "source": [],
      "metadata": {
        "id": "MTF9BCKnkGFN"
      },
      "execution_count": null,
      "outputs": []
    },
    {
      "cell_type": "markdown",
      "source": [
        "**예제 15**\n",
        "\n",
        "아래와 같이 두개의 값을 받아서 더하고 뺀 값을 알려주는 코드를 작성하세요\n",
        "\n",
        "```\n",
        ">> 첫번째 숫자를 입력하세요: 2\n",
        ">> 두번째 숫자를 입력하세요: 3\n",
        "두개의 숫자를 더한 값은 5 이고 뺀값은 -1 입니다.\n",
        "```"
      ],
      "metadata": {
        "id": "2h4D1hI1kIn-"
      }
    },
    {
      "cell_type": "code",
      "source": [],
      "metadata": {
        "id": "zeG6ZZfqnuSM"
      },
      "execution_count": null,
      "outputs": []
    }
  ]
}