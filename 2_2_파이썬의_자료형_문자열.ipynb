{
  "nbformat": 4,
  "nbformat_minor": 0,
  "metadata": {
    "colab": {
      "name": "2-2.파이썬의 자료형:문자열.ipynb",
      "provenance": [],
      "include_colab_link": true
    },
    "kernelspec": {
      "name": "python3",
      "display_name": "Python 3"
    },
    "language_info": {
      "name": "python"
    }
  },
  "cells": [
    {
      "cell_type": "markdown",
      "metadata": {
        "id": "view-in-github",
        "colab_type": "text"
      },
      "source": [
        "<a href=\"https://colab.research.google.com/github/kkkssshhh/SkillTreePython/blob/main/2_2_%ED%8C%8C%EC%9D%B4%EC%8D%AC%EC%9D%98_%EC%9E%90%EB%A3%8C%ED%98%95_%EB%AC%B8%EC%9E%90%EC%97%B4.ipynb\" target=\"_parent\"><img src=\"https://colab.research.google.com/assets/colab-badge.svg\" alt=\"Open In Colab\"/></a>"
      ]
    },
    {
      "cell_type": "markdown",
      "source": [
        "# 2-2.파이썬의 자료형:문자열\n",
        "---\n",
        "* 날짜:\n",
        "* 이름:김시후"
      ],
      "metadata": {
        "id": "kB5IciXEm6o4"
      }
    },
    {
      "cell_type": "markdown",
      "source": [
        "## 개념정리\n",
        "---\n",
        "\n",
        "이번 시간에 다룰 자료형은 문자열 (String) 자료형 입니다. 문자열 도한 숫자와 마찬가지로 기본적인 데이터 타입이며 광범위하게 사용됩니다. 문자열 문자들의 집합으로 이루어져 있습니다."
      ],
      "metadata": {
        "id": "4iN8NFzHRJ2D"
      }
    },
    {
      "cell_type": "markdown",
      "source": [
        "### (1) 문자열 생성하기\n",
        "\n",
        "\n",
        "* 작은따음표 `'` \n",
        "\n",
        "```\n",
        "a = 'hello'\n",
        "print(a), type(a)\n",
        "```\n",
        "\n",
        "\n",
        "\n",
        "\n",
        "\n"
      ],
      "metadata": {
        "id": "UKlkHH0IRL5h"
      }
    },
    {
      "cell_type": "code",
      "source": [
        "a='hello'\n",
        "type(a)"
      ],
      "metadata": {
        "id": "DwxmxrH90x6c",
        "outputId": "b5351b37-48ae-4cce-e447-211612398a91",
        "colab": {
          "base_uri": "https://localhost:8080/"
        }
      },
      "execution_count": 3,
      "outputs": [
        {
          "output_type": "execute_result",
          "data": {
            "text/plain": [
              "str"
            ]
          },
          "metadata": {},
          "execution_count": 3
        }
      ]
    },
    {
      "cell_type": "markdown",
      "source": [
        "* 큰따음표 `\"`\n",
        "\n",
        "```\n",
        "a = \"hello\"\n",
        "print(a), type(a)\n",
        "```\n"
      ],
      "metadata": {
        "id": "ftvQ5Pfk0yBf"
      }
    },
    {
      "cell_type": "code",
      "source": [
        "a=\"hello\"\n",
        "type(a)"
      ],
      "metadata": {
        "id": "phUxr9LP0y7Q",
        "outputId": "5e25fdde-f852-4c98-eb44-b7076c148938",
        "colab": {
          "base_uri": "https://localhost:8080/"
        }
      },
      "execution_count": 4,
      "outputs": [
        {
          "output_type": "execute_result",
          "data": {
            "text/plain": [
              "str"
            ]
          },
          "metadata": {},
          "execution_count": 4
        }
      ]
    },
    {
      "cell_type": "markdown",
      "source": [
        "\n",
        "* 작은따음표 세개 `'''`\n",
        "\n",
        "```\n",
        "a = '''hello'''\n",
        "print(a), type(a)\n",
        "```\n",
        "\n"
      ],
      "metadata": {
        "id": "RMpem26n0zBR"
      }
    },
    {
      "cell_type": "code",
      "source": [
        "a='''hello'''\n",
        "type(a)"
      ],
      "metadata": {
        "id": "oLRaHKFD0zsX",
        "outputId": "a0f82241-1deb-4524-b57a-a48f9238ce98",
        "colab": {
          "base_uri": "https://localhost:8080/"
        }
      },
      "execution_count": 5,
      "outputs": [
        {
          "output_type": "execute_result",
          "data": {
            "text/plain": [
              "str"
            ]
          },
          "metadata": {},
          "execution_count": 5
        }
      ]
    },
    {
      "cell_type": "markdown",
      "source": [
        "* 큰따음표 세개 `\"\"\"`\n",
        "\n",
        "```\n",
        "a = \"\"\"hello\"\"\"\n",
        "print(a), type(a)\n",
        "```\n"
      ],
      "metadata": {
        "id": "TZkDN8560z1N"
      }
    },
    {
      "cell_type": "code",
      "source": [
        "a=\"\"\"hello\"\"\"\n",
        "type(a)"
      ],
      "metadata": {
        "id": "vQMs78BT00c-",
        "outputId": "4f1528b4-77d0-4200-9183-6f2a26857e94",
        "colab": {
          "base_uri": "https://localhost:8080/"
        }
      },
      "execution_count": 6,
      "outputs": [
        {
          "output_type": "execute_result",
          "data": {
            "text/plain": [
              "str"
            ]
          },
          "metadata": {},
          "execution_count": 6
        }
      ]
    },
    {
      "cell_type": "markdown",
      "source": [
        "#### **작은따음표나 큰따음표가 포함된 문자열**\n",
        "\n",
        "위에서 우리는 작은따음표나 큰따음표를 이용해서 문자열을 생성하였습니다. 그런데 언제 작은따음표를 쓰고, 큰따음표를 써야할까요? 대부분의 경우 사용자의 편의에 맞춰서 사용하시면 되지만 특정 상황에 따라 적절히 선택해서 문자열을 생성해야 합니다. \n",
        "\n",
        "* 작은따음표 포함시키기\n",
        "\n",
        "```\n",
        "a = \"It's nice day!\"\n",
        "print(a)\n",
        "```"
      ],
      "metadata": {
        "id": "-6nvbRvd02kK"
      }
    },
    {
      "cell_type": "code",
      "source": [
        "a=\"It's nice day!\"\n",
        "print(a)"
      ],
      "metadata": {
        "id": "7AfuxTvH4tdg",
        "outputId": "094fa45b-b903-458d-ee2f-6164315a3177",
        "colab": {
          "base_uri": "https://localhost:8080/"
        }
      },
      "execution_count": 7,
      "outputs": [
        {
          "output_type": "stream",
          "name": "stdout",
          "text": [
            "It's nice day!\n"
          ]
        }
      ]
    },
    {
      "cell_type": "markdown",
      "source": [
        "* 큰따음표 포함시키기\n",
        "\n",
        "```\n",
        "a = 'he said, \"nice day!\"'\n",
        "print(a)\n",
        "```"
      ],
      "metadata": {
        "id": "MHzcVeyz5IzP"
      }
    },
    {
      "cell_type": "code",
      "source": [
        "a='he said,\"nice day!\"'\n",
        "print(a)"
      ],
      "metadata": {
        "id": "GZR3Ujq95QRk",
        "outputId": "2d3e34a2-146d-4113-853b-822678e8a3c4",
        "colab": {
          "base_uri": "https://localhost:8080/"
        }
      },
      "execution_count": 8,
      "outputs": [
        {
          "output_type": "stream",
          "name": "stdout",
          "text": [
            "he said,\"nice day!\"\n"
          ]
        }
      ]
    },
    {
      "cell_type": "markdown",
      "source": [
        "#### **연속된 따옴표의 사용**\n",
        "\n",
        "연속된 따옴표는 표현의 자유도가 높습니다. 우선 여러줄의 문자열을 생성할 수 있습니다. \n",
        "\n",
        "* 작음 따옴표 / 큰 따옴표\n",
        "\n",
        "따옴표 한개를 사용할 때 줄 바꿈을 적용하면 에러 메시지가 뜹니다.\n",
        "\n",
        "```\n",
        "a = 'nice\n",
        "day !'\n",
        "```\n",
        "\n"
      ],
      "metadata": {
        "id": "opbfNksrAq4P"
      }
    },
    {
      "cell_type": "code",
      "source": [
        "a= 'nice\n",
        "day !'"
      ],
      "metadata": {
        "id": "8wPrBcJS5i5x",
        "outputId": "dbcf82b5-46b3-4d19-c8d1-5c09af59f66e",
        "colab": {
          "base_uri": "https://localhost:8080/",
          "height": 137
        }
      },
      "execution_count": 10,
      "outputs": [
        {
          "output_type": "error",
          "ename": "SyntaxError",
          "evalue": "ignored",
          "traceback": [
            "\u001b[0;36m  File \u001b[0;32m\"<ipython-input-10-12672abff44e>\"\u001b[0;36m, line \u001b[0;32m1\u001b[0m\n\u001b[0;31m    a= 'nice\u001b[0m\n\u001b[0m            ^\u001b[0m\n\u001b[0;31mSyntaxError\u001b[0m\u001b[0;31m:\u001b[0m EOL while scanning string literal\n"
          ]
        }
      ]
    },
    {
      "cell_type": "markdown",
      "source": [
        "* 작음 따옴표 / 큰 따옴표 세개\n",
        "\n",
        "따음표 세개를 쓰면 줄 바꿈이 가능합니다.\n",
        "\n",
        "```\n",
        "a = '''\n",
        "nice\n",
        "day !\n",
        "'''\n",
        "```\n"
      ],
      "metadata": {
        "id": "cWLVpy9R5oEq"
      }
    },
    {
      "cell_type": "code",
      "source": [
        "a='''\n",
        "nice\n",
        "day !\n",
        "'''\n",
        "print(a)"
      ],
      "metadata": {
        "id": "ovhFYYpI5sd_",
        "outputId": "a2abccbc-b58d-4859-c2a0-bde199f682ea",
        "colab": {
          "base_uri": "https://localhost:8080/"
        }
      },
      "execution_count": 12,
      "outputs": [
        {
          "output_type": "stream",
          "name": "stdout",
          "text": [
            "\n",
            "nice\n",
            "day !\n",
            "\n"
          ]
        }
      ]
    },
    {
      "cell_type": "markdown",
      "source": [
        "또한 문자열 안에 큰따음표나 작은따옴표를 자유롭게 포함할 수 있습니다.\n",
        "\n",
        "```\n",
        "a = '''\n",
        "It's\n",
        "nice\n",
        "day !\n",
        "'''\n",
        "```"
      ],
      "metadata": {
        "id": "II4NczMb5yYl"
      }
    },
    {
      "cell_type": "code",
      "source": [
        "a='''\n",
        "it's\n",
        "nice\n",
        "day !\n",
        "'''\n",
        "print(a)"
      ],
      "metadata": {
        "id": "cApA3Fwn5tbJ",
        "outputId": "edd6465e-e10d-40a2-fa6d-b4670d267900",
        "colab": {
          "base_uri": "https://localhost:8080/"
        }
      },
      "execution_count": 13,
      "outputs": [
        {
          "output_type": "stream",
          "name": "stdout",
          "text": [
            "\n",
            "it's\n",
            "nice\n",
            "day !\n",
            "\n"
          ]
        }
      ]
    },
    {
      "cell_type": "markdown",
      "source": [
        "### (2) 이스케이프 코드\n",
        "\n",
        "이스케이프 코드는 프로그래밍할 때 사용할 수 있도록 미리 만들어 둔 문자조합 입니다. 출력물을 보기 좋게 정렬하는 용도로 사용되며 주로 사용되는 이스케이프 코드를 정리하면 아래와 같습니다. \n",
        "\n",
        "* `\\n` : 문자열 내에서 줄을 바꿉니다.\n",
        "\n",
        "```\n",
        "a = 'nice\\nday!'\n",
        "print(a)\n",
        "```\n"
      ],
      "metadata": {
        "id": "8qoGgPDT55BR"
      }
    },
    {
      "cell_type": "code",
      "source": [
        "a='nice\\nday!'\n",
        "print(a)"
      ],
      "metadata": {
        "id": "4n7IDBuq5-hv",
        "outputId": "5f963667-aa9f-426b-baa4-73daa8db92d0",
        "colab": {
          "base_uri": "https://localhost:8080/"
        }
      },
      "execution_count": 14,
      "outputs": [
        {
          "output_type": "stream",
          "name": "stdout",
          "text": [
            "nice\n",
            "day!\n"
          ]
        }
      ]
    },
    {
      "cell_type": "markdown",
      "source": [
        "* `\\t` : 문자열 내에서 탭 간격만큼 띄어쓰기 합니다.\n",
        "\n",
        "```\n",
        "a = 'nice\\tday!'\n",
        "print(a)\n",
        "```"
      ],
      "metadata": {
        "id": "LcAJr9hK6Api"
      }
    },
    {
      "cell_type": "code",
      "source": [
        "a='nice\\tday!'\n",
        "print(a)"
      ],
      "metadata": {
        "id": "esQ1Vclb6EPw",
        "outputId": "cb7893a7-b9e6-4369-a7b5-6d316b9eabbd",
        "colab": {
          "base_uri": "https://localhost:8080/"
        }
      },
      "execution_count": 15,
      "outputs": [
        {
          "output_type": "stream",
          "name": "stdout",
          "text": [
            "nice\tday!\n"
          ]
        }
      ]
    },
    {
      "cell_type": "markdown",
      "source": [
        "* `\\\\` : 문자열 내에서 `\\` 를 문자 그대로 표시합니다.\n",
        "\n",
        "```\n",
        "a = 'nice\\\\day!'\n",
        "print(a)\n",
        "```"
      ],
      "metadata": {
        "id": "WUaMrp516Gpt"
      }
    },
    {
      "cell_type": "code",
      "source": [
        "a='nice\\\\day!'\n",
        "print(a)"
      ],
      "metadata": {
        "id": "-dIGYh-k6FDJ",
        "outputId": "61f27c62-ab62-4e66-a3cb-5471c1838461",
        "colab": {
          "base_uri": "https://localhost:8080/"
        }
      },
      "execution_count": 16,
      "outputs": [
        {
          "output_type": "stream",
          "name": "stdout",
          "text": [
            "nice\\day!\n"
          ]
        }
      ]
    },
    {
      "cell_type": "markdown",
      "source": [
        "* `\\'` : 문자열 내에서 작은 따음표 `'` 를 문자 그대로 표시합니다.\n",
        "\n",
        "```\n",
        "a = 'nice\\'day!'\n",
        "print(a)\n",
        "```"
      ],
      "metadata": {
        "id": "4xbxgNT06Pz6"
      }
    },
    {
      "cell_type": "code",
      "source": [
        "a='nice\\'day!'\n",
        "print(a)"
      ],
      "metadata": {
        "id": "89Fv1jo_6Pz7",
        "outputId": "7a05011b-021b-4b07-dba9-e50804a0fe22",
        "colab": {
          "base_uri": "https://localhost:8080/"
        }
      },
      "execution_count": 18,
      "outputs": [
        {
          "output_type": "stream",
          "name": "stdout",
          "text": [
            "nice'day!\n"
          ]
        }
      ]
    },
    {
      "cell_type": "markdown",
      "source": [
        "* `\\\"` : 문자열 내에서 큰따음표 `\"` 를 문자 그대로 표시합니다.\n",
        "\n",
        "```\n",
        "a = 'nice\\\"day!'\n",
        "print(a)\n",
        "```"
      ],
      "metadata": {
        "id": "QSzXTGff7uw4"
      }
    },
    {
      "cell_type": "code",
      "source": [
        "a='nice\\\"day!'\n",
        "print(a)"
      ],
      "metadata": {
        "id": "R40_NPU47uw-",
        "outputId": "b072e3da-240a-4ce4-e6d0-934c29a1d516",
        "colab": {
          "base_uri": "https://localhost:8080/"
        }
      },
      "execution_count": 19,
      "outputs": [
        {
          "output_type": "stream",
          "name": "stdout",
          "text": [
            "nice\"day!\n"
          ]
        }
      ]
    },
    {
      "cell_type": "markdown",
      "source": [
        "### (3) 문자열 포매팅(Formatting)\n",
        "\n",
        "문자열 안에 변수가 포함된 경우를 생각해 보겠습니다. \n",
        "\n",
        "```\n",
        "It's nice day!\n",
        "It's good day!\n",
        "It's happy day!\n",
        "```\n",
        "\n",
        "위 문장들의 공통 값은 `It's --- day` 이고 변하는 값들은 `nice`, `good`, `happy` 가 됩니다. \n",
        "\n",
        "이 때 변하는 값들을 문장 내에서 처리해 주는 것이 포매팅 입니다. 아직까진 어떤 의미인지 잘 이해가 안갈 수 있습니다. 여러가지 방법들을 하나씩 따라하면서 감을 잡아 봅시다.\n",
        "\n"
      ],
      "metadata": {
        "id": "yKAeHMtt74ad"
      }
    },
    {
      "cell_type": "markdown",
      "source": [
        "####  **`%`  이용하기**\n",
        "\n",
        "변수는 `a` 이고 전체 문장은 `s`입니다. 문장내에 변수를 `%s`로 두고 문장 끝에 %s에 들어갈 것이 `a`임을 표시해 줍니다.\n",
        "\n",
        "```\n",
        "a = 'nice'\n",
        "s = \"It's %s day!\"%(a)\n",
        "print(s)\n",
        "```\n",
        "\n"
      ],
      "metadata": {
        "id": "QgMmtjem_VIT"
      }
    },
    {
      "cell_type": "code",
      "source": [
        "a = 'nice'\n",
        "s = \"It's %s day!\"%(a)\n",
        "print(s)"
      ],
      "metadata": {
        "id": "LOPlbk426N__",
        "outputId": "04b8cc93-8558-4858-e2b9-73b1c0c0ee98",
        "colab": {
          "base_uri": "https://localhost:8080/"
        }
      },
      "execution_count": 64,
      "outputs": [
        {
          "output_type": "stream",
          "name": "stdout",
          "text": [
            "It's nice day!\n"
          ]
        }
      ]
    },
    {
      "cell_type": "markdown",
      "source": [
        "변수 `b`와 `c`를 추가하고 각각 `good`, `happy`로 바인딩 합시다. 문자 끝에 무엇을 넣어줄지 정해 다양한 변수를 지정할 수 있습니다. \n",
        "\n",
        "```\n",
        "a = 'nice'\n",
        "b = 'good'\n",
        "c = 'happy'\n",
        "s = \"It's %s day!\"%(b)\n",
        "print(s)\n",
        "```"
      ],
      "metadata": {
        "id": "7kep77Ls__Q2"
      }
    },
    {
      "cell_type": "code",
      "source": [
        "a = 'nice'\n",
        "b = 'good'\n",
        "c = 'happy'\n",
        "s = \"It's %s day!\"%(b)\n",
        "print(s)"
      ],
      "metadata": {
        "id": "9edAonWp_6SH",
        "outputId": "e169c4a3-fcbb-4dc8-f1e8-19a8b76e7296",
        "colab": {
          "base_uri": "https://localhost:8080/"
        }
      },
      "execution_count": 79,
      "outputs": [
        {
          "output_type": "stream",
          "name": "stdout",
          "text": [
            "It's good day!\n"
          ]
        }
      ]
    },
    {
      "cell_type": "markdown",
      "source": [
        "두개 이상의 변수도 다룰 수 있습니다. \n",
        "\n",
        "```\n",
        "a = 'nice'\n",
        "b = 'good'\n",
        "c = 'happy'\n",
        "s = \"It's %s, %s, and %s day!\"%(a, b, c)\n",
        "print(s)\n",
        "```"
      ],
      "metadata": {
        "id": "CaR1T3S7Aaw3"
      }
    },
    {
      "cell_type": "code",
      "source": [
        "a = 'nice'\n",
        "b = 'good'\n",
        "c = 'happy'\n",
        "s = \"It's %s, %s, and %s day!\"%(a, b, c)\n",
        "print(s)"
      ],
      "metadata": {
        "id": "2hH45AgVAV03",
        "outputId": "74b1e57e-7023-47fb-9d69-afbc9438fb92",
        "colab": {
          "base_uri": "https://localhost:8080/"
        }
      },
      "execution_count": 80,
      "outputs": [
        {
          "output_type": "stream",
          "name": "stdout",
          "text": [
            "It's nice, good, and happy day!\n"
          ]
        }
      ]
    },
    {
      "cell_type": "markdown",
      "source": [
        "이 때 문장 내에 `%s`로 변수를 지칭하는 것을 볼 수 있습니다. `s`가 뜻하는 것은 `string`입니다. 즉, 우리가 변수로 사용할 `a`, `b`, `c`가 문자열(string) 이기 때문에 `%s`로 문장 내에 변수를 표시합니다. \n",
        "\n",
        "그렇다면 문자열이 아닌 정수일 때는 어떻게 표시할까요? 이 때는 `%d`로 표시합니다.\n",
        "\n",
        "\n",
        "\n",
        "```\n",
        "a = 2\n",
        "s = '%d apples.'%(a)\n",
        "print(s)\n",
        "```\n",
        "\n"
      ],
      "metadata": {
        "id": "XXcIbOqRApxi"
      }
    },
    {
      "cell_type": "code",
      "source": [
        "a = 2\n",
        "s = '%d apples.'%(a)\n",
        "print(s)"
      ],
      "metadata": {
        "id": "cF5rP4FBAjpa",
        "outputId": "ac9151f1-c316-4807-b02d-cadf34b28d64",
        "colab": {
          "base_uri": "https://localhost:8080/"
        }
      },
      "execution_count": 88,
      "outputs": [
        {
          "output_type": "stream",
          "name": "stdout",
          "text": [
            "2 apples.\n"
          ]
        }
      ]
    },
    {
      "cell_type": "markdown",
      "source": [
        "이 밖에 `a`의 자료형에 따라 적절한 코드를 사용합니다. \n",
        "\n",
        "| 코드 | 설명 |\n",
        "| --|-- |\n",
        "|%s|\t문자열(String)|\n",
        "|%c|\t문자 1개(character)|\n",
        "|%d|\t정수(Integer)|\n",
        "|%f\t|부동소수(floating-point)|\n",
        "|%o\t|8진수|\n",
        "|%x\t|16진수|\n",
        "|%%\t|Literal % (문자 % 자체)|\n",
        "\n",
        "이제 문자열 포매팅에 대한 기본적인 이해는 되었습니다. 더 많은 포매팅 방법을 알아보고 본인에게 가장 편리한 방법을 사용해 보도록 합시다."
      ],
      "metadata": {
        "id": "2dSPARaCBPIf"
      }
    },
    {
      "cell_type": "markdown",
      "source": [
        "#### **`.format()` 이용하기**\n",
        "\n",
        "\n",
        "이 방식에서 문자열 안의 변수는 `{}` 로 표현됩니다. 그리고 어떤 변수가 오는 지는 `.format()`을 이용합니다. 이 방식은 이전과 달리 변수의 타입에 관계없이 항상 `{}` 기호를 써서 나타냅니다. \n",
        "\n",
        "\n",
        "```\n",
        "a = 'nice'\n",
        "s = \"It's {} day!\".format(a)\n",
        "print(s)\n",
        "```\n"
      ],
      "metadata": {
        "id": "WbPuzriMBSsB"
      }
    },
    {
      "cell_type": "code",
      "source": [],
      "metadata": {
        "id": "lU2dMDiNEFac"
      },
      "execution_count": null,
      "outputs": []
    },
    {
      "cell_type": "markdown",
      "source": [
        "* 여러개의 변수\n",
        "\n",
        "```\n",
        "a = 3\n",
        "b = 'apples'\n",
        "s = 'there are {} {}'.format(a, b)\n",
        "print(s)\n",
        "```\n"
      ],
      "metadata": {
        "id": "CiYaXRPVBSt-"
      }
    },
    {
      "cell_type": "code",
      "source": [],
      "metadata": {
        "id": "8PiiujY3BK13"
      },
      "execution_count": null,
      "outputs": []
    },
    {
      "cell_type": "markdown",
      "source": [
        "* 괄호 인덱싱 : 변수를 나타내는 괄호 `{}` 안에 번호로 인덱싱을 할 수 있습니다.  \n",
        "\n",
        "\n",
        "```\n",
        "a = '3'\n",
        "b = 'apples'\n",
        "c = 'oranges'\n",
        "s = 'there are {0} {1} and {0} {2}'.format(a, b, c)\n",
        "print(s)\n",
        "``` \n",
        "이 때 `{0}`, `{1}`, `{2}` 는 차례대로 `a`, `b`, `c` 가 됩니다.\n"
      ],
      "metadata": {
        "id": "jnIYWLtfEcX0"
      }
    },
    {
      "cell_type": "code",
      "source": [],
      "metadata": {
        "id": "jVLUKFNmEX--"
      },
      "execution_count": null,
      "outputs": []
    },
    {
      "cell_type": "markdown",
      "source": [
        "* 괄호 태그 : 변수를 나타내는 괄호 `{}` 안에 태그로 인덱싱을 할 수 있습니다.\n",
        "\n",
        "```\n",
        "a = '3'\n",
        "b = 'apples'\n",
        "c = 'oranges'\n",
        "s = 'there are {num} {fruit1} and {num} {fruit2}'.format(num=a, fruit1=b, fruit2=c)\n",
        "print(s)\n",
        "``` \n"
      ],
      "metadata": {
        "id": "9kXyc4KFEwhD"
      }
    },
    {
      "cell_type": "code",
      "source": [
        "a = '3'\n",
        "b = 'apples'\n",
        "c = 'oranges'\n",
        "s = 'there are {num} {fruit1} and {num} {fruit2}'.format(num=a, fruit1=b, fruit2=c)\n",
        "print(s)"
      ],
      "metadata": {
        "id": "7t4bGJuvEnRx",
        "outputId": "54e655c0-daba-4ec7-de76-d172493abd0f",
        "colab": {
          "base_uri": "https://localhost:8080/"
        }
      },
      "execution_count": 134,
      "outputs": [
        {
          "output_type": "stream",
          "name": "stdout",
          "text": [
            "there are 3 apples and 3 oranges\n"
          ]
        }
      ]
    },
    {
      "cell_type": "markdown",
      "source": [
        "#### **f-string 문법**\n",
        "\n",
        "\n",
        "Python 3.6 이상의 버전부터 f-string 문법을 사용할 수 있게 되었습니다. 문자열 앞에 접두사 `f`를 붙이고 문장내에 변수를 중괄호 `{}`로 처리합니다. 그리고 어떤 변수가 들어갈지를 중괄호 `{}` 안에 바로 작성해줍니다. \n",
        "\n",
        " \n",
        "\n",
        "```\n",
        "a = '3'\n",
        "b = 'apples'\n",
        "c = 'oranges'\n",
        "s = f'there are {a} {b} and {a} {c}'\n",
        "print(s)\n",
        "```\n"
      ],
      "metadata": {
        "id": "bYUxh00NFHWZ"
      }
    },
    {
      "cell_type": "code",
      "source": [
        "a='3'\n",
        "b='apples'\n",
        "c='oranges'\n",
        "s=f'there are {a} {b} and {a} {c}'\n",
        "print(s)"
      ],
      "metadata": {
        "id": "N1XFYDRfFHWZ",
        "outputId": "41ce9dcc-03fd-4a61-df42-95a2eb559a49",
        "colab": {
          "base_uri": "https://localhost:8080/"
        }
      },
      "execution_count": 20,
      "outputs": [
        {
          "output_type": "stream",
          "name": "stdout",
          "text": [
            "there are 3 apples and 3 oranges\n"
          ]
        }
      ]
    },
    {
      "cell_type": "markdown",
      "source": [
        "### (4) 인덱싱과 슬라이싱\n",
        "\n",
        "\n"
      ],
      "metadata": {
        "id": "OW5u5aPEIGIP"
      }
    },
    {
      "cell_type": "markdown",
      "source": [
        "#### **인덱싱 (indexing)**\n",
        "\n",
        "문자열의 인덱싱(indexing) 이란 주어진 문자열의 특정 값의 위치를 가리키는 것입니다. 파이썬은 `0`부터 시작함을 유의하세요. 아래 그림과 같이 첫번째 문자는 `0`번째 index를 가지고 순차적으로 증가합니다. \n",
        "\n",
        "![](https://github.com/yebiny/SkillTreePython/blob/main/imgs/2-2-1.PNG?raw=true)\n",
        "\n",
        "* 양수 인덱스 : 양수 값에 위치한 문자를 인덱싱합니다.\n",
        "\n",
        "```\n",
        "a = 'nice day!'\n",
        "print(a[5])\n",
        "```"
      ],
      "metadata": {
        "id": "CiCymDWPIJyd"
      }
    },
    {
      "cell_type": "code",
      "source": [
        "a='nice day!'\n",
        "print(a[5])"
      ],
      "metadata": {
        "id": "3zLNBfeRFATW",
        "outputId": "a722e9f4-4900-4a15-a60d-ce0447ea2789",
        "colab": {
          "base_uri": "https://localhost:8080/"
        }
      },
      "execution_count": 21,
      "outputs": [
        {
          "output_type": "stream",
          "name": "stdout",
          "text": [
            "d\n"
          ]
        }
      ]
    },
    {
      "cell_type": "markdown",
      "source": [
        "* 음수 인덱스 : 마지막 문자는 -1 이고 마지막에서 두번째는 -2 가 됩니다. \n",
        "\n",
        "```\n",
        "a = 'nice day!'\n",
        "print(a[-1])\n",
        "print(a[-4])\n",
        "```"
      ],
      "metadata": {
        "id": "vOiUFzc3IQOj"
      }
    },
    {
      "cell_type": "code",
      "source": [
        "a='nice day!'\n",
        "print(a[-1])\n",
        "print(a[-4])"
      ],
      "metadata": {
        "id": "GoQLluZSIOpI",
        "outputId": "c345a97e-28b8-4914-8021-7ce150910824",
        "colab": {
          "base_uri": "https://localhost:8080/"
        }
      },
      "execution_count": 22,
      "outputs": [
        {
          "output_type": "stream",
          "name": "stdout",
          "text": [
            "!\n",
            "d\n"
          ]
        }
      ]
    },
    {
      "cell_type": "markdown",
      "source": [
        "#### **슬라이싱 (Slicing)**\n",
        "\n",
        "문자열의 슬라이싱(Slicing) 은 문자열 내의 특정 구간을 잘라내는 것입니다. 슬라이싱에서의 순서는 인덱싱과 마찬가지로 0부터 시작합니다. 하지만 슬라이싱의 인덱스는 문자열의 위치를 가리키는게 아니라 문자열 사이사이의 칸막이를 가리키는 것으로 이해하셔야 헷갈리지 않습니다. 아래 그림을 참고하세요.\n",
        "\n",
        "![](https://github.com/yebiny/SkillTreePython/blob/main/imgs/2-2-2.PNG?raw=true)\n",
        "\n",
        "*  `a[start:end]` : 문자열 `a`의 `start` 부터 `end`까지 구간을 슬라이싱합니다.\n",
        "\n",
        "```\n",
        "a = 'nice day!'\n",
        "print(a[1:4])\n",
        "```"
      ],
      "metadata": {
        "id": "HkFYQ6riIswz"
      }
    },
    {
      "cell_type": "code",
      "source": [
        "a='nice day!'\n",
        "print(a[1:4])"
      ],
      "metadata": {
        "id": "CuP424IgIT5Q",
        "outputId": "ab76e977-5f2e-4a8e-8115-f8f2df4b3e71",
        "colab": {
          "base_uri": "https://localhost:8080/"
        }
      },
      "execution_count": 23,
      "outputs": [
        {
          "output_type": "stream",
          "name": "stdout",
          "text": [
            "ice\n"
          ]
        }
      ]
    },
    {
      "cell_type": "markdown",
      "source": [
        "만약  `start` 나 `end` 값을 적지 않으면 어떻게 될까요?\n",
        "\n",
        "```\n",
        "a = 'nice day!'\n",
        "print(a[:4])\n",
        "```\n",
        "\n",
        "`start` 값을 적지 않았지만 자동으로 `0`으로 인식하여 슬라이싱 합니다. 반대로 `end` 값을 적지 않으면 마지막(칸막이)을 뜻하는 `-1`이 인식됩니다."
      ],
      "metadata": {
        "id": "CG4gOxN8Iznp"
      }
    },
    {
      "cell_type": "code",
      "source": [
        "a='nice day!'\n",
        "print(a[:4])"
      ],
      "metadata": {
        "id": "uaoZZQFIIyZ2",
        "outputId": "1352a24a-1c79-4dac-e327-fa060e2fd84f",
        "colab": {
          "base_uri": "https://localhost:8080/"
        }
      },
      "execution_count": 24,
      "outputs": [
        {
          "output_type": "stream",
          "name": "stdout",
          "text": [
            "nice\n"
          ]
        }
      ]
    },
    {
      "cell_type": "code",
      "source": [
        "a='nice day!'\n",
        "print(a[3:6])"
      ],
      "metadata": {
        "id": "hG8wkxFPOlkS",
        "outputId": "872c01af-d7a9-429f-e7e4-df7fbc36bd39",
        "colab": {
          "base_uri": "https://localhost:8080/"
        }
      },
      "execution_count": 25,
      "outputs": [
        {
          "output_type": "stream",
          "name": "stdout",
          "text": [
            "e d\n"
          ]
        }
      ]
    },
    {
      "cell_type": "markdown",
      "source": [
        "\n",
        "따라서 아래 코드는 처음부터 끝까지 슬라이싱 하라는 것과 동일합니다. \n",
        "\n",
        "```\n",
        "a = 'nice day!'\n",
        "print(a[:])\n",
        "```\n",
        "\n",
        "\n"
      ],
      "metadata": {
        "id": "W5j566GxI4hc"
      }
    },
    {
      "cell_type": "code",
      "source": [
        "a='nice day!'\n",
        "print(a[:])"
      ],
      "metadata": {
        "id": "L9vlbxXuI2Fd",
        "outputId": "48799b34-71d9-41a7-c88a-405712a05259",
        "colab": {
          "base_uri": "https://localhost:8080/"
        }
      },
      "execution_count": 26,
      "outputs": [
        {
          "output_type": "stream",
          "name": "stdout",
          "text": [
            "nice day!\n"
          ]
        }
      ]
    },
    {
      "cell_type": "markdown",
      "source": [
        "*  `a[start:end:step]` : 문자열 `a`의 `start` 부터 `end`까지 구간을 스텝 `step` 간격으로 슬라이싱합니다.\n",
        "\n",
        "\n",
        "```\n",
        "a = 'ababab'\n",
        "a[::2]\n",
        "```\n"
      ],
      "metadata": {
        "id": "UCiwcGTXWPOT"
      }
    },
    {
      "cell_type": "code",
      "source": [
        "a='ababab'\n",
        "a[::2]"
      ],
      "metadata": {
        "id": "x0SdKhARWVUV",
        "outputId": "e5d06dc5-a1eb-43fe-852e-dcf8a87d2a54",
        "colab": {
          "base_uri": "https://localhost:8080/",
          "height": 35
        }
      },
      "execution_count": 109,
      "outputs": [
        {
          "output_type": "execute_result",
          "data": {
            "text/plain": [
              "'aaa'"
            ],
            "application/vnd.google.colaboratory.intrinsic+json": {
              "type": "string"
            }
          },
          "metadata": {},
          "execution_count": 109
        }
      ]
    },
    {
      "cell_type": "markdown",
      "source": [
        "* `a[::-1]` : 문자열 `a`를 거꾸로 출력합니다.\n",
        "\n",
        "```\n",
        "a = 'abc'\n",
        "a[::-1]\n",
        "```"
      ],
      "metadata": {
        "id": "LTcto31iYFmu"
      }
    },
    {
      "cell_type": "code",
      "source": [
        "a='abc'\n",
        "a[::-1]"
      ],
      "metadata": {
        "id": "mFmT_5MPYNHd",
        "outputId": "6eb116c8-0d59-4e2d-f347-874cf07f2b74",
        "colab": {
          "base_uri": "https://localhost:8080/",
          "height": 35
        }
      },
      "execution_count": 29,
      "outputs": [
        {
          "output_type": "execute_result",
          "data": {
            "text/plain": [
              "'cba'"
            ],
            "application/vnd.google.colaboratory.intrinsic+json": {
              "type": "string"
            }
          },
          "metadata": {},
          "execution_count": 29
        }
      ]
    },
    {
      "cell_type": "markdown",
      "source": [
        "### (5) 문자열 연산\n",
        "\n",
        "문자열도 수치자료형처럼 몇가지 연산이 가능합니다. 더하기 `+`와 곱셈 `*`을 사용할 수 있습니다.\n"
      ],
      "metadata": {
        "id": "I8LnkqP8KsaZ"
      }
    },
    {
      "cell_type": "markdown",
      "source": [
        "\n",
        "#### **더하기**\n",
        "\n",
        "* `a+b` : 문자열 `a`와 문자열 `b`를 하나의 문자열로 변환합니다.\n",
        "\n",
        "```\n",
        "a = 'nice'\n",
        "b = 'day!'\n",
        "print(a+b)\n",
        "```\n"
      ],
      "metadata": {
        "id": "8aUbNRGiKdE9"
      }
    },
    {
      "cell_type": "code",
      "source": [
        "a='nice'\n",
        "b='day!'\n",
        "print(a+b)"
      ],
      "metadata": {
        "id": "--dLtQdXKSb2",
        "outputId": "569dcb93-c974-4afb-f04c-96a8df693ef0",
        "colab": {
          "base_uri": "https://localhost:8080/"
        }
      },
      "execution_count": 34,
      "outputs": [
        {
          "output_type": "stream",
          "name": "stdout",
          "text": [
            "niceday!\n"
          ]
        }
      ]
    },
    {
      "cell_type": "markdown",
      "source": [
        "#### **곱하기**\n",
        "\n",
        "* `a*b` 문자열 `a`를 정수 `b`번 반복합니다. \n",
        "\n",
        "```\n",
        "a = 'nice'\n",
        "b = 'day!'\n",
        "print(a*3+b)\n",
        "```"
      ],
      "metadata": {
        "id": "kPmXu9HrKkak"
      }
    },
    {
      "cell_type": "code",
      "source": [
        "a = 'nice'\n",
        "b = 'day!'\n",
        "print(a*3+b)"
      ],
      "metadata": {
        "id": "j029NDxLKjNQ",
        "outputId": "668b94fc-f721-41ef-84e5-9e00f6555e33",
        "colab": {
          "base_uri": "https://localhost:8080/"
        }
      },
      "execution_count": 35,
      "outputs": [
        {
          "output_type": "stream",
          "name": "stdout",
          "text": [
            "niceniceniceday!\n"
          ]
        }
      ]
    },
    {
      "cell_type": "markdown",
      "source": [
        "### (6) 문자열 메서드\n",
        "\n",
        "\n",
        "아래 표와 같이 문자열 메서드는 아주 다양합니다. 여기서는 자주 쓰이는 몇가지 함수만 간단히 배워보도록 합니다. 만약 코드를 작성하면서 더 다양한 문자열 메서드가 필요할 경우엔 표를 참고하고 해당 함수를 검색해보고 사용방법을 익혀가는 것도 좋습니다.\n",
        "\n",
        "|종류|함수|\n",
        "|--|--|\n",
        "|string calculation| `len()`, `min()`, `max()`, `count()`|\n",
        "|encoding/decoding| `encode()`, `decode()`|\n",
        "|string search|`startswith()`, `endswith()`, `find()`, `rfind()`, `index()`, `rindex()`|\n",
        "|number/character|`isalnum()`, `isalpha()`, `isdigit()`, `isnumeric()`, `isdecimal()`|\n",
        "|lower/upper| `islower()`, `isupper()`, `lower()`, `upper()`, `swapcase()`, `istitle()`, `title()`, `capitalize()`|\n",
        "|space/strip| `isstrip()`, `rstrip()`, `strip()`, `isspace()`, `center()`|\n",
        "|split/ join / fill | `split()`, `splitlines()`, `replace()`, `join()`, `zfill()`, `ljust()`, `rjust()`|\n"
      ],
      "metadata": {
        "id": "TqG0SPsMKybG"
      }
    },
    {
      "cell_type": "markdown",
      "source": [
        "#### **String calculation**\n",
        "\n",
        "* `len(x)` : 문자열 `x`의 **길이**를 반환합니다.\n",
        "\n",
        "```\n",
        "x  = 'abcde'\n",
        "print(len(x))\n",
        "```\n"
      ],
      "metadata": {
        "id": "ubTi__L8K6dR"
      }
    },
    {
      "cell_type": "code",
      "source": [
        "x  = 'abcde'\n",
        "print(len(x))"
      ],
      "metadata": {
        "id": "33I4_rM3Ktv1",
        "outputId": "a5454ccc-f969-4498-c505-ead0ba6bceb8",
        "colab": {
          "base_uri": "https://localhost:8080/"
        }
      },
      "execution_count": 38,
      "outputs": [
        {
          "output_type": "stream",
          "name": "stdout",
          "text": [
            "5\n"
          ]
        }
      ]
    },
    {
      "cell_type": "markdown",
      "source": [
        "* `max(x)` : 문자열 `x`의 **최대값**을 반환합니다.\n",
        "\n",
        "\n",
        "문자열의 정렬 순서는 **기호-숫자-대문자-소문자** 입니다. 먼저 정렬 되는 문자가 최소값으로, 나중에 정렬되는 값이 최대값이 됩니다.\n",
        "\n",
        "\n",
        "```\n",
        "x  = 'abcde'\n",
        "print(max(x))\n",
        "```"
      ],
      "metadata": {
        "id": "0xOIdn0SK-vM"
      }
    },
    {
      "cell_type": "code",
      "source": [
        "x  = 'abcdeq'\n",
        "print(max(x))"
      ],
      "metadata": {
        "id": "KbxFJGLbK9Rn",
        "outputId": "8701b0ca-6182-4e78-bdd0-d9917a0250b5",
        "colab": {
          "base_uri": "https://localhost:8080/"
        }
      },
      "execution_count": 40,
      "outputs": [
        {
          "output_type": "stream",
          "name": "stdout",
          "text": [
            "q\n"
          ]
        }
      ]
    },
    {
      "cell_type": "markdown",
      "source": [
        "#### **String search**\n",
        "\n",
        "* `x.startswith(w)`:  문자열 `x`가 특정 문자 `w`로 **시작되는지** 여부를 확인합니다.\n",
        "\n",
        "```\n",
        "a = 'abcde'\n",
        "print(a.startswith('abc'))\n",
        "```\n"
      ],
      "metadata": {
        "id": "9-mHMeV2NQvv"
      }
    },
    {
      "cell_type": "code",
      "source": [
        "a = 'abcde'\n",
        "result=a.startswith('abc')\n",
        "print(result , type(result))"
      ],
      "metadata": {
        "id": "2jJJRswKNSaZ",
        "outputId": "79648a5a-aa7f-4ed4-910e-c3e765c127dc",
        "colab": {
          "base_uri": "https://localhost:8080/"
        }
      },
      "execution_count": 42,
      "outputs": [
        {
          "output_type": "stream",
          "name": "stdout",
          "text": [
            "True <class 'bool'>\n"
          ]
        }
      ]
    },
    {
      "cell_type": "markdown",
      "source": [
        "* `x.endswith(w)`:  문자열 `x`가 특정 문자 `w`로 **끝나는지**여부를 확인합니다.\n",
        "\n",
        "```\n",
        "a = 'abcde'\n",
        "print(a.endswith('abc'))\n",
        "```\n"
      ],
      "metadata": {
        "id": "BkimuFv2NSeV"
      }
    },
    {
      "cell_type": "code",
      "source": [
        "a = 'abcde'\n",
        "print(a.endswith('abc'))"
      ],
      "metadata": {
        "id": "o7cggDDmNM2l",
        "outputId": "8753bbcc-aa71-4d86-acdd-94b8be1a254b",
        "colab": {
          "base_uri": "https://localhost:8080/"
        }
      },
      "execution_count": 43,
      "outputs": [
        {
          "output_type": "stream",
          "name": "stdout",
          "text": [
            "False\n"
          ]
        }
      ]
    },
    {
      "cell_type": "markdown",
      "source": [
        "#### **Lower/upper**\n",
        "\n",
        "* `x.lower()` : 문자열 `x`의 모든 알파벳을 **소문자**로 변환합니다.\n",
        "\n",
        "```\n",
        "a = 'ABCDE'\n",
        "print(a.lower())\n",
        "```"
      ],
      "metadata": {
        "id": "P9dFMBGmNc_Q"
      }
    },
    {
      "cell_type": "code",
      "source": [
        "a = 'ABCDE'\n",
        "a_lower = a.lower() #문자열을 반환\n",
        "print(f'소문자 변환 결과 : {a_lower}')"
      ],
      "metadata": {
        "id": "v-hdqCgUNXDe",
        "outputId": "b0a1058b-fa4c-442a-dc20-14cdc406399d",
        "colab": {
          "base_uri": "https://localhost:8080/"
        }
      },
      "execution_count": 44,
      "outputs": [
        {
          "output_type": "stream",
          "name": "stdout",
          "text": [
            "소문자 변환 결과 : abcde\n"
          ]
        }
      ]
    },
    {
      "cell_type": "markdown",
      "source": [
        "* `x.upper()` : 문자열 `x`의 모든 알파벳을 **대문자**로 변환합니다.\n",
        "\n",
        "```\n",
        "a = 'abcde'\n",
        "print(a.upper())\n",
        "```"
      ],
      "metadata": {
        "id": "WVWQ5PVSNhcQ"
      }
    },
    {
      "cell_type": "code",
      "source": [
        "a = 'abcde'\n",
        "a_upper=a.upper()\n",
        "print(f'대문자 변환 결과 : {a_upper}')"
      ],
      "metadata": {
        "id": "bQPMKC2tNgbF",
        "outputId": "77261941-e46f-4df2-e525-335df0ddad02",
        "colab": {
          "base_uri": "https://localhost:8080/"
        }
      },
      "execution_count": 46,
      "outputs": [
        {
          "output_type": "stream",
          "name": "stdout",
          "text": [
            "대문자 변환 결과 : ABCDE\n"
          ]
        }
      ]
    },
    {
      "cell_type": "markdown",
      "source": [
        "* `x.capitalize()` : 문자열 `x`의 **첫글자**를 **대문자**로 변환합니다.\n",
        "\n",
        "```\n",
        "a = 'abcde'\n",
        "print(a.capitalize())\n",
        "```"
      ],
      "metadata": {
        "id": "FMYVrryXNkfm"
      }
    },
    {
      "cell_type": "code",
      "source": [
        "a = 'abcde'\n",
        "print(a.capitalize())"
      ],
      "metadata": {
        "id": "49oaOV42NjiH",
        "outputId": "7010041f-8f2c-44e9-8a03-8aad08629f3b",
        "colab": {
          "base_uri": "https://localhost:8080/"
        }
      },
      "execution_count": 47,
      "outputs": [
        {
          "output_type": "stream",
          "name": "stdout",
          "text": [
            "Abcde\n"
          ]
        }
      ]
    },
    {
      "cell_type": "markdown",
      "source": [
        "#### **split/join/replace**\n",
        "\n"
      ],
      "metadata": {
        "id": "9XBv4jlpNoTe"
      }
    },
    {
      "cell_type": "markdown",
      "source": [
        "* `x.split(sep=w)` : 문자열 `x`를 문자열 `w` 를 기준으로 분할하여 리스트 형태로 반환합니다. `sep` 의 디폴트 값은 '` `' (공백) 입니다.\n",
        "\n",
        "이 때 `리스트` 라는 타입은 아직 배우지 않았습니다. 파이썬의 여러가지 자료형 중 하나이며 이에 대한 자세한 내용은 다음 시간에 배우도록 합니다. \n",
        "\n",
        "```\n",
        "a ='nice day!'\n",
        "print(a.split())\n",
        "```"
      ],
      "metadata": {
        "id": "8wuaAaywN5hP"
      }
    },
    {
      "cell_type": "code",
      "source": [
        "#기본적으로 띄어쓰기 기준으로 분할\n",
        "a= 'it is very nice day!'#문자열\n",
        "result1=a.split()#리스트\n",
        "print(result1)\n",
        "result2=a.split()"
      ],
      "metadata": {
        "id": "POE--Jr0NnaF"
      },
      "execution_count": null,
      "outputs": []
    },
    {
      "cell_type": "markdown",
      "source": [
        "* `w.join(l)` : 리스트 `l`의 값들을 문자열로 변환합니다. 변환 시 값 사이에 문자열 `w`를 끼어 넣습니다.\n",
        "\n",
        "```\n",
        "l = ['nice', 'day!']\n",
        "print(' '.join(a))\n",
        "```"
      ],
      "metadata": {
        "id": "v66Jjj_AN6tG"
      }
    },
    {
      "cell_type": "code",
      "source": [
        "l = ['nice','day','!'] #리스트\n",
        "s=' '.join(l) #문자열\n",
        "print(s , type(s))"
      ],
      "metadata": {
        "id": "qca8pvnfN-kN",
        "outputId": "b1be5f02-ab66-4fac-9a93-69dc659c3325",
        "colab": {
          "base_uri": "https://localhost:8080/"
        }
      },
      "execution_count": 50,
      "outputs": [
        {
          "output_type": "stream",
          "name": "stdout",
          "text": [
            "nice day ! <class 'str'>\n"
          ]
        }
      ]
    },
    {
      "cell_type": "markdown",
      "source": [
        "* `a.replace(w1, w2)` :  문자열 `a` 에 포함된 문자열 `w1`을 새로운 문자열 `w2`로 변경합니다. \n",
        "\n",
        "```\n",
        "a = 'nice day!'\n",
        "print(a.replace('nice', 'good'))\n",
        "```"
      ],
      "metadata": {
        "id": "qEtziwNZN9_u"
      }
    },
    {
      "cell_type": "code",
      "source": [
        "a='nice day!'\n",
        "print(a)\n",
        "a_replace=a.replace('nice' , 'good') #nice -> good으로 바꾸겠다. 문자열\n",
        "print(a_replace) #문자열"
      ],
      "metadata": {
        "id": "cc0zT0VJNr7H",
        "outputId": "f1ae5461-b2a0-42d9-e124-e0ea7b8c1607",
        "colab": {
          "base_uri": "https://localhost:8080/"
        }
      },
      "execution_count": 55,
      "outputs": [
        {
          "output_type": "stream",
          "name": "stdout",
          "text": [
            "nice day!\n",
            "good day!\n"
          ]
        }
      ]
    },
    {
      "cell_type": "markdown",
      "source": [
        "## 문제풀이\n",
        "---\n"
      ],
      "metadata": {
        "id": "8x1cuwCDOE6N"
      }
    },
    {
      "cell_type": "markdown",
      "source": [
        "**예제 01**\n",
        "\n",
        "아래 문장을 출력하는 코드를 작성하세요\n",
        "\n",
        "```\n",
        "/menu/ \"Americano\" : 1000\n",
        "```\n"
      ],
      "metadata": {
        "id": "ZRBYoVIVOFiZ"
      }
    },
    {
      "cell_type": "code",
      "source": [
        "a= '/menu/ \\\"Americano\\\" :1000'\n",
        "print(a)"
      ],
      "metadata": {
        "id": "MAVicogJOBj9",
        "outputId": "a30e4f53-7c12-41f3-a96c-b921ed871d13",
        "colab": {
          "base_uri": "https://localhost:8080/"
        }
      },
      "execution_count": 66,
      "outputs": [
        {
          "output_type": "stream",
          "name": "stdout",
          "text": [
            "/menu/ \"Americano\" :1000\n"
          ]
        }
      ]
    },
    {
      "cell_type": "markdown",
      "source": [
        "**예제 02**\n",
        "\n",
        "아래 문장을 출력하는 코드를 **이스케이프 코드**를 사용하여 작성하세요\n",
        "\n",
        "```\n",
        "/menu/\n",
        "\"Americano\" : 1000\n",
        "\"Latte\" : 2000\n",
        "\"Ade\" : 2500\n",
        "```"
      ],
      "metadata": {
        "id": "XiTpBd3EOI29"
      }
    },
    {
      "cell_type": "code",
      "source": [
        "a='/menu/ \\n\"americano\" : 1000 \\n\"Latte\" : 2000 \\n\"Ade\" : 2500'\n",
        "print(a)"
      ],
      "metadata": {
        "id": "hQWq7giVOLDN",
        "outputId": "a736efeb-59cb-4149-b56d-5d6babd037c3",
        "colab": {
          "base_uri": "https://localhost:8080/"
        }
      },
      "execution_count": 69,
      "outputs": [
        {
          "output_type": "stream",
          "name": "stdout",
          "text": [
            "/menu/ \n",
            "\"americano\" : 1000 \n",
            "\"Latte\" : 2000 \n",
            "\"Ade\" : 2500\n"
          ]
        }
      ]
    },
    {
      "cell_type": "markdown",
      "source": [
        "**예제 03**\n",
        "\n",
        "아래 문장을 출력하는 코드를 이스케이프 코드를 **사용하지 않고** 작성하세요\n",
        "\n",
        "```\n",
        "/menu/\n",
        "\"Americano\" : 1000\n",
        "\"Latte\" : 2000\n",
        "\"Ade\" : 2500\n",
        "```"
      ],
      "metadata": {
        "id": "TL9BXZKdOJ2R"
      }
    },
    {
      "cell_type": "code",
      "source": [
        "a='''/menu/\n",
        "\"Americano\" : 1000\n",
        "\"Latte\" : 2000\n",
        "\"Ade\" : 2500\n",
        "'''\n",
        "print(a)"
      ],
      "metadata": {
        "id": "20X88hqdOLYF",
        "outputId": "5f6fa972-d806-4d7e-a9b9-90d19c71538d",
        "colab": {
          "base_uri": "https://localhost:8080/"
        }
      },
      "execution_count": 78,
      "outputs": [
        {
          "output_type": "stream",
          "name": "stdout",
          "text": [
            "/menu/\n",
            "\"Americano\" : 1000\n",
            "\"Latte\" : 2000\n",
            "\"Ade\" : 2500\n",
            "\n"
          ]
        }
      ]
    },
    {
      "cell_type": "markdown",
      "source": [
        "**예제 04**\n",
        "\n",
        "변수 `num`과 `menu`가 아래와 같이 바인딩 되어 있습니다. **문자열 연산**을 이용해서 코드를 작성하세요\n",
        "\n",
        "```\n",
        ">> num = 3\n",
        ">> menu = \"americano\"\n",
        ">> # 코드작성\n",
        "3 americano please.\n",
        "```"
      ],
      "metadata": {
        "id": "6Lhqf_OwOMll"
      }
    },
    {
      "cell_type": "code",
      "source": [
        "a=3\n",
        "b=Americano\n",
        "c=please\n",
        "print(a+b+c)\n"
      ],
      "metadata": {
        "id": "sZpNXFJ9ONMf",
        "outputId": "23bcfd7c-0e3b-4068-910d-96d987777330",
        "colab": {
          "base_uri": "https://localhost:8080/",
          "height": 229
        }
      },
      "execution_count": 87,
      "outputs": [
        {
          "output_type": "error",
          "ename": "NameError",
          "evalue": "ignored",
          "traceback": [
            "\u001b[0;31m---------------------------------------------------------------------------\u001b[0m",
            "\u001b[0;31mNameError\u001b[0m                                 Traceback (most recent call last)",
            "\u001b[0;32m<ipython-input-87-a1792396b222>\u001b[0m in \u001b[0;36m<module>\u001b[0;34m\u001b[0m\n\u001b[1;32m      1\u001b[0m \u001b[0ma\u001b[0m\u001b[0;34m=\u001b[0m\u001b[0;36m3\u001b[0m\u001b[0;34m\u001b[0m\u001b[0;34m\u001b[0m\u001b[0m\n\u001b[0;32m----> 2\u001b[0;31m \u001b[0mb\u001b[0m\u001b[0;34m=\u001b[0m\u001b[0mAmericano\u001b[0m\u001b[0;34m\u001b[0m\u001b[0;34m\u001b[0m\u001b[0m\n\u001b[0m\u001b[1;32m      3\u001b[0m \u001b[0mc\u001b[0m\u001b[0;34m=\u001b[0m\u001b[0mplease\u001b[0m\u001b[0;34m\u001b[0m\u001b[0;34m\u001b[0m\u001b[0m\n\u001b[1;32m      4\u001b[0m \u001b[0mprint\u001b[0m\u001b[0;34m(\u001b[0m\u001b[0ma\u001b[0m\u001b[0;34m+\u001b[0m\u001b[0mb\u001b[0m\u001b[0;34m+\u001b[0m\u001b[0mc\u001b[0m\u001b[0;34m)\u001b[0m\u001b[0;34m\u001b[0m\u001b[0;34m\u001b[0m\u001b[0m\n",
            "\u001b[0;31mNameError\u001b[0m: name 'Americano' is not defined"
          ]
        }
      ]
    },
    {
      "cell_type": "markdown",
      "source": [
        "**예제 05**\n",
        "\n",
        "변수 `num`과 `menu`가 아래와 같이 바인딩 되어 있습니다. **`%` 포맷팅**을 이용해서 코드를 작성하세요\n",
        "\n",
        "```\n",
        ">> num = 3\n",
        ">> menu = \"americano\"\n",
        ">> # 코드작성\n",
        "3 americano please.\n",
        "```"
      ],
      "metadata": {
        "id": "zh2HpYNEONgY"
      }
    },
    {
      "cell_type": "code",
      "source": [
        "a='3 '\n",
        "b='americano'\n",
        "s=f'{a}{b} please'\n",
        "print(s)"
      ],
      "metadata": {
        "id": "NA-xF7dROPo9",
        "outputId": "0ec10b47-4225-4a2c-ceb6-20a63c931eb0",
        "colab": {
          "base_uri": "https://localhost:8080/"
        }
      },
      "execution_count": 136,
      "outputs": [
        {
          "output_type": "stream",
          "name": "stdout",
          "text": [
            "3 americano please\n"
          ]
        }
      ]
    },
    {
      "cell_type": "markdown",
      "source": [
        "**예제 06**\n",
        "\n",
        "`예제 05` 문제를  **`.format()` 포맷팅** 을 이용해서 코드를 작성하세요\n"
      ],
      "metadata": {
        "id": "XQQ4qM7XORNP"
      }
    },
    {
      "cell_type": "code",
      "source": [],
      "metadata": {
        "id": "7swQ-a-COWWm"
      },
      "execution_count": null,
      "outputs": []
    },
    {
      "cell_type": "markdown",
      "source": [
        "**예제 07**\n",
        "\n",
        "`예제 05` 문제를  **`f-string` 문법** 을 이용해서 코드를 작성하세요\n"
      ],
      "metadata": {
        "id": "aH1WhRrtOYqP"
      }
    },
    {
      "cell_type": "code",
      "source": [],
      "metadata": {
        "id": "Srb82g7TOYqQ"
      },
      "execution_count": null,
      "outputs": []
    },
    {
      "cell_type": "markdown",
      "source": [
        "**예제 08**\n",
        "\n",
        "다음 코드를 실행해보세요. 오류가 나는지 쓰고, 그 이유를 서술하세요.\n",
        "\n",
        "```\n",
        "color = 'red'\n",
        "w = '%i apples'%color\n",
        "print(w)\n",
        "```"
      ],
      "metadata": {
        "id": "QR5ZQDJDOiQ9"
      }
    },
    {
      "cell_type": "code",
      "source": [],
      "metadata": {
        "id": "YbRl_5dhOizV",
        "outputId": "ba83440f-d03c-448d-96a1-ff773fe3a83a",
        "colab": {
          "base_uri": "https://localhost:8080/",
          "height": 211
        }
      },
      "execution_count": 92,
      "outputs": [
        {
          "output_type": "error",
          "ename": "ValueError",
          "evalue": "ignored",
          "traceback": [
            "\u001b[0;31m---------------------------------------------------------------------------\u001b[0m",
            "\u001b[0;31mValueError\u001b[0m                                Traceback (most recent call last)",
            "\u001b[0;32m<ipython-input-92-06cc8199996b>\u001b[0m in \u001b[0;36m<module>\u001b[0;34m\u001b[0m\n\u001b[1;32m      1\u001b[0m \u001b[0mcolor\u001b[0m \u001b[0;34m=\u001b[0m \u001b[0;34m'red'\u001b[0m\u001b[0;34m\u001b[0m\u001b[0;34m\u001b[0m\u001b[0m\n\u001b[0;32m----> 2\u001b[0;31m \u001b[0mw\u001b[0m \u001b[0;34m=\u001b[0m \u001b[0;34m'%w apples'\u001b[0m\u001b[0;34m%\u001b[0m\u001b[0;34m(\u001b[0m\u001b[0mcolor\u001b[0m\u001b[0;34m)\u001b[0m\u001b[0;34m\u001b[0m\u001b[0;34m\u001b[0m\u001b[0m\n\u001b[0m\u001b[1;32m      3\u001b[0m \u001b[0mprint\u001b[0m\u001b[0;34m(\u001b[0m\u001b[0mw\u001b[0m\u001b[0;34m)\u001b[0m\u001b[0;34m\u001b[0m\u001b[0;34m\u001b[0m\u001b[0m\n",
            "\u001b[0;31mValueError\u001b[0m: unsupported format character 'w' (0x77) at index 1"
          ]
        }
      ]
    },
    {
      "cell_type": "markdown",
      "source": [
        "**예제 09**\n",
        "\n",
        "다음 코드를 실행해보세요. 오류가 나는지 쓰고, 그 이유를 서술하세요.\n",
        "\n",
        "```\n",
        "num = 5\n",
        "w = '%f apples'%num\n",
        "print(w)\n",
        "```"
      ],
      "metadata": {
        "id": "VQO77CJPOv_y"
      }
    },
    {
      "cell_type": "code",
      "source": [],
      "metadata": {
        "id": "feupkLYHOz9M"
      },
      "execution_count": null,
      "outputs": []
    },
    {
      "cell_type": "markdown",
      "source": [
        "\n",
        "**예제 10**\n",
        "\n",
        "`a`가 바인딩한 문자열의 첫번째와 마지막 문자를 출력하세요\n",
        "```\n",
        "a = 'Birthday'\n",
        "```\n"
      ],
      "metadata": {
        "id": "2GYjJcAuRn_n"
      }
    },
    {
      "cell_type": "code",
      "source": [
        "a = 'Birthday'\n",
        "print(a[0])\n",
        "print(a[7])"
      ],
      "metadata": {
        "id": "Q5gjeqAsRocT",
        "outputId": "2f563039-d096-4844-9f05-7a83be107081",
        "colab": {
          "base_uri": "https://localhost:8080/"
        }
      },
      "execution_count": 98,
      "outputs": [
        {
          "output_type": "stream",
          "name": "stdout",
          "text": [
            "B\n",
            "y\n"
          ]
        }
      ]
    },
    {
      "cell_type": "markdown",
      "source": [
        "**예제 11**\n",
        "\n",
        "`a`가 바인딩한 문자열의 뒤 3자리만 출력하세요\n",
        "\n",
        "```\n",
        "a = 'Birthday'\n",
        "```\n"
      ],
      "metadata": {
        "id": "iMrG4iPURpm6"
      }
    },
    {
      "cell_type": "code",
      "source": [
        "a = 'Birthday'\n",
        "print(a[5:8])"
      ],
      "metadata": {
        "id": "00VaouHfRqG8",
        "outputId": "17da3a96-7568-41af-d6fc-fc120bc19f20",
        "colab": {
          "base_uri": "https://localhost:8080/"
        }
      },
      "execution_count": 99,
      "outputs": [
        {
          "output_type": "stream",
          "name": "stdout",
          "text": [
            "day\n"
          ]
        }
      ]
    },
    {
      "cell_type": "markdown",
      "source": [
        "**예제 12**\n",
        "\n",
        "`a`가 바인딩한 문자열에서 `2`만 출력하세요\n",
        "\n",
        "\n",
        "```\n",
        "a = '123123123'\n",
        "```"
      ],
      "metadata": {
        "id": "Bhh_pmZ4RrVE"
      }
    },
    {
      "cell_type": "code",
      "source": [
        "a = '123123123'\n",
        "a[::2]"
      ],
      "metadata": {
        "id": "i_fbxMUiRry3",
        "outputId": "67b978b9-3acd-4191-b3ca-77c68cecd127",
        "colab": {
          "base_uri": "https://localhost:8080/",
          "height": 35
        }
      },
      "execution_count": 125,
      "outputs": [
        {
          "output_type": "execute_result",
          "data": {
            "text/plain": [
              "'1'"
            ],
            "application/vnd.google.colaboratory.intrinsic+json": {
              "type": "string"
            }
          },
          "metadata": {},
          "execution_count": 125
        }
      ]
    },
    {
      "cell_type": "markdown",
      "source": [
        "**예제 13**\n",
        "\n",
        "문자열을 입력하면 거꾸로 출력하는 코드를 작성하세요\n",
        "\n",
        "```\n",
        ">> Enter sentence : hello\n",
        "he said, olleh\n",
        "```"
      ],
      "metadata": {
        "id": "qmqSfVlgRr6O"
      }
    },
    {
      "cell_type": "code",
      "source": [
        "a='hello'\n",
        "a[::-1]"
      ],
      "metadata": {
        "id": "ft49uqD3Rt69",
        "outputId": "c3c1e64a-caf4-4728-f957-e054204a1c67",
        "colab": {
          "base_uri": "https://localhost:8080/",
          "height": 35
        }
      },
      "execution_count": 127,
      "outputs": [
        {
          "output_type": "execute_result",
          "data": {
            "text/plain": [
              "'olleh'"
            ],
            "application/vnd.google.colaboratory.intrinsic+json": {
              "type": "string"
            }
          },
          "metadata": {},
          "execution_count": 127
        }
      ]
    },
    {
      "cell_type": "markdown",
      "source": [
        "**예제 14**\n",
        "\n",
        "다음과 같이  `input()` 함수를 이용해 변수를 적용하여 문장을 출력하는 코드를 작성하세요\n",
        "\n",
        "* 예시 1\n",
        "\n",
        "```\n",
        ">> how's the day? : nice\n",
        "It's nice day!\n",
        "```\n",
        "\n",
        "* 예시 2\n",
        "\n",
        "```\n",
        ">> how's the day? : sunny\n",
        "It's sunny day!\n",
        "```"
      ],
      "metadata": {
        "id": "zBsIZKl3O3XF"
      }
    },
    {
      "cell_type": "code",
      "source": [],
      "metadata": {
        "id": "2gQPfgVpO4cU"
      },
      "execution_count": null,
      "outputs": []
    },
    {
      "cell_type": "markdown",
      "source": [
        "**예제 15**\n",
        "\n",
        "문자열을 입력하면 끝에서 2개 문자만 출력하는 \n",
        "코드를 작성하세요\n",
        "\n",
        "* 예시 1\n",
        "\n",
        "```{.python}\n",
        ">> Enter sentence : hello\n",
        "last 2  : lo\n",
        "```\n",
        "\n",
        "* 예시 2 \n",
        "\n",
        "```\n",
        ">> Enter sentence : nice day!\n",
        "last 2 : y!\n",
        "```"
      ],
      "metadata": {
        "id": "MbDaWjEbRxgv"
      }
    },
    {
      "cell_type": "code",
      "source": [
        "a='hello'\n",
        "a[3:5]"
      ],
      "metadata": {
        "id": "-oaWPZZBKaV1",
        "outputId": "6afd648b-4424-4730-c7fc-add29e56f008",
        "colab": {
          "base_uri": "https://localhost:8080/",
          "height": 35
        }
      },
      "execution_count": 128,
      "outputs": [
        {
          "output_type": "execute_result",
          "data": {
            "text/plain": [
              "'lo'"
            ],
            "application/vnd.google.colaboratory.intrinsic+json": {
              "type": "string"
            }
          },
          "metadata": {},
          "execution_count": 128
        }
      ]
    },
    {
      "cell_type": "code",
      "source": [
        "a='nice day!'\n",
        "a[7:9]"
      ],
      "metadata": {
        "id": "3xM0SI9FKlqN",
        "outputId": "ef8de87e-b0dd-4fc9-8b97-d33bdab985ca",
        "colab": {
          "base_uri": "https://localhost:8080/",
          "height": 35
        }
      },
      "execution_count": 129,
      "outputs": [
        {
          "output_type": "execute_result",
          "data": {
            "text/plain": [
              "'y!'"
            ],
            "application/vnd.google.colaboratory.intrinsic+json": {
              "type": "string"
            }
          },
          "metadata": {},
          "execution_count": 129
        }
      ]
    },
    {
      "cell_type": "markdown",
      "source": [
        "**예제 16**\n",
        "\n",
        "아래 코드 결과를 예상해보고 직접 실행해보세요.\n",
        "\n",
        "```\n",
        "a = ''\n",
        "a = a+'what'\n",
        "a = a+'?'\n",
        "print(a)\n",
        "```"
      ],
      "metadata": {
        "id": "WHv2vcFKR9FU"
      }
    },
    {
      "cell_type": "code",
      "source": [
        "a = ''\n",
        "a = a+'what'\n",
        "a = a+'?'\n",
        "print(a)"
      ],
      "metadata": {
        "id": "M-fdJu1gRx9j",
        "outputId": "0cbb5811-0c3f-442b-a314-93071d51b73f",
        "colab": {
          "base_uri": "https://localhost:8080/"
        }
      },
      "execution_count": 130,
      "outputs": [
        {
          "output_type": "stream",
          "name": "stdout",
          "text": [
            "what?\n"
          ]
        }
      ]
    },
    {
      "cell_type": "markdown",
      "source": [
        "**예제 17**\n",
        "\n",
        "아래 바인딩된 값 `a`, `b`를 이용해 아래와 같이 출력해보세요(**문자열 연산**을 이용하세요)\n",
        "```\n",
        ">> a = 'me'\n",
        ">> b = 'you'\n",
        ">> # 코드작성\n",
        "meyouyouyouyouyou\n",
        "```\n"
      ],
      "metadata": {
        "id": "49-zJvQaSABn"
      }
    },
    {
      "cell_type": "code",
      "source": [
        "a = 'me'\n",
        "b = 'you'\n",
        "print(a+b*5)"
      ],
      "metadata": {
        "id": "u6XeJo7jSA49",
        "outputId": "25e7c334-2957-4ea9-9515-05a262153e90",
        "colab": {
          "base_uri": "https://localhost:8080/"
        }
      },
      "execution_count": 131,
      "outputs": [
        {
          "output_type": "stream",
          "name": "stdout",
          "text": [
            "meyouyouyouyouyou\n"
          ]
        }
      ]
    },
    {
      "cell_type": "markdown",
      "source": [
        "\n",
        "**예제 18**\n",
        "\n",
        "아래 바인딩된 값 `a`, `b`를 이용해 아래와 같이 출력해보세요(**문자열 연산**을 이용하세요)\n",
        "```\n",
        ">> a = 'me'\n",
        ">> b = 'you'\n",
        ">> # 코드작성\n",
        "youmeyoumeyoumeyoumeyoumeyoumeyoumeyoume\n",
        "```"
      ],
      "metadata": {
        "id": "-VADZMxcSCgq"
      }
    },
    {
      "cell_type": "code",
      "source": [
        "a = 'me'\n",
        "b = 'you'\n",
        "print((b+a)*8)"
      ],
      "metadata": {
        "id": "mnrvtva0SDI0",
        "outputId": "a4508233-8f5c-46d0-efdd-a73ac91427cd",
        "colab": {
          "base_uri": "https://localhost:8080/"
        }
      },
      "execution_count": 133,
      "outputs": [
        {
          "output_type": "stream",
          "name": "stdout",
          "text": [
            "youmeyoumeyoumeyoumeyoumeyoumeyoumeyoume\n"
          ]
        }
      ]
    },
    {
      "cell_type": "markdown",
      "source": [
        "**예제 19**\n",
        "\n",
        "코드번호는 숫자가 나열된 문자열의 **길이** 곱하기 **최대값**으로 만들어집니다.\n",
        "코드번호를 생성하는 코드를 작성하세요\n",
        "\n",
        "```\n",
        ">> 숫자를 입력하세요 : 123456\n",
        "코드번호는 36 입니다.\n",
        "```"
      ],
      "metadata": {
        "id": "RAxXJ4S4SErN"
      }
    },
    {
      "cell_type": "code",
      "source": [],
      "metadata": {
        "id": "59mTGYRqSFd8"
      },
      "execution_count": null,
      "outputs": []
    },
    {
      "cell_type": "markdown",
      "source": [
        "**예제 20**\n",
        "\n",
        "파일들의 이름이 아래와 같이 바인딩 되어 있습니다. 확장자가 파이썬 `.py`로 끝나는 파일인지 확인하는 코드를 작성하세요\n",
        "\n",
        "```\n",
        "a = 'test.py'\n",
        "b = 'train.py`\n",
        "c = 'img.jpg'\n",
        "```\n"
      ],
      "metadata": {
        "id": "jroYBZMjSGxF"
      }
    },
    {
      "cell_type": "code",
      "source": [],
      "metadata": {
        "id": "XMWt5kqnSHot"
      },
      "execution_count": null,
      "outputs": []
    },
    {
      "cell_type": "markdown",
      "source": [
        "**예제 21**\n",
        "\n",
        "아래 문자열을 **대문자**로 변경하세요\n",
        "\n",
        "```\n",
        "a = 'my_little_cat'\n",
        "```"
      ],
      "metadata": {
        "id": "iqBg4JWWSI7Z"
      }
    },
    {
      "cell_type": "code",
      "source": [],
      "metadata": {
        "id": "g09gZVsSSJlE"
      },
      "execution_count": null,
      "outputs": []
    },
    {
      "cell_type": "markdown",
      "source": [
        "**예제 22**\n",
        "\n",
        "아래 문자열의 **첫글자만 대문자**로 변경하세요\n",
        "\n",
        "\n",
        "```\n",
        "a = 'my_little_cat'\n",
        "\n",
        "```"
      ],
      "metadata": {
        "id": "PZ880dpkS882"
      }
    },
    {
      "cell_type": "code",
      "source": [],
      "metadata": {
        "id": "V5IPhBgdS9p1"
      },
      "execution_count": null,
      "outputs": []
    },
    {
      "cell_type": "markdown",
      "source": [
        "**예제 23**\n",
        "\n",
        "금액이 아래와 같이 바인딩되어 있습니다. 쉼표`,`를 **제거 후** `int` 값으로 **변환**하세요\n",
        "\n",
        "```\n",
        "a = '542,322,000'\n",
        "```"
      ],
      "metadata": {
        "id": "rW1cjC4KS-ph"
      }
    },
    {
      "cell_type": "code",
      "source": [],
      "metadata": {
        "id": "9xGbH5aoS_M1"
      },
      "execution_count": null,
      "outputs": []
    },
    {
      "cell_type": "markdown",
      "source": [
        "**예제 24**\n",
        "\n",
        "`a`가 바인딩한 문자열에서 언더바 `_` 기준으로 단어를 나누어 **리스트에 저장**하세요.\n",
        "\n",
        "```\n",
        "a = 'today_is_my_birthday'\n",
        "```\n"
      ],
      "metadata": {
        "id": "sj2UCAFlTBBR"
      }
    },
    {
      "cell_type": "code",
      "source": [],
      "metadata": {
        "id": "PYVbWMYKTBh1"
      },
      "execution_count": null,
      "outputs": []
    },
    {
      "cell_type": "markdown",
      "source": [
        "**예제 25**\n",
        "\n",
        "휴대폰번호가 문자열로 저장이 되어있습니다. 이를 **번호 형식으로 변환**하는 코드를 작성하세요\n",
        "\n",
        "\n",
        "|번호|번호 형식 변환|\n",
        "|--|--|\n",
        "|'010,1234,5678'|'010-1234-5678'|\n",
        "|'010,3333,3333'|'010-3333-3333'|\n"
      ],
      "metadata": {
        "id": "4dKNxXGsTDDu"
      }
    },
    {
      "cell_type": "code",
      "source": [],
      "metadata": {
        "id": "-FESRkNhTD0E"
      },
      "execution_count": null,
      "outputs": []
    }
  ]
}