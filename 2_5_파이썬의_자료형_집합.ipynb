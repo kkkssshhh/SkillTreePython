{
  "nbformat": 4,
  "nbformat_minor": 0,
  "metadata": {
    "colab": {
      "name": "2-5.파이썬의 자료형:집합.ipynb",
      "provenance": [],
      "toc_visible": true,
      "include_colab_link": true
    },
    "kernelspec": {
      "name": "python3",
      "display_name": "Python 3"
    },
    "language_info": {
      "name": "python"
    }
  },
  "cells": [
    {
      "cell_type": "markdown",
      "metadata": {
        "id": "view-in-github",
        "colab_type": "text"
      },
      "source": [
        "<a href=\"https://colab.research.google.com/github/kkkssshhh/SkillTreePython/blob/main/2_5_%ED%8C%8C%EC%9D%B4%EC%8D%AC%EC%9D%98_%EC%9E%90%EB%A3%8C%ED%98%95_%EC%A7%91%ED%95%A9.ipynb\" target=\"_parent\"><img src=\"https://colab.research.google.com/assets/colab-badge.svg\" alt=\"Open In Colab\"/></a>"
      ]
    },
    {
      "cell_type": "markdown",
      "source": [
        "# 2-5.파이썬의 자료형:집합 \n",
        "---\n",
        "* 날짜:\n",
        "* 이름:김시후"
      ],
      "metadata": {
        "id": "kB5IciXEm6o4"
      }
    },
    {
      "cell_type": "markdown",
      "source": [
        "## 개념정리\n",
        "---\n",
        "\n",
        "\n",
        "수학에서 쓰이는 집합의 개념과 비슷하게 파이썬에서도 집합 (set) 을 사용할 수 있습니다. \n",
        "다른 군집 자료형과 달리 집합은 다음과 같은 특징을 가지고 있습니다. \n",
        "\n",
        "1. 중복 불허용\n",
        "2. 순서 없음\n",
        "\n",
        "이 특징들에 대해 개념을 공부하며 자세히 알아보도록 합니다. "
      ],
      "metadata": {
        "id": "4iN8NFzHRJ2D"
      }
    },
    {
      "cell_type": "markdown",
      "source": [
        "### **(1) 생성**\n",
        "\n",
        "괄호 `{ }` 를 통해서 집합을 생성 할 수 있습니다. \n",
        "\n",
        "```\n",
        "a = {1,2,3}\n",
        "type(a)\n",
        "```"
      ],
      "metadata": {
        "id": "MAM8MDnfw68b"
      }
    },
    {
      "cell_type": "code",
      "source": [
        "#[] 리스트 () 듀플 {} 집합(set)\n",
        "#a={1,2,3}\n",
        "a=set()\n",
        "a,type(a)"
      ],
      "metadata": {
        "id": "GcyrxnDviDbz",
        "outputId": "47965227-1960-490c-da79-916aacc2d8c4",
        "colab": {
          "base_uri": "https://localhost:8080/"
        }
      },
      "execution_count": 1,
      "outputs": [
        {
          "output_type": "execute_result",
          "data": {
            "text/plain": [
              "(set(), set)"
            ]
          },
          "metadata": {},
          "execution_count": 1
        }
      ]
    },
    {
      "cell_type": "markdown",
      "source": [
        "#### **집합의 요소**\n",
        "\n",
        "집합의 요소로는 문자열, 수치자료형, 튜플이 가능합니다. \n",
        "\n",
        "```\n",
        "a = {'a', 1, 0.5, (2,3)}\n",
        "print(a)\n",
        "```"
      ],
      "metadata": {
        "id": "U6_8nueJiDlL"
      }
    },
    {
      "cell_type": "code",
      "source": [
        "a = {'a', 1, 0.5, (2,3)}\n",
        "print(a)"
      ],
      "metadata": {
        "id": "RU88pe1yiGVH",
        "outputId": "00c821f3-a7e3-4fb1-8e8c-6ac490a06d83",
        "colab": {
          "base_uri": "https://localhost:8080/"
        }
      },
      "execution_count": 2,
      "outputs": [
        {
          "output_type": "stream",
          "name": "stdout",
          "text": [
            "{'a', 1, (2, 3), 0.5}\n"
          ]
        }
      ]
    },
    {
      "cell_type": "markdown",
      "source": [
        "다른 군집 자료형 (리스트, 딕셔너리, 집합) 등은 에러 메시지가 뜹니다. \n",
        " \n",
        "```\n",
        "a = {'a', 1, 0.5, [1,2]}\n",
        "print(a)\n",
        "```"
      ],
      "metadata": {
        "id": "don0VECoiNyT"
      }
    },
    {
      "cell_type": "code",
      "source": [
        "a = {'a', 1, 0.5, [1,2]}\n",
        "print(a)"
      ],
      "metadata": {
        "id": "zOi241MJiMPv",
        "outputId": "dbcde5a1-8f63-4f52-9378-5a9b088662cd",
        "colab": {
          "base_uri": "https://localhost:8080/",
          "height": 193
        }
      },
      "execution_count": 3,
      "outputs": [
        {
          "output_type": "error",
          "ename": "TypeError",
          "evalue": "ignored",
          "traceback": [
            "\u001b[0;31m---------------------------------------------------------------------------\u001b[0m",
            "\u001b[0;31mTypeError\u001b[0m                                 Traceback (most recent call last)",
            "\u001b[0;32m<ipython-input-3-c0c5f92d4b31>\u001b[0m in \u001b[0;36m<module>\u001b[0;34m\u001b[0m\n\u001b[0;32m----> 1\u001b[0;31m \u001b[0ma\u001b[0m \u001b[0;34m=\u001b[0m \u001b[0;34m{\u001b[0m\u001b[0;34m'a'\u001b[0m\u001b[0;34m,\u001b[0m \u001b[0;36m1\u001b[0m\u001b[0;34m,\u001b[0m \u001b[0;36m0.5\u001b[0m\u001b[0;34m,\u001b[0m \u001b[0;34m[\u001b[0m\u001b[0;36m1\u001b[0m\u001b[0;34m,\u001b[0m\u001b[0;36m2\u001b[0m\u001b[0;34m]\u001b[0m\u001b[0;34m}\u001b[0m\u001b[0;34m\u001b[0m\u001b[0;34m\u001b[0m\u001b[0m\n\u001b[0m\u001b[1;32m      2\u001b[0m \u001b[0mprint\u001b[0m\u001b[0;34m(\u001b[0m\u001b[0ma\u001b[0m\u001b[0;34m)\u001b[0m\u001b[0;34m\u001b[0m\u001b[0;34m\u001b[0m\u001b[0m\n",
            "\u001b[0;31mTypeError\u001b[0m: unhashable type: 'list'"
          ]
        }
      ]
    },
    {
      "cell_type": "markdown",
      "source": [
        "### **(2) 집합의 특징**\n",
        "\n",
        "다른 군집자료형(문자열, 리스트, 튜플, 딕셔너리)과 다른 집합만의 특징은 두가지가 있습니다.\n",
        "\n",
        "* 중복을 불허용\n",
        "* 순서가 없음"
      ],
      "metadata": {
        "id": "CjyNzVr4jG2e"
      }
    },
    {
      "cell_type": "markdown",
      "source": [
        "#### **중복불허용**\n",
        "\n",
        "집합에는 중복되는 값이 존재 하지 않습니다. 따라서 아래와 같이 초기값으로 중복된 요소를 넣더라도 중복값은 자동적으로 제거됩니다. \n",
        "\n",
        "```\n",
        "a = {1,2,2,2,3}\n",
        "print(a)\n",
        "```"
      ],
      "metadata": {
        "id": "pljO0lepjKDT"
      }
    },
    {
      "cell_type": "code",
      "source": [
        "a={1,2,2,2,3} # 집합\n",
        "print(a)"
      ],
      "metadata": {
        "id": "HKTb0NaAiPwH",
        "outputId": "f1dde2a5-1fe7-4518-870e-afc27376c3f4",
        "colab": {
          "base_uri": "https://localhost:8080/"
        }
      },
      "execution_count": 4,
      "outputs": [
        {
          "output_type": "stream",
          "name": "stdout",
          "text": [
            "{1, 2, 3}\n"
          ]
        }
      ]
    },
    {
      "cell_type": "markdown",
      "source": [
        "이러한 특징을 가지고 있기 때문에 다른 군집 자료형에 대해 중복을 제거하기 위해 집합으로 바꾸기도 합니다. \n",
        "\n",
        "```\n",
        "a_list = [1,2,3,2]\n",
        "a = set(a_list)\n",
        "a_list = list(a)\n",
        "print(a_list)\n",
        "```"
      ],
      "metadata": {
        "id": "lx7A3mBmjN_U"
      }
    },
    {
      "cell_type": "code",
      "source": [
        "a_list = [1,2,3,2]\n",
        "print(a_list)\n",
        "a = set(a_list) #집합으로 바꾼 순간 중복은 삭제\n",
        "a_list = list(a) #다시 리스트로 변환\n",
        "print(a_list)"
      ],
      "metadata": {
        "id": "eRDREQWHjMYY",
        "outputId": "4ff6d66e-af68-4b14-d3b7-f61934becaec",
        "colab": {
          "base_uri": "https://localhost:8080/"
        }
      },
      "execution_count": 6,
      "outputs": [
        {
          "output_type": "stream",
          "name": "stdout",
          "text": [
            "[1, 2, 3, 2]\n",
            "[1, 2, 3]\n"
          ]
        }
      ]
    },
    {
      "cell_type": "markdown",
      "source": [
        "#### **순서없음**\n",
        "\n",
        "집합에는 순서 개념이 없습니다. 따라서 군집 자료형을 집합으로 만드는 순간 자동으로 정렬됩니다.\n",
        "\n",
        "```\n",
        "a = {3,2,1}\n",
        "print(a)\n",
        "```"
      ],
      "metadata": {
        "id": "MXueNG18jQt5"
      }
    },
    {
      "cell_type": "code",
      "source": [
        "a = {3,2,1}\n",
        "l = [4,2,23,1,2]\n",
        "print(a, set(l)) # 무조건적인 정렬은 아닌"
      ],
      "metadata": {
        "id": "ezV3TvM9jPJW",
        "outputId": "30228935-9351-4e12-fb2d-ba37a67eb3da",
        "colab": {
          "base_uri": "https://localhost:8080/"
        }
      },
      "execution_count": 8,
      "outputs": [
        {
          "output_type": "stream",
          "name": "stdout",
          "text": [
            "{1, 2, 3} {1, 2, 4, 23}\n"
          ]
        }
      ]
    },
    {
      "cell_type": "markdown",
      "source": [
        "집합 자료형에는 순서가 없기 때문에 인덱싱과 슬라이싱을 사용 할 수 없습니다. \n",
        "\n",
        "\n",
        "```\n",
        "a = {1,2,3,4}\n",
        "a[0]\n",
        "```"
      ],
      "metadata": {
        "id": "iUERHQD4jUPy"
      }
    },
    {
      "cell_type": "code",
      "source": [
        "a[0]"
      ],
      "metadata": {
        "id": "6TBShyXDjS3m",
        "outputId": "8058b245-6986-484d-e4c4-72f022447813",
        "colab": {
          "base_uri": "https://localhost:8080/",
          "height": 174
        }
      },
      "execution_count": 9,
      "outputs": [
        {
          "output_type": "error",
          "ename": "TypeError",
          "evalue": "ignored",
          "traceback": [
            "\u001b[0;31m---------------------------------------------------------------------------\u001b[0m",
            "\u001b[0;31mTypeError\u001b[0m                                 Traceback (most recent call last)",
            "\u001b[0;32m<ipython-input-9-6a1284577a36>\u001b[0m in \u001b[0;36m<module>\u001b[0;34m\u001b[0m\n\u001b[0;32m----> 1\u001b[0;31m \u001b[0ma\u001b[0m\u001b[0;34m[\u001b[0m\u001b[0;36m0\u001b[0m\u001b[0;34m]\u001b[0m\u001b[0;34m\u001b[0m\u001b[0;34m\u001b[0m\u001b[0m\n\u001b[0m",
            "\u001b[0;31mTypeError\u001b[0m: 'set' object is not subscriptable"
          ]
        }
      ]
    },
    {
      "cell_type": "markdown",
      "source": [
        "눈치채신 분들 있을지 모르겠지만 집합으로 정의하면 요소들이 자동적으로 정렬되는 것을 볼 수 있습니다.\n",
        "\n",
        "```\n",
        "a = {2,3,1,2,6}\n",
        "print(a)\n",
        "```"
      ],
      "metadata": {
        "id": "m4YZ3HUOkqtt"
      }
    },
    {
      "cell_type": "code",
      "source": [],
      "metadata": {
        "id": "FtjMzdBllCdO"
      },
      "execution_count": null,
      "outputs": []
    },
    {
      "cell_type": "markdown",
      "source": [
        "그러나 집합이 정렬 기능을 제공하는 것은 아님을 명심해야 합니다. 정렬 함수 `sorted` 나 `.sort`를 사용하세요.\n",
        "\n",
        "```\n",
        "a = {'orange', 'apple', 'banana'}\n",
        "print(a)\n",
        "```\n"
      ],
      "metadata": {
        "id": "ryi9bKWVlTOO"
      }
    },
    {
      "cell_type": "code",
      "source": [
        "a = {'orange', 'apple', 'banana'}\n",
        "print(a)"
      ],
      "metadata": {
        "id": "15Toz8ielk_u",
        "outputId": "344c8515-a822-4c3b-97d3-1f161001c7f3",
        "colab": {
          "base_uri": "https://localhost:8080/"
        }
      },
      "execution_count": 10,
      "outputs": [
        {
          "output_type": "stream",
          "name": "stdout",
          "text": [
            "{'apple', 'banana', 'orange'}\n"
          ]
        }
      ]
    },
    {
      "cell_type": "markdown",
      "source": [
        "### **(3) 집합의 연산**\n",
        "\n",
        "리스트나 튜플과 달리 집합은 `+` 나 * 연산이 불가능 합니다. 하지만 수학적 집합 개념과 마찬가지로 교집합, 합집합 차집합의 연산을 할 수 있습니다. \n"
      ],
      "metadata": {
        "id": "WtdWHrXmjWoj"
      }
    },
    {
      "cell_type": "markdown",
      "source": [
        "\n",
        "#### **교집합**\n",
        "\n",
        "집합 `a`와 집합 `B`의 교집합을 구합니다. 참고로 `&`기호는 대부분의 언어에서 `and` 를 뜻합니다. \n",
        "\n",
        "* `a&b`  \n",
        "* `a.intersection(b)` \n",
        "\n",
        "\n",
        "```\n",
        "a = {1,2,3}\n",
        "b = {3,4,5}\n",
        "\n",
        "print(a & b, a.intersection(b), b.intersection(a))\n",
        "```"
      ],
      "metadata": {
        "id": "vM_yxOEljZiQ"
      }
    },
    {
      "cell_type": "code",
      "source": [
        "a = {1,2,3}\n",
        "b = {3,4,5}\n",
        "a&b, a.intersection(b)"
      ],
      "metadata": {
        "id": "qw6BYQxhjVP2",
        "outputId": "5fb42019-dcba-4b29-a37e-f18c0c3244e5",
        "colab": {
          "base_uri": "https://localhost:8080/"
        }
      },
      "execution_count": 32,
      "outputs": [
        {
          "output_type": "execute_result",
          "data": {
            "text/plain": [
              "({3}, {3})"
            ]
          },
          "metadata": {},
          "execution_count": 32
        }
      ]
    },
    {
      "cell_type": "markdown",
      "source": [
        "#### **합집합**\n",
        "\n",
        "집합 `a`와 집합 `B`의 합집합을 구합니다. 참고로 `|`기호는 대부분의 언어에서 `or` 를 뜻합니다. \n",
        "\n",
        "* `a|b`  \n",
        "* `a.union(b)` \n",
        "\n",
        "```\n",
        "a = set([1,2,3])\n",
        "b = set([3,4,5])\n",
        "a | b, a.union(b), b.union(a) # a U b\n",
        "```"
      ],
      "metadata": {
        "id": "ur-Z2CmSjg_o"
      }
    },
    {
      "cell_type": "code",
      "source": [
        "a = set([1,2,3])\n",
        "b = set([3,4,5])\n",
        "a | b, a.union(b), b.union(a) # a U b"
      ],
      "metadata": {
        "id": "Q_z2_tTnjfTr",
        "outputId": "9973113e-01fb-4431-c43a-114311df9085",
        "colab": {
          "base_uri": "https://localhost:8080/"
        }
      },
      "execution_count": 35,
      "outputs": [
        {
          "output_type": "execute_result",
          "data": {
            "text/plain": [
              "({1, 2, 3, 4, 5}, {1, 2, 3, 4, 5}, {1, 2, 3, 4, 5})"
            ]
          },
          "metadata": {},
          "execution_count": 35
        }
      ]
    },
    {
      "cell_type": "markdown",
      "source": [
        "#### **차집합**\n",
        "\n",
        "집합 `a`와 집합 `B`의 차집합을 구합니다.\n",
        "\n",
        "* `a-b`\n",
        "* `a.difference(b)`\n",
        "\n",
        "```\n",
        "a = set([1,2,3])\n",
        "b = set([3,4,5])\n",
        "print( a-b, a.difference(b) )\n",
        "print( b-a, b.difference(a) )\n",
        "```"
      ],
      "metadata": {
        "id": "QFxU957kjk00"
      }
    },
    {
      "cell_type": "code",
      "source": [
        "a-b , a.difference(b)"
      ],
      "metadata": {
        "id": "0yL7BXWOjiLv",
        "outputId": "67ec1238-377e-4b10-ee0d-ab3a4951894a",
        "colab": {
          "base_uri": "https://localhost:8080/"
        }
      },
      "execution_count": 36,
      "outputs": [
        {
          "output_type": "execute_result",
          "data": {
            "text/plain": [
              "({1, 2}, {1, 2})"
            ]
          },
          "metadata": {},
          "execution_count": 36
        }
      ]
    },
    {
      "cell_type": "markdown",
      "source": [
        "### **(4) 관련 메서드**\n",
        "\n"
      ],
      "metadata": {
        "id": "aglgdX2Qjoi1"
      }
    },
    {
      "cell_type": "markdown",
      "source": [
        "#### **내장함수**\n",
        "\n",
        "다른 군집 자료형과 마찬가지로 내장함수를 사용할 수 있습니다.\n",
        "\n",
        "* `len()`: 길이를 구합니다.\n",
        "* `max()`: 최대값을 구합니다.\n",
        "* `min()`: 최소값을 구합니다.\n",
        "* `sum()`: 모든값을 더합니다.\n",
        "\n",
        "```\n",
        "a = {1,2,3,5}\n",
        "len(a), max(a), min(a), sum(a)\n",
        "```"
      ],
      "metadata": {
        "id": "2WWtO6sojr1d"
      }
    },
    {
      "cell_type": "code",
      "source": [
        "len(a), max(a), min(a), sum(a)"
      ],
      "metadata": {
        "id": "ZHBd1xUJjnDQ",
        "outputId": "9ff9b208-98f8-4b79-f5e0-09a73d9b5f8e",
        "colab": {
          "base_uri": "https://localhost:8080/"
        }
      },
      "execution_count": 15,
      "outputs": [
        {
          "output_type": "execute_result",
          "data": {
            "text/plain": [
              "(3, 3, 1, 6)"
            ]
          },
          "metadata": {},
          "execution_count": 15
        }
      ]
    },
    {
      "cell_type": "markdown",
      "source": [
        "* `set()`: 집합 자료형으로 변환합니다.\n",
        "\n",
        "```\n",
        "a = [1,2,2,2,3,4,4]\n",
        "set(a)\n",
        "```"
      ],
      "metadata": {
        "id": "h1xYZ6FSjvxD"
      }
    },
    {
      "cell_type": "code",
      "source": [],
      "metadata": {
        "id": "6js5DFWMjtnw"
      },
      "execution_count": null,
      "outputs": []
    },
    {
      "cell_type": "markdown",
      "source": [
        "\n",
        "#### **기타 메서드**\n",
        "\n",
        "*  `a.add(b)` : 집합 `a` 에 요소 `b`를 추가합니다.\n",
        "\n",
        "리스트의 `append()` 기능과 유사합니다. 집합에 값을 하나 추가합니다. 다만 `append()`는 마지막에 값이 추가되는거와 달리 집합에서는 정렬된 위치에 값이 추가됩니다.\n",
        "\n",
        "```\n",
        "a ={1,2,3,5}\n",
        "a.add(4)\n",
        "print(a)\n",
        "```\n"
      ],
      "metadata": {
        "id": "_2N1aJN4j0D9"
      }
    },
    {
      "cell_type": "code",
      "source": [
        "a.add(-3)\n",
        "print(a)"
      ],
      "metadata": {
        "id": "iy-fvWdWjzKS",
        "outputId": "8e0d7899-7a12-423e-ad10-4c0c7c9dac88",
        "colab": {
          "base_uri": "https://localhost:8080/"
        }
      },
      "execution_count": 17,
      "outputs": [
        {
          "output_type": "stream",
          "name": "stdout",
          "text": [
            "{1, 2, 3, 4, -3}\n"
          ]
        }
      ]
    },
    {
      "cell_type": "markdown",
      "source": [
        "* `a.update([b, c, ..])` : 집합 `a`에 여러개의 요소를 추가합니다.\n",
        "\n",
        "```\n",
        "a = {1,2,3,5}\n",
        "a.update([6,7,8])\n",
        "print(a)\n",
        "```\n"
      ],
      "metadata": {
        "id": "uc9fJRL4j74a"
      }
    },
    {
      "cell_type": "code",
      "source": [
        "# update <-> extend\n",
        "a.update([10,11,12])\n",
        "print(a)"
      ],
      "metadata": {
        "id": "T5nvduiKj4Pn",
        "outputId": "1697853d-38b3-4525-dec6-677c3a90cd81",
        "colab": {
          "base_uri": "https://localhost:8080/"
        }
      },
      "execution_count": 18,
      "outputs": [
        {
          "output_type": "stream",
          "name": "stdout",
          "text": [
            "{1, 2, 3, 4, 10, 11, 12, -3}\n"
          ]
        }
      ]
    },
    {
      "cell_type": "markdown",
      "source": [
        "* `a.remove(b)` : 집합 `a`에서 요소 `b`를 제거합니다.\n",
        "\n",
        "```\n",
        "a = {1,2,3,5}\n",
        "a.remove(2)\n",
        "print(a)\n",
        "```\n"
      ],
      "metadata": {
        "id": "34MpBFWsj_gM"
      }
    },
    {
      "cell_type": "code",
      "source": [
        "a = {1,2,3,5}\n",
        "a.remove(2)\n",
        "print(a)"
      ],
      "metadata": {
        "id": "zgbJdLQqj-GA",
        "outputId": "cd8b8e78-0f41-4e5d-c813-662755a6a3b4",
        "colab": {
          "base_uri": "https://localhost:8080/"
        }
      },
      "execution_count": 19,
      "outputs": [
        {
          "output_type": "stream",
          "name": "stdout",
          "text": [
            "{1, 3, 5}\n"
          ]
        }
      ]
    },
    {
      "cell_type": "markdown",
      "source": [
        "만약 `a`에 포함되어 있지 않은 요소를 제거하면 에러 메시지가 뜹니다.\n",
        "\n",
        "```\n",
        "a = {1,2,3,5}\n",
        "a.remove(4)\n",
        "print(a)\n",
        "```\n"
      ],
      "metadata": {
        "id": "RVd-1YE9kC3R"
      }
    },
    {
      "cell_type": "code",
      "source": [],
      "metadata": {
        "id": "sMprlxDhkBI4"
      },
      "execution_count": null,
      "outputs": []
    },
    {
      "cell_type": "markdown",
      "source": [
        "## 문제풀이\n",
        "---\n",
        "\n"
      ],
      "metadata": {
        "id": "jKvwT4LbkHNv"
      }
    },
    {
      "cell_type": "markdown",
      "source": [
        "**예제 01**\n",
        "\n",
        "부분 집합 A,B,C가 아래와 같습니다. 집합 A,B,C를 정의하세요\n",
        "\n",
        "```\n",
        "A = {1,2,3,5}\n",
        "B = {1,2,3,4}\n",
        "C = {1,3,4,6}\n",
        "```"
      ],
      "metadata": {
        "id": "TtahL9hvkJNg"
      }
    },
    {
      "cell_type": "code",
      "source": [
        "A = {1,2,3,5}\n",
        "B = {1,2,3,4}\n",
        "C = {1,3,4,6}"
      ],
      "metadata": {
        "id": "xt26w28CkEcY"
      },
      "execution_count": 21,
      "outputs": []
    },
    {
      "cell_type": "markdown",
      "source": [
        "**예제 02**\n",
        "\n",
        "다음을 계산하세요.\n",
        "\n",
        "$$ A \\cup C$$ \n"
      ],
      "metadata": {
        "id": "3jDdurvlkL93"
      }
    },
    {
      "cell_type": "code",
      "source": [
        "A|C"
      ],
      "metadata": {
        "id": "rwpLPktSkMO2",
        "outputId": "372de9b0-9d90-4a34-e309-dd71b285a3ee",
        "colab": {
          "base_uri": "https://localhost:8080/"
        }
      },
      "execution_count": 48,
      "outputs": [
        {
          "output_type": "execute_result",
          "data": {
            "text/plain": [
              "{1, 2, 3, 4, 5, 6}"
            ]
          },
          "metadata": {},
          "execution_count": 48
        }
      ]
    },
    {
      "cell_type": "markdown",
      "source": [
        "**예제 03**\n",
        "\n",
        "다음을 계산하세요.\n",
        "\n",
        "$$ A-(B \\cap C)$$ \n"
      ],
      "metadata": {
        "id": "ZvybbZ5gkRp6"
      }
    },
    {
      "cell_type": "code",
      "source": [
        "A-(B&C)"
      ],
      "metadata": {
        "id": "9v1qHbjYkS3O",
        "outputId": "22dd7af1-1df1-451a-bda0-ecfe6b8ce218",
        "colab": {
          "base_uri": "https://localhost:8080/"
        }
      },
      "execution_count": 50,
      "outputs": [
        {
          "output_type": "execute_result",
          "data": {
            "text/plain": [
              "{2, 5}"
            ]
          },
          "metadata": {},
          "execution_count": 50
        }
      ]
    },
    {
      "cell_type": "markdown",
      "source": [
        "**예제 04**\n",
        "\n",
        "다음을 계산하세요.\n",
        "\n",
        "$$ (A-B) \\cup (B \\cup C)$$"
      ],
      "metadata": {
        "id": "zI0EYfOkkU1l"
      }
    },
    {
      "cell_type": "code",
      "source": [
        "(A-B)|(B|C)"
      ],
      "metadata": {
        "id": "P7aeASLKkWSo",
        "outputId": "fa15c3ad-8a82-47db-9fbd-e97d479fd48e",
        "colab": {
          "base_uri": "https://localhost:8080/"
        }
      },
      "execution_count": 55,
      "outputs": [
        {
          "output_type": "execute_result",
          "data": {
            "text/plain": [
              "{1, 2, 3, 4, 5, 6}"
            ]
          },
          "metadata": {},
          "execution_count": 55
        }
      ]
    },
    {
      "cell_type": "markdown",
      "source": [
        "**예제 05**\n",
        "\n",
        "아래 결과의 모든 요소의 개수를 구하세요\n",
        "\n",
        "$$(A \\cap B) \\cup (B \\cap C) $$"
      ],
      "metadata": {
        "id": "-f1gEYBLkXlX"
      }
    },
    {
      "cell_type": "code",
      "source": [
        "len((A&B)|(B&C))"
      ],
      "metadata": {
        "id": "wcA5NdS1kYSn",
        "outputId": "681753d0-7b05-46f3-b36f-8da782eaec5b",
        "colab": {
          "base_uri": "https://localhost:8080/"
        }
      },
      "execution_count": 59,
      "outputs": [
        {
          "output_type": "execute_result",
          "data": {
            "text/plain": [
              "4"
            ]
          },
          "metadata": {},
          "execution_count": 59
        }
      ]
    },
    {
      "cell_type": "markdown",
      "source": [
        "\n",
        "**예제 06**\n",
        "\n",
        "아래 결과의 모든 요소의 합을 구하세요\n",
        "\n",
        "$$(B - A) \\cup (A \\cup C) $$"
      ],
      "metadata": {
        "id": "--90FvFjkZe3"
      }
    },
    {
      "cell_type": "code",
      "source": [
        "sum((B-A)|(A|C))"
      ],
      "metadata": {
        "id": "M7j_wBpNkaPI",
        "outputId": "81a08b76-56fb-4e98-f9d0-bddc22cebc3d",
        "colab": {
          "base_uri": "https://localhost:8080/"
        }
      },
      "execution_count": 61,
      "outputs": [
        {
          "output_type": "execute_result",
          "data": {
            "text/plain": [
              "21"
            ]
          },
          "metadata": {},
          "execution_count": 61
        }
      ]
    },
    {
      "cell_type": "markdown",
      "source": [
        "**예제 07**\n",
        "\n",
        "집합 `S` 가 아래와 같이 정의되어 있을 때 짝수를 제거하고 출력하세요.\n",
        "\n",
        "```\n",
        "S = {1,3,4,5,7,9,10}\n",
        "```"
      ],
      "metadata": {
        "id": "t_rpQcD6lNPF"
      }
    },
    {
      "cell_type": "code",
      "source": [
        "S = {1,3,4,5,7,9,10}\n",
        "S.remove(4)\n",
        "S.remove(10)\n",
        "print(S)"
      ],
      "metadata": {
        "id": "rCsrdC08lNHj",
        "outputId": "66eed3fc-db15-47a3-fe70-02bc98dee69b",
        "colab": {
          "base_uri": "https://localhost:8080/"
        }
      },
      "execution_count": 65,
      "outputs": [
        {
          "output_type": "stream",
          "name": "stdout",
          "text": [
            "{1, 3, 5, 7, 9}\n"
          ]
        }
      ]
    },
    {
      "cell_type": "markdown",
      "source": [
        "**예제 08**\n",
        "\n",
        "`예제 07` 에서 얻은 `S`에 15까지의 모든 홀수를 추가하고 출력하세요.\n"
      ],
      "metadata": {
        "id": "RIu3NAg9ltsS"
      }
    },
    {
      "cell_type": "code",
      "source": [
        "S.update((1,3,5,7,9,11,13,15))\n",
        "print(S)"
      ],
      "metadata": {
        "id": "Sfi0cZj-ltsS",
        "outputId": "c6ab6431-9d82-4641-e152-017ac9c37f58",
        "colab": {
          "base_uri": "https://localhost:8080/"
        }
      },
      "execution_count": 68,
      "outputs": [
        {
          "output_type": "stream",
          "name": "stdout",
          "text": [
            "{1, 3, 5, 7, 9, 11, 13, 15}\n"
          ]
        }
      ]
    },
    {
      "cell_type": "markdown",
      "source": [
        "**예제 09**\n",
        "\n",
        "아래와 같이 리스트가 정의되어 있습니다. 이 리스트에 포함된 숫자의 종류는 몇개인지 구하는 코드를 작성하세요\n",
        "\n",
        "```\n",
        "long_list = [5,3,2,3,4,3,4,5,6,67,7,5,3,4,32,24,42,5,6,8,5,5,5,5,3,3,3,56,3,3,6,7,5,8,8,7,34,55,682,232,7,87,8,5,4,32,12,21,2,2,5,4,5,355,2]\n",
        "```"
      ],
      "metadata": {
        "id": "gCewjsGckb6Q"
      }
    },
    {
      "cell_type": "code",
      "source": [],
      "metadata": {
        "id": "dGeKh_i5kcZJ"
      },
      "execution_count": null,
      "outputs": []
    },
    {
      "cell_type": "markdown",
      "source": [
        "**예제 10**\n",
        "\n",
        "사용자가 정수 `n`을 입력하면 위에서 정의한 리스트에서 `n`번째로 큰 숫자를 출력하는 코드를 작성하세요 (0번째부터 시작, 중복 없이 `n`번째 큰 숫자를 출력합니다.)\n",
        "\n"
      ],
      "metadata": {
        "id": "M1GU1Hd3kenw"
      }
    },
    {
      "cell_type": "code",
      "source": [],
      "metadata": {
        "id": "alRaEWpQke4Q"
      },
      "execution_count": null,
      "outputs": []
    }
  ]
}