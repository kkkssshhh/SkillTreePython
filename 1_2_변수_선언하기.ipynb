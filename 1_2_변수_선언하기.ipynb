{
  "nbformat": 4,
  "nbformat_minor": 0,
  "metadata": {
    "colab": {
      "name": "1-2.변수 선언하기.ipynb",
      "provenance": [],
      "include_colab_link": true
    },
    "kernelspec": {
      "name": "python3",
      "display_name": "Python 3"
    },
    "language_info": {
      "name": "python"
    }
  },
  "cells": [
    {
      "cell_type": "markdown",
      "metadata": {
        "id": "view-in-github",
        "colab_type": "text"
      },
      "source": [
        "<a href=\"https://colab.research.google.com/github/kkkssshhh/SkillTreePython/blob/main/1_2_%EB%B3%80%EC%88%98_%EC%84%A0%EC%96%B8%ED%95%98%EA%B8%B0.ipynb\" target=\"_parent\"><img src=\"https://colab.research.google.com/assets/colab-badge.svg\" alt=\"Open In Colab\"/></a>"
      ]
    },
    {
      "cell_type": "markdown",
      "source": [
        "# 1-2.변수 선언하기\n",
        "---\n",
        "* 날짜:2022.12.26\n",
        "* 이름:김시후\n"
      ],
      "metadata": {
        "id": "kB5IciXEm6o4"
      }
    },
    {
      "cell_type": "markdown",
      "source": [
        "## 개념정리\n",
        "---\n",
        "\n",
        "\n",
        "변수란 값이 들어가는 상자라고 생각할 수 있습니다. 이 변수를 지정하는 것을 바인딩(binding)이라고 합니다. \n",
        "파이썬에는 여러가지 자료형이 있습니다. 앞으로 더 다양한 자료형을 배우겠지만 이번 시간에는 가장 기본적인 수치자료형과 문자열 자료형을 이용해서 변수에 대한 기본개념을 배워보도록 합니다. \n"
      ],
      "metadata": {
        "id": "4iN8NFzHRJ2D"
      }
    },
    {
      "cell_type": "code",
      "source": [],
      "metadata": {
        "id": "cJejS-7fbSIp"
      },
      "execution_count": null,
      "outputs": []
    },
    {
      "cell_type": "markdown",
      "source": [
        "### **(1) 변수의 생성**\n",
        "\n",
        "파이썬에서 변수를 생성하는 것은 굉장히 쉽습니다. 아래 코드를 따라 작성 해봅시다. 이 코드를 작성함으로서 우리는 앞으로 `a`라는 이름을 가진 변수를 숫자 `2`인 것처럼 사용할 수 있습니다. \n",
        "\n",
        "```\n",
        "a=2\n",
        "```  \n",
        "\n",
        "\n"
      ],
      "metadata": {
        "id": "UKlkHH0IRL5h"
      }
    },
    {
      "cell_type": "code",
      "source": [
        "a=2"
      ],
      "metadata": {
        "id": "ond0nWOBRNlE"
      },
      "execution_count": 3,
      "outputs": []
    },
    {
      "cell_type": "markdown",
      "source": [
        "위에서 정의한 `a`를 한번 확인해 봅시다. \n",
        "\n",
        "```\n",
        "a\n",
        "```\n"
      ],
      "metadata": {
        "id": "DTfxz37ERNu5"
      }
    },
    {
      "cell_type": "code",
      "source": [],
      "metadata": {
        "id": "a7CnXb5sRf9R"
      },
      "execution_count": 19,
      "outputs": []
    },
    {
      "cell_type": "markdown",
      "source": [
        "숫자가 아닌 문자도 바인딩 할 수 있습니다. 이 코드는 `b`라는 이름을 가진 변수를 문자 `\"apple\"` 인 것처럼 사용할수 있게 합니다. \n",
        "\n",
        "```\n",
        "b=\"apple\"\n",
        "b\n",
        "```\n"
      ],
      "metadata": {
        "id": "hP1Dg3r-RgFG"
      }
    },
    {
      "cell_type": "code",
      "source": [
        "b=\"apple\"\n",
        "c='apple'"
      ],
      "metadata": {
        "id": "_ZNiNuDdROf4"
      },
      "execution_count": 10,
      "outputs": []
    },
    {
      "cell_type": "markdown",
      "source": [
        "#### **재바인딩**\n",
        "\n",
        "이미 바인딩 된 변수를 다시 바인딩 할 수 있습니다.  이 때 기존 값은 사라지고 새로운 값으로 대체됩니다. \n",
        "\n",
        "```\n",
        "a = 3\n",
        "a\n",
        "```"
      ],
      "metadata": {
        "id": "NBoLmg06ROrn"
      }
    },
    {
      "cell_type": "code",
      "source": [
        "a=1\n",
        "a=2\n",
        "a=3\n",
        "a"
      ],
      "metadata": {
        "id": "FiKhVqs4RX1Q",
        "colab": {
          "base_uri": "https://localhost:8080/"
        },
        "outputId": "6e6dc7ef-225f-4949-fcc9-852996d60b0c"
      },
      "execution_count": 11,
      "outputs": [
        {
          "output_type": "execute_result",
          "data": {
            "text/plain": [
              "3"
            ]
          },
          "metadata": {},
          "execution_count": 11
        }
      ]
    },
    {
      "cell_type": "markdown",
      "source": [
        "#### **정의되지 않은 변수**\n",
        "\n",
        "만약 바인딩 한적이 없는 값을 실행하면 에러가 뜹니다.\n",
        "\n",
        "```\n",
        "c\n",
        "```"
      ],
      "metadata": {
        "id": "bUcKPjqMY56k"
      }
    },
    {
      "cell_type": "code",
      "source": [
        "bc"
      ],
      "metadata": {
        "id": "jqfr8cU7Y5ZK",
        "colab": {
          "base_uri": "https://localhost:8080/",
          "height": 174
        },
        "outputId": "07ea0d70-f7de-4e10-bb54-a3b0c6864b12"
      },
      "execution_count": 17,
      "outputs": [
        {
          "output_type": "error",
          "ename": "NameError",
          "evalue": "ignored",
          "traceback": [
            "\u001b[0;31m---------------------------------------------------------------------------\u001b[0m",
            "\u001b[0;31mNameError\u001b[0m                                 Traceback (most recent call last)",
            "\u001b[0;32m<ipython-input-17-ccaebc014635>\u001b[0m in \u001b[0;36m<module>\u001b[0;34m\u001b[0m\n\u001b[0;32m----> 1\u001b[0;31m \u001b[0mbc\u001b[0m\u001b[0;34m\u001b[0m\u001b[0;34m\u001b[0m\u001b[0m\n\u001b[0m",
            "\u001b[0;31mNameError\u001b[0m: name 'bc' is not defined"
          ]
        }
      ]
    },
    {
      "cell_type": "markdown",
      "source": [
        "### **(2) 자료형 확인**\n",
        "---\n",
        "데이터의 자료형을 확인하는 것은 프로그래밍에 있어서 아주 중요합니다. 내가 변수로 지정한 값들이 어떤 자료형인지 잘 알고 있어야 각 자료형에 맞는 코드를 작성할 수 있습니다. 파이썬의 자료형에는 **리스트, 문자열 튜플, 딕셔너리, 집합, 수치, 불** 등이 있습니다. 간단하게 수치자료형과 문자열자료형으로 데이터 자료형을 확인해보고 나머지 자료형에 대해서는 추후 더 자세히 알아보도록 합니다.\n"
      ],
      "metadata": {
        "id": "9DPF9G6dZJtq"
      }
    },
    {
      "cell_type": "markdown",
      "source": [
        "* `type()` : 데이터의 자료형을 `type()` 함수를 이용하여 확인합니다. \n",
        "\n",
        "우리가 위에서 정의한 `a`의 자료형을 알아봅시다. \n",
        "\n",
        "```\n",
        "type(a)\n",
        "```\n"
      ],
      "metadata": {
        "id": "SivORDo-ZL7L"
      }
    },
    {
      "cell_type": "code",
      "source": [
        "# 파이썬의 내장함수\n",
        "type(a) #인풋의 자료형을 확인한다"
      ],
      "metadata": {
        "id": "TsnSx3UcRKZI",
        "colab": {
          "base_uri": "https://localhost:8080/"
        },
        "outputId": "d0210a45-b542-40e5-b088-d448bef70955"
      },
      "execution_count": 13,
      "outputs": [
        {
          "output_type": "execute_result",
          "data": {
            "text/plain": [
              "int"
            ]
          },
          "metadata": {},
          "execution_count": 13
        }
      ]
    },
    {
      "cell_type": "markdown",
      "source": [
        "실행 결과 `int` 라는 값이 나오는 것을 확인할 수 있습니다. `int`는 숫자 자료형 중 정수 자료형을 뜻합니다.    \n",
        "\n",
        "이번엔 `b`의 자료형을 알아봅시다.\n",
        "\n",
        "```\n",
        "type(b)\n",
        "```\n"
      ],
      "metadata": {
        "id": "3al10KSPZO_e"
      }
    },
    {
      "cell_type": "code",
      "source": [
        "type(b)"
      ],
      "metadata": {
        "id": "ZSIR3KlaZM_c",
        "colab": {
          "base_uri": "https://localhost:8080/"
        },
        "outputId": "492751c1-b5d1-4203-fe42-d11ce20c01f0"
      },
      "execution_count": 14,
      "outputs": [
        {
          "output_type": "execute_result",
          "data": {
            "text/plain": [
              "str"
            ]
          },
          "metadata": {},
          "execution_count": 14
        }
      ]
    },
    {
      "cell_type": "markdown",
      "source": [
        "실행 결과 `str` 라는 값이 나오는 것을 확인할 수 있습니다. `str`는 문자열 자료형을 뜻합니다.  \n",
        "\n",
        "아래와 같이 숫자로 이루어진 값이라도 따음표를 사용해 작성하면 문자열 자료형으로 저장됩니다. \n",
        "\n",
        "```\n",
        "c = \"123\"\n",
        "c, type(c)\n",
        "```"
      ],
      "metadata": {
        "id": "V63fc8DzoLxw"
      }
    },
    {
      "cell_type": "code",
      "source": [
        "c = \"123\"\n",
        "c, type(c)"
      ],
      "metadata": {
        "id": "RA_dUav0qPJN",
        "colab": {
          "base_uri": "https://localhost:8080/"
        },
        "outputId": "5c7c6b8f-32f9-469d-dbc8-250464004108"
      },
      "execution_count": 16,
      "outputs": [
        {
          "output_type": "execute_result",
          "data": {
            "text/plain": [
              "('123', str)"
            ]
          },
          "metadata": {},
          "execution_count": 16
        }
      ]
    },
    {
      "cell_type": "markdown",
      "source": [
        "## 문제풀이\n",
        "---"
      ],
      "metadata": {
        "id": "JPZeQrxgxJJF"
      }
    },
    {
      "cell_type": "markdown",
      "source": [
        "**예제 01**\n",
        "\n",
        "아래 변수에 바인딩된 값의 타입을 판별해보세요.\n",
        "\n",
        "```\n",
        "a = 132\n",
        "```"
      ],
      "metadata": {
        "id": "S6NDuF_TxNsj"
      }
    },
    {
      "cell_type": "code",
      "source": [
        "a=132"
      ],
      "metadata": {
        "id": "IUQi5TpfxLwc"
      },
      "execution_count": 20,
      "outputs": []
    },
    {
      "cell_type": "markdown",
      "source": [
        "**예제 02**\n",
        "\n",
        "아래 변수에 바인딩된 값의 타입을 판별해보세요.\n",
        "\n",
        "\n",
        "```\n",
        "a = \"132\"\n",
        "```"
      ],
      "metadata": {
        "id": "4Hptj9hUxPr3"
      }
    },
    {
      "cell_type": "code",
      "source": [
        "b=\"apple\""
      ],
      "metadata": {
        "id": "yvAcIx4L8Zwt"
      },
      "execution_count": 21,
      "outputs": []
    },
    {
      "cell_type": "markdown",
      "source": [
        "**예제 03**\n",
        "\n",
        "아래 코드에서 `c`의 최종 값을 예측하고 실행해 보세요\n",
        "\n",
        "```\n",
        "a = 1\n",
        "b = 2\n",
        "c = a+b\n",
        "```"
      ],
      "metadata": {
        "id": "stz9gemAxRNI"
      }
    },
    {
      "cell_type": "code",
      "source": [
        "a=132\n",
        "b=\"apple\"\n"
      ],
      "metadata": {
        "id": "pBWMoVPC8aJ8"
      },
      "execution_count": 25,
      "outputs": []
    },
    {
      "cell_type": "markdown",
      "source": [
        "**예제 04**\n",
        "\n",
        "아래 코드에서 `a`의 최종 값을 예측하고 실행해 보세요\n",
        "\n",
        "```\n",
        "a = 1\n",
        "a = a+1\n",
        "```"
      ],
      "metadata": {
        "id": "BKug_5lN7NAS"
      }
    },
    {
      "cell_type": "code",
      "source": [
        "a=132"
      ],
      "metadata": {
        "id": "ci12rxxUgZUO"
      },
      "execution_count": 26,
      "outputs": []
    },
    {
      "cell_type": "code",
      "source": [
        "a=a+132"
      ],
      "metadata": {
        "id": "4kuhxl6K8aiO"
      },
      "execution_count": 27,
      "outputs": []
    },
    {
      "cell_type": "markdown",
      "source": [
        "**예제 05**\n",
        "\n",
        "아래 코드에서 `b`의 최종 값을 예측하고 실행해 보세요\n",
        "\n",
        "```\n",
        "a = 1\n",
        "b = a+2\n",
        "b = a+2\n",
        "```"
      ],
      "metadata": {
        "id": "gqns5it27OZk"
      }
    },
    {
      "cell_type": "code",
      "source": [
        "b=\"apple\""
      ],
      "metadata": {
        "id": "HdB-Ptk58jNc"
      },
      "execution_count": 28,
      "outputs": []
    },
    {
      "cell_type": "markdown",
      "source": [
        "**예제 06**\n",
        "\n",
        "아래 코드에서 `a`의 최종 값을 예측하고 `+=`가 뜻하는 것이 무엇인지 생각해 보세요\n",
        "\n",
        "```\n",
        "a = 1\n",
        "a += 2\n",
        "```\n"
      ],
      "metadata": {
        "id": "ImHI8rZa7Ri2"
      }
    },
    {
      "cell_type": "code",
      "source": [
        "a=1\n",
        "a +=2"
      ],
      "metadata": {
        "id": "drP2EGod8jh3"
      },
      "execution_count": 30,
      "outputs": []
    },
    {
      "cell_type": "markdown",
      "source": [
        "**예제 07**\n",
        "\n",
        "아래 코드에서 `b`의 최종 값을 예측하고 실행해 보세요\n",
        "\n",
        "```\n",
        "a = 1\n",
        "b = a-2\n",
        "b = a-2\n",
        "```"
      ],
      "metadata": {
        "id": "IrIAl7T67TuF"
      }
    },
    {
      "cell_type": "code",
      "source": [
        "a=132\n",
        "b=\"apple\"\n",
        "b=132-2"
      ],
      "metadata": {
        "id": "TeaQAuiM8j3T"
      },
      "execution_count": 32,
      "outputs": []
    },
    {
      "cell_type": "markdown",
      "source": [
        "**예제 08**\n",
        "\n",
        "아래 코드에서 `a`의 최종 값을 예측하고 `-=`가 뜻하는 것이 무엇인지 생각해 보세요\n",
        "\n",
        "```\n",
        "a = 1\n",
        "a -= 2\n",
        "```\n"
      ],
      "metadata": {
        "id": "-Uw0J0yZ8WC8"
      }
    },
    {
      "cell_type": "code",
      "source": [
        "130"
      ],
      "metadata": {
        "id": "uxf3akTY8kOg",
        "colab": {
          "base_uri": "https://localhost:8080/"
        },
        "outputId": "d850a0ae-19fa-4cb7-c43a-9836264f59f3"
      },
      "execution_count": 33,
      "outputs": [
        {
          "output_type": "execute_result",
          "data": {
            "text/plain": [
              "130"
            ]
          },
          "metadata": {},
          "execution_count": 33
        }
      ]
    },
    {
      "cell_type": "markdown",
      "source": [
        "**예제 09**\n",
        "\n",
        "아래 코드를 실행해보고 에러가 뜨는 이유를 설명하세요\n",
        "\n",
        "```\n",
        "a = '12345'\n",
        "a = a+1000\n",
        "```\n"
      ],
      "metadata": {
        "id": "2mg9MMwq8W9Y"
      }
    },
    {
      "cell_type": "code",
      "source": [
        "a='12345'\n",
        "a=a+1000"
      ],
      "metadata": {
        "id": "AVd52M5n8kkS",
        "colab": {
          "base_uri": "https://localhost:8080/",
          "height": 193
        },
        "outputId": "02fa7c44-c6a9-4afb-8e0b-69ab4ebe5cad"
      },
      "execution_count": 35,
      "outputs": [
        {
          "output_type": "error",
          "ename": "TypeError",
          "evalue": "ignored",
          "traceback": [
            "\u001b[0;31m---------------------------------------------------------------------------\u001b[0m",
            "\u001b[0;31mTypeError\u001b[0m                                 Traceback (most recent call last)",
            "\u001b[0;32m<ipython-input-35-4c8b567bce79>\u001b[0m in \u001b[0;36m<module>\u001b[0;34m\u001b[0m\n\u001b[1;32m      1\u001b[0m \u001b[0ma\u001b[0m\u001b[0;34m=\u001b[0m\u001b[0;34m'12345'\u001b[0m\u001b[0;34m\u001b[0m\u001b[0;34m\u001b[0m\u001b[0m\n\u001b[0;32m----> 2\u001b[0;31m \u001b[0ma\u001b[0m\u001b[0;34m=\u001b[0m\u001b[0ma\u001b[0m\u001b[0;34m+\u001b[0m\u001b[0;36m1000\u001b[0m\u001b[0;34m\u001b[0m\u001b[0;34m\u001b[0m\u001b[0m\n\u001b[0m",
            "\u001b[0;31mTypeError\u001b[0m: can only concatenate str (not \"int\") to str"
          ]
        }
      ]
    },
    {
      "cell_type": "markdown",
      "source": [
        "**예제 10**\n",
        "\n",
        "\n",
        "아래 코드를 실행해보고 에러가 뜨는 이유를 설명하세요\n",
        "```\n",
        "g = 1\n",
        "h = 2\n",
        "g+h+i\n",
        "```\n"
      ],
      "metadata": {
        "id": "HtnfpWOF8YV_"
      }
    },
    {
      "cell_type": "code",
      "source": [
        "g=1\n",
        "h=2\n",
        "g+h+i"
      ],
      "metadata": {
        "id": "7YLeLXqlxRnc",
        "colab": {
          "base_uri": "https://localhost:8080/",
          "height": 211
        },
        "outputId": "f0de00ac-f4ec-491d-9a09-cec0509651da"
      },
      "execution_count": 36,
      "outputs": [
        {
          "output_type": "error",
          "ename": "NameError",
          "evalue": "ignored",
          "traceback": [
            "\u001b[0;31m---------------------------------------------------------------------------\u001b[0m",
            "\u001b[0;31mNameError\u001b[0m                                 Traceback (most recent call last)",
            "\u001b[0;32m<ipython-input-36-e65b2406d42c>\u001b[0m in \u001b[0;36m<module>\u001b[0;34m\u001b[0m\n\u001b[1;32m      1\u001b[0m \u001b[0mg\u001b[0m\u001b[0;34m=\u001b[0m\u001b[0;36m1\u001b[0m\u001b[0;34m\u001b[0m\u001b[0;34m\u001b[0m\u001b[0m\n\u001b[1;32m      2\u001b[0m \u001b[0mh\u001b[0m\u001b[0;34m=\u001b[0m\u001b[0;36m2\u001b[0m\u001b[0;34m\u001b[0m\u001b[0;34m\u001b[0m\u001b[0m\n\u001b[0;32m----> 3\u001b[0;31m \u001b[0mg\u001b[0m\u001b[0;34m+\u001b[0m\u001b[0mh\u001b[0m\u001b[0;34m+\u001b[0m\u001b[0mi\u001b[0m\u001b[0;34m\u001b[0m\u001b[0;34m\u001b[0m\u001b[0m\n\u001b[0m",
            "\u001b[0;31mNameError\u001b[0m: name 'i' is not defined"
          ]
        }
      ]
    },
    {
      "cell_type": "code",
      "source": [
        "i는 정해진게 없어서 ?"
      ],
      "metadata": {
        "id": "jBoB-g_nh43S"
      },
      "execution_count": null,
      "outputs": []
    }
  ]
}