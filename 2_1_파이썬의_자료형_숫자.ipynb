{
  "nbformat": 4,
  "nbformat_minor": 0,
  "metadata": {
    "colab": {
      "name": "2-1.파이썬의 자료형:숫자.ipynb",
      "provenance": [],
      "include_colab_link": true
    },
    "kernelspec": {
      "name": "python3",
      "display_name": "Python 3"
    },
    "language_info": {
      "name": "python"
    }
  },
  "cells": [
    {
      "cell_type": "markdown",
      "metadata": {
        "id": "view-in-github",
        "colab_type": "text"
      },
      "source": [
        "<a href=\"https://colab.research.google.com/github/kkkssshhh/SkillTreePython/blob/main/2_1_%ED%8C%8C%EC%9D%B4%EC%8D%AC%EC%9D%98_%EC%9E%90%EB%A3%8C%ED%98%95_%EC%88%AB%EC%9E%90.ipynb\" target=\"_parent\"><img src=\"https://colab.research.google.com/assets/colab-badge.svg\" alt=\"Open In Colab\"/></a>"
      ]
    },
    {
      "cell_type": "markdown",
      "source": [
        "# 2-1.파이썬의 자료형:숫자\n",
        "---\n",
        "* 날짜:\n",
        "* 이름:김시후"
      ],
      "metadata": {
        "id": "kB5IciXEm6o4"
      }
    },
    {
      "cell_type": "markdown",
      "source": [
        "## 개념정리\n",
        "---\n",
        "\n",
        "\n",
        "코드를 작성하면서 우리는 다양한 데이터 자료형을 접하게 됩니다. 그 중 수치 자료형은 개수, 가격, 날짜 등 여러가지 데이터를 효과적으로 처리할 수 있습니다. 수치 자료형에 대해 알아보고 데이터 타입이 수치 자료형일 때 어떤 부가적인 연산들을 수행할 수 있는지 알아보도록 합니다. "
      ],
      "metadata": {
        "id": "4iN8NFzHRJ2D"
      }
    },
    {
      "cell_type": "markdown",
      "source": [
        "### (1) 수치자료형의 종류\n",
        "\n",
        "\n",
        "\n"
      ],
      "metadata": {
        "id": "UKlkHH0IRL5h"
      }
    },
    {
      "cell_type": "markdown",
      "source": [
        "#### **정수 `int`**\n",
        "정수형 자료형은 `int` 로 표시 됩니다. -1,-2, ... 0 , 1, 2 ,...  등 정수값을 나타냅니다. \n",
        "```\n",
        "num = 2\n",
        "print(num, type(num))\n",
        "```\n",
        "\n",
        "\n"
      ],
      "metadata": {
        "id": "opbfNksrAq4P"
      }
    },
    {
      "cell_type": "code",
      "source": [],
      "metadata": {
        "id": "0LEqDvQhtLwP"
      },
      "execution_count": null,
      "outputs": []
    },
    {
      "cell_type": "markdown",
      "source": [
        "#### **실수 `float`**\n",
        "실수값은 `float`으로 표시 됩니다. 3.0, 3.1 , ... 등 실수값을 나타냅니다. \n",
        "```\n",
        "num = -0.2\n",
        "print(num, type(num))\n",
        "```"
      ],
      "metadata": {
        "id": "DbjTishvtQNU"
      }
    },
    {
      "cell_type": "code",
      "source": [],
      "metadata": {
        "id": "b2HTH0H1tS68"
      },
      "execution_count": null,
      "outputs": []
    },
    {
      "cell_type": "markdown",
      "source": [
        "#### **복소수 `complex`**\n",
        "복소수는 제곱했을 때 음수가 되는 수입니다. 아래와 같이 정의할 수 있습니다.\n",
        "```\n",
        "num = 1+4j\n",
        "print(num, type(num))\n",
        "```"
      ],
      "metadata": {
        "id": "X2i8usALtUJL"
      }
    },
    {
      "cell_type": "code",
      "source": [],
      "metadata": {
        "id": "I37szg1RtXXE"
      },
      "execution_count": null,
      "outputs": []
    },
    {
      "cell_type": "markdown",
      "source": [
        "복소수 자료형 경우  파이썬 내장 함수를 통해 실수값, 허수값, 컬례 복소수 등을 알 수 있습니다.\n",
        "\n",
        "* `.real` : 복소수의 실수값을 확인합니다.\n",
        "\n",
        "```\n",
        "print(num.real)\n",
        "```\n"
      ],
      "metadata": {
        "id": "7zHbFccVtaFY"
      }
    },
    {
      "cell_type": "code",
      "source": [],
      "metadata": {
        "id": "iLhCsBONdsam"
      },
      "execution_count": null,
      "outputs": []
    },
    {
      "cell_type": "markdown",
      "source": [
        "\n",
        "* `.imag`: 복소수의 허수값을 확인합니다.\n",
        "\n",
        "```\n",
        "print(num.imag) # 허수값\n",
        "```\n"
      ],
      "metadata": {
        "id": "RR0Kdb6Ydsmt"
      }
    },
    {
      "cell_type": "code",
      "source": [],
      "metadata": {
        "id": "tD46aK3Ndtkr"
      },
      "execution_count": null,
      "outputs": []
    },
    {
      "cell_type": "markdown",
      "source": [
        "\n",
        "* `.conjugate()`: 복소수의 컬례복소수를 확인합니다.\n",
        "\n",
        "```\n",
        "print(num.conjugate()) # 컬례복소수\n",
        "```"
      ],
      "metadata": {
        "id": "0dLg3PeDdt-f"
      }
    },
    {
      "cell_type": "code",
      "source": [],
      "metadata": {
        "id": "KTZ6dBVEta78"
      },
      "execution_count": null,
      "outputs": []
    },
    {
      "cell_type": "markdown",
      "source": [
        "### (2) 수치자료형의 타입 변환\n",
        "\n",
        "수치자료형의 타입을 변환 할 수 있습니다. 아래와 같이 `a`를 값 1인 정수값으로 정의합시다.\n",
        "\n",
        "```\n",
        "a=1\n",
        "a, type(a)\n",
        "```"
      ],
      "metadata": {
        "id": "tTuhebzSy8w8"
      }
    },
    {
      "cell_type": "code",
      "source": [
        "a=1\n",
        "a, type(a)"
      ],
      "metadata": {
        "id": "mR3gG9It2SD3",
        "outputId": "e717df13-a31f-4299-8e48-8f4fe4efffc5",
        "colab": {
          "base_uri": "https://localhost:8080/"
        }
      },
      "execution_count": 1,
      "outputs": [
        {
          "output_type": "execute_result",
          "data": {
            "text/plain": [
              "(1, int)"
            ]
          },
          "metadata": {},
          "execution_count": 1
        }
      ]
    },
    {
      "cell_type": "markdown",
      "source": [
        "현재 `int` 타입인 값을 `float`으로 변환해보도록 합시다.\n",
        "\n",
        "```\n",
        "a = float(a)\n",
        "print(a, type(a))\n",
        "```"
      ],
      "metadata": {
        "id": "kfSac_Bj_ttS"
      }
    },
    {
      "cell_type": "code",
      "source": [
        "a = float(a)\n",
        "print(a, type(a))"
      ],
      "metadata": {
        "id": "RScoLai_4UA9",
        "outputId": "e9930041-a8b6-4625-9744-91eb3bddef04",
        "colab": {
          "base_uri": "https://localhost:8080/"
        }
      },
      "execution_count": 2,
      "outputs": [
        {
          "output_type": "stream",
          "name": "stdout",
          "text": [
            "1.0 <class 'float'>\n"
          ]
        }
      ]
    },
    {
      "cell_type": "markdown",
      "source": [
        "다시 `int` 로 변환 해봅시다.\n",
        "\n",
        "```\n",
        "a = int(a)\n",
        "print(a, type(a))\n",
        "```"
      ],
      "metadata": {
        "id": "yCd_3r26_3ik"
      }
    },
    {
      "cell_type": "code",
      "source": [
        "a=int(a)\n",
        "a,type(a)"
      ],
      "metadata": {
        "id": "HIuhv_bv_3in",
        "outputId": "7d199062-5879-4e7d-b855-faf5dab8d7d0",
        "colab": {
          "base_uri": "https://localhost:8080/"
        }
      },
      "execution_count": 3,
      "outputs": [
        {
          "output_type": "execute_result",
          "data": {
            "text/plain": [
              "(1, int)"
            ]
          },
          "metadata": {},
          "execution_count": 3
        }
      ]
    },
    {
      "cell_type": "code",
      "source": [],
      "metadata": {
        "id": "AzdpeCiDGaoQ"
      },
      "execution_count": null,
      "outputs": []
    },
    {
      "cell_type": "markdown",
      "source": [
        "참고로 문자형과도 변환이 가능합니다.\n",
        "\n",
        "```\n",
        "a = str(a)\n",
        "print(a, type(a))\n",
        "```"
      ],
      "metadata": {
        "id": "eY5X8k7nCDpL"
      }
    },
    {
      "cell_type": "code",
      "source": [
        "a=str(a)\n",
        "a,type(a)"
      ],
      "metadata": {
        "id": "MUGC452kGZeC",
        "outputId": "9ceb7cb4-cd82-4450-9c12-b58eabb04b52",
        "colab": {
          "base_uri": "https://localhost:8080/"
        }
      },
      "execution_count": 4,
      "outputs": [
        {
          "output_type": "execute_result",
          "data": {
            "text/plain": [
              "('1', str)"
            ]
          },
          "metadata": {},
          "execution_count": 4
        }
      ]
    },
    {
      "cell_type": "markdown",
      "source": [
        "### (3) 산술연산자\n",
        "\n",
        "수치 자료형은 각종 산술연산이 가능합니다. 우리가 일반적으로 쓰는 덧셈, 뺄셈, 곱셉, 나눈셈을 수행해 보겠습니다. 아래 코드를 따라 쓰고 무엇이 나오는지 예측해 봅니다"
      ],
      "metadata": {
        "id": "PtSek8BAtiOx"
      }
    },
    {
      "cell_type": "markdown",
      "source": [
        "*  `+` 더하기\n",
        "\n",
        "```\n",
        "2+2\n",
        "```"
      ],
      "metadata": {
        "id": "EbG9oc_5tmB8"
      }
    },
    {
      "cell_type": "code",
      "source": [
        "2+2"
      ],
      "metadata": {
        "id": "o8tsqP0XtmVT",
        "outputId": "08232024-ac0e-4dda-e329-0b8ff9d51dfd",
        "colab": {
          "base_uri": "https://localhost:8080/"
        }
      },
      "execution_count": 5,
      "outputs": [
        {
          "output_type": "execute_result",
          "data": {
            "text/plain": [
              "4"
            ]
          },
          "metadata": {},
          "execution_count": 5
        }
      ]
    },
    {
      "cell_type": "markdown",
      "source": [
        "*   `-` 빼기\n",
        "\n",
        "```\n",
        "2-2\n",
        "```\n"
      ],
      "metadata": {
        "id": "73VOGRGqtpHM"
      }
    },
    {
      "cell_type": "code",
      "source": [
        "2-2"
      ],
      "metadata": {
        "id": "5pVh9h6rtyNN",
        "outputId": "2ca151fd-baad-4f21-ae5b-657cd32a82f7",
        "colab": {
          "base_uri": "https://localhost:8080/"
        }
      },
      "execution_count": 6,
      "outputs": [
        {
          "output_type": "execute_result",
          "data": {
            "text/plain": [
              "0"
            ]
          },
          "metadata": {},
          "execution_count": 6
        }
      ]
    },
    {
      "cell_type": "markdown",
      "source": [
        "*  `*` 곱하기\n",
        "  \n",
        "```\n",
        "2*2\n",
        "```"
      ],
      "metadata": {
        "id": "WfjAvOO_t1Sn"
      }
    },
    {
      "cell_type": "code",
      "source": [
        "2*2"
      ],
      "metadata": {
        "id": "rKG3lqZJt6aD",
        "outputId": "5211d1e9-0de7-482a-966a-98190a9039b2",
        "colab": {
          "base_uri": "https://localhost:8080/"
        }
      },
      "execution_count": 7,
      "outputs": [
        {
          "output_type": "execute_result",
          "data": {
            "text/plain": [
              "4"
            ]
          },
          "metadata": {},
          "execution_count": 7
        }
      ]
    },
    {
      "cell_type": "markdown",
      "source": [
        "*  `**` 제곱\n",
        "\n",
        "```\n",
        "2**2\n",
        "```\n"
      ],
      "metadata": {
        "id": "htPsV_JAt2hb"
      }
    },
    {
      "cell_type": "code",
      "source": [
        "2**2"
      ],
      "metadata": {
        "id": "4kbSrnvNt6zp",
        "outputId": "ba7b640f-bd36-4573-e2e2-e0eb0dbe0639",
        "colab": {
          "base_uri": "https://localhost:8080/"
        }
      },
      "execution_count": 8,
      "outputs": [
        {
          "output_type": "execute_result",
          "data": {
            "text/plain": [
              "4"
            ]
          },
          "metadata": {},
          "execution_count": 8
        }
      ]
    },
    {
      "cell_type": "markdown",
      "source": [
        "\n",
        "*  `/` 나누기\n",
        "\n",
        "```\n",
        "2/2\n",
        "```"
      ],
      "metadata": {
        "id": "rqGwmZiut3aV"
      }
    },
    {
      "cell_type": "code",
      "source": [
        "2/2"
      ],
      "metadata": {
        "id": "6ontYOp7t7Mb",
        "outputId": "89e67837-8eaa-43bc-9e72-bc0432b86030",
        "colab": {
          "base_uri": "https://localhost:8080/"
        }
      },
      "execution_count": 9,
      "outputs": [
        {
          "output_type": "execute_result",
          "data": {
            "text/plain": [
              "1.0"
            ]
          },
          "metadata": {},
          "execution_count": 9
        }
      ]
    },
    {
      "cell_type": "markdown",
      "source": [
        "*  `//` 몫\n",
        "\n",
        "```\n",
        "2//2\n",
        "```"
      ],
      "metadata": {
        "id": "cGP6uK5mt4dm"
      }
    },
    {
      "cell_type": "code",
      "source": [
        "2//2"
      ],
      "metadata": {
        "id": "7LiMjLh5t7pD",
        "outputId": "2b0bae67-254a-4ce9-fbdd-59d8d3889229",
        "colab": {
          "base_uri": "https://localhost:8080/"
        }
      },
      "execution_count": 10,
      "outputs": [
        {
          "output_type": "execute_result",
          "data": {
            "text/plain": [
              "1"
            ]
          },
          "metadata": {},
          "execution_count": 10
        }
      ]
    },
    {
      "cell_type": "markdown",
      "source": [
        "* `%` 나머지\n",
        "\n",
        "```\n",
        "2%2\n",
        "```\n"
      ],
      "metadata": {
        "id": "SRudXVcNt5GW"
      }
    },
    {
      "cell_type": "code",
      "source": [
        "44%3"
      ],
      "metadata": {
        "id": "f6CZv0bFt79-",
        "outputId": "c093439a-5212-4764-dd0a-b8463fc578af",
        "colab": {
          "base_uri": "https://localhost:8080/"
        }
      },
      "execution_count": 13,
      "outputs": [
        {
          "output_type": "execute_result",
          "data": {
            "text/plain": [
              "2"
            ]
          },
          "metadata": {},
          "execution_count": 13
        }
      ]
    },
    {
      "cell_type": "markdown",
      "source": [
        "### **(4) 할당 연산자**\n",
        "\n",
        "할당연산자는 값을 변수에 바로 할당하는 연산자 입니다. 할당이란 것은 바인딩과 동일한 의미입니다. 따라서 `=` 이 기호는 할당연산자 라고 할 수 있습니다. 그러나 `=` 말고도 할당연산자는 몇개 더 있습니다. \n",
        "\n",
        "| 기호 | 뜻 |\n",
        "|--|--|\n",
        "|`+=`| 더한 후 대입 |\n",
        "|`-=`| 뺀 후  대입 |\n",
        "|`*=`| 곱한 후 대입 |\n",
        "|`**=`| 제곱 후 대입 |\n",
        "|`/=`| 나눈 후 대입 |\n",
        "|`//=`| 나눈 후 몫을 대입 |\n",
        "|`%=`| 나눈 후 나머지 대입 |\n"
      ],
      "metadata": {
        "id": "URp5HnPyAUf-"
      }
    },
    {
      "cell_type": "markdown",
      "source": [
        "#### **더한 후 대입하기**\n",
        "\n",
        "\n",
        "* `+=`\n",
        "\n",
        "```\n",
        "a = 5\n",
        "b = 2\n",
        "a += b # 할당연산자 사용  `a = a+b` 과 동일\n",
        "print(a)\n",
        "```\n"
      ],
      "metadata": {
        "id": "evZqLrJBAX8z"
      }
    },
    {
      "cell_type": "code",
      "source": [
        "a = 5\n",
        "b = 2\n",
        "a += b # 할당연산자 사용  `a = a+b` 과 동일\n",
        "print(a)"
      ],
      "metadata": {
        "id": "66psqHA-Aduu",
        "outputId": "e8e22463-0603-4974-ab25-781cc8d52d80",
        "colab": {
          "base_uri": "https://localhost:8080/"
        }
      },
      "execution_count": 14,
      "outputs": [
        {
          "output_type": "stream",
          "name": "stdout",
          "text": [
            "7\n"
          ]
        }
      ]
    },
    {
      "cell_type": "markdown",
      "source": [
        "#### **뺀 후 대입하기**\n",
        "\n",
        "* `-=`\n",
        "\n",
        "```\n",
        "a = 5\n",
        "b = 2\n",
        "a -= b # 할당연산자 사용  `a = a-b` 과 동일\n",
        "print(a)\n",
        "```"
      ],
      "metadata": {
        "id": "mX3PEz11Afq_"
      }
    },
    {
      "cell_type": "code",
      "source": [
        "a = 5\n",
        "b = 2\n",
        "a -= b # 할당연산자 사용  `a = a-b` 과 동일\n",
        "print(a)"
      ],
      "metadata": {
        "id": "OGWSGrzNAfb6",
        "outputId": "87c93936-5ede-43ad-932b-f952ba24a73d",
        "colab": {
          "base_uri": "https://localhost:8080/"
        }
      },
      "execution_count": 15,
      "outputs": [
        {
          "output_type": "stream",
          "name": "stdout",
          "text": [
            "3\n"
          ]
        }
      ]
    },
    {
      "cell_type": "code",
      "source": [
        "a=9\n",
        "b=5\n",
        "a-b\n"
      ],
      "metadata": {
        "id": "t3Kh6k3LHhZy",
        "outputId": "10560fcc-07ab-457b-9689-cfed98f87e51",
        "colab": {
          "base_uri": "https://localhost:8080/"
        }
      },
      "execution_count": 20,
      "outputs": [
        {
          "output_type": "execute_result",
          "data": {
            "text/plain": [
              "4"
            ]
          },
          "metadata": {},
          "execution_count": 20
        }
      ]
    },
    {
      "cell_type": "markdown",
      "source": [
        "#### **곱한 후 대입하기**\n",
        "\n",
        "* `*=`\n",
        "\n",
        "```\n",
        "a = 5\n",
        "b = 2\n",
        "a *= b # 할당연산자 사용  `a = a*b` 과 동일\n",
        "print(a)\n",
        "```"
      ],
      "metadata": {
        "id": "SNkIoHeHDIUM"
      }
    },
    {
      "cell_type": "code",
      "source": [
        "a = 5\n",
        "b = 2\n",
        "a *= b # 할당연산자 사용  `a = a*b` 과 동일\n",
        "print(a)"
      ],
      "metadata": {
        "id": "D_YUo_owHgS6",
        "outputId": "f15f1d39-2548-44c7-92e4-91b84091a462",
        "colab": {
          "base_uri": "https://localhost:8080/"
        }
      },
      "execution_count": 21,
      "outputs": [
        {
          "output_type": "stream",
          "name": "stdout",
          "text": [
            "10\n"
          ]
        }
      ]
    },
    {
      "cell_type": "code",
      "source": [
        "a=5\n",
        "b=2\n",
        "a*b"
      ],
      "metadata": {
        "id": "az6FzkQuDKym",
        "outputId": "22917fa4-8d22-4fca-8fa5-15aeac6114d4",
        "colab": {
          "base_uri": "https://localhost:8080/"
        }
      },
      "execution_count": 22,
      "outputs": [
        {
          "output_type": "execute_result",
          "data": {
            "text/plain": [
              "10"
            ]
          },
          "metadata": {},
          "execution_count": 22
        }
      ]
    },
    {
      "cell_type": "markdown",
      "source": [
        "#### **제곱 후 대입하기**\n",
        "\n",
        "* `**=`\n",
        "\n",
        "```\n",
        "a = 5\n",
        "b = 2\n",
        "a **= b # 할당연산자 사용  `a = a**b` 과 동일\n",
        "print(a)\n",
        "```"
      ],
      "metadata": {
        "id": "Evcg80s5DPC4"
      }
    },
    {
      "cell_type": "code",
      "source": [
        "a = 5\n",
        "b = 2\n",
        "a **= b # 할당연산자 사용  `a = a**b` 과 동일\n",
        "print(a)"
      ],
      "metadata": {
        "id": "hpE25qg0DPyP",
        "outputId": "40b1c957-3a9f-4792-b3d0-e015e952d3cd",
        "colab": {
          "base_uri": "https://localhost:8080/"
        }
      },
      "execution_count": 23,
      "outputs": [
        {
          "output_type": "stream",
          "name": "stdout",
          "text": [
            "25\n"
          ]
        }
      ]
    },
    {
      "cell_type": "code",
      "source": [
        "a=5\n",
        "b=2\n",
        "a**b"
      ],
      "metadata": {
        "id": "ltLL9ng0Jki0",
        "outputId": "cc793241-9378-430f-89ca-ddf96d4acc8e",
        "colab": {
          "base_uri": "https://localhost:8080/"
        }
      },
      "execution_count": 24,
      "outputs": [
        {
          "output_type": "execute_result",
          "data": {
            "text/plain": [
              "25"
            ]
          },
          "metadata": {},
          "execution_count": 24
        }
      ]
    },
    {
      "cell_type": "markdown",
      "source": [
        "#### **나눈 후 대입하기**\n",
        "\n",
        "* `/=`\n",
        "\n",
        "```\n",
        "a = 5\n",
        "b = 2\n",
        "a /= b # 할당연산자 사용  `a = a/b` 과 동일\n",
        "print(a)\n",
        "```"
      ],
      "metadata": {
        "id": "20DMtEcLDTMm"
      }
    },
    {
      "cell_type": "code",
      "source": [
        "a = 5\n",
        "b = 2\n",
        "a **= b # 할당연산자 사용  `a = a**b` 과 동일\n",
        "print(a)"
      ],
      "metadata": {
        "id": "RyR5M61DDVPv",
        "outputId": "e7da86fb-d6cb-4cef-af19-7f26089bbdf6",
        "colab": {
          "base_uri": "https://localhost:8080/"
        }
      },
      "execution_count": 25,
      "outputs": [
        {
          "output_type": "stream",
          "name": "stdout",
          "text": [
            "25\n"
          ]
        }
      ]
    },
    {
      "cell_type": "markdown",
      "source": [
        "#### **나눈 후 몫을 대입하기**\n",
        "\n",
        "* `//=`\n",
        "\n",
        "```\n",
        "a = 5\n",
        "b = 2\n",
        "a //= b # 할당연산자 사용  `a = a//b` 과 동일\n",
        "print(a)\n",
        "```"
      ],
      "metadata": {
        "id": "hbXeSlqoD8o3"
      }
    },
    {
      "cell_type": "code",
      "source": [
        "a = 5\n",
        "b = 2\n",
        "a //= b # 할당연산자 사용  `a = a//b` 과 동일\n",
        "print(a)"
      ],
      "metadata": {
        "id": "umWFbBJBEBBt",
        "outputId": "8f6ee357-256c-461f-a98a-e2dde26c09a7",
        "colab": {
          "base_uri": "https://localhost:8080/"
        }
      },
      "execution_count": 26,
      "outputs": [
        {
          "output_type": "stream",
          "name": "stdout",
          "text": [
            "2\n"
          ]
        }
      ]
    },
    {
      "cell_type": "code",
      "source": [
        "a=77\n",
        "b=4\n",
        "a//=b\n",
        "print(a)"
      ],
      "metadata": {
        "id": "Ko-MXMl7JyTr",
        "outputId": "6bb1b6eb-243e-45d0-fdec-102ab6641347",
        "colab": {
          "base_uri": "https://localhost:8080/"
        }
      },
      "execution_count": 31,
      "outputs": [
        {
          "output_type": "stream",
          "name": "stdout",
          "text": [
            "19\n"
          ]
        }
      ]
    },
    {
      "cell_type": "markdown",
      "source": [
        "### 나눈 후 나머지를 대입하기\n",
        "\n",
        "* `%=`\n",
        "\n",
        "```\n",
        "a = 5\n",
        "b = 2\n",
        "a %= b # 할당연산자 사용  `a = a%b` 과 동일\n",
        "print(a)\n",
        "```"
      ],
      "metadata": {
        "id": "27IOeqppEBRj"
      }
    },
    {
      "cell_type": "code",
      "source": [
        "a = 87\n",
        "b = 5\n",
        "a %= b # 할당연산자 사용  `a = a%b` 과 동일\n",
        "print(a)"
      ],
      "metadata": {
        "id": "bShKWVX-EDNf",
        "outputId": "e067b0d8-fd0e-4357-c055-4c9f56f2eb7a",
        "colab": {
          "base_uri": "https://localhost:8080/"
        }
      },
      "execution_count": 32,
      "outputs": [
        {
          "output_type": "stream",
          "name": "stdout",
          "text": [
            "2\n"
          ]
        }
      ]
    },
    {
      "cell_type": "markdown",
      "source": [
        "## 문제풀이\n",
        "---\n",
        "\n",
        "**예제 01**\n",
        "\n",
        "아래 코드의 실행 결과를 예상하고 출력해보세요\n",
        "\n",
        "```\n",
        "2+5-3*5\n",
        "```\n"
      ],
      "metadata": {
        "id": "HgrXNsFnwp_m"
      }
    },
    {
      "cell_type": "code",
      "source": [
        "2+5-3*5"
      ],
      "metadata": {
        "id": "U8ehercCwsP8",
        "outputId": "776a4197-ac63-4d9e-ad6a-b6f90399c8f1",
        "colab": {
          "base_uri": "https://localhost:8080/"
        }
      },
      "execution_count": 33,
      "outputs": [
        {
          "output_type": "execute_result",
          "data": {
            "text/plain": [
              "-8"
            ]
          },
          "metadata": {},
          "execution_count": 33
        }
      ]
    },
    {
      "cell_type": "markdown",
      "source": [
        "**예제 02**\n",
        "\n",
        "아래 코드의 실행 결과를 예상하고 출력해보세요\n",
        "```\n",
        "print(10/2)\n",
        "print(10%2)\n",
        "print(11%2)\n",
        "print(12%2)\n",
        "print(13%2)\n",
        "print(14%2)\n",
        "```"
      ],
      "metadata": {
        "id": "Bd7MAhfZwuYL"
      }
    },
    {
      "cell_type": "code",
      "source": [
        "print(10/2)\n",
        "print(10%2)\n",
        "print(11%2)\n",
        "print(12%2)\n",
        "print(13%2)\n",
        "print(14%2)"
      ],
      "metadata": {
        "id": "04JSAGa2wvXN",
        "outputId": "f108cbe2-5a14-488c-ac40-5aaf64509f7e",
        "colab": {
          "base_uri": "https://localhost:8080/"
        }
      },
      "execution_count": 34,
      "outputs": [
        {
          "output_type": "stream",
          "name": "stdout",
          "text": [
            "5.0\n",
            "0\n",
            "1\n",
            "0\n",
            "1\n",
            "0\n"
          ]
        }
      ]
    },
    {
      "cell_type": "markdown",
      "source": [
        "**예제 03**\n",
        "\n",
        "`예제 02` 를 기반으로 `int` 값중 짝수와 홀수를 판별하는 방법을 제안하세요\n"
      ],
      "metadata": {
        "id": "ndVmQUdcwwbH"
      }
    },
    {
      "cell_type": "code",
      "source": [],
      "metadata": {
        "id": "BA7Glui4wyJx"
      },
      "execution_count": null,
      "outputs": []
    },
    {
      "cell_type": "markdown",
      "source": [
        "**예제 04**\n",
        "\n",
        "정수기가 월 30,000원에 무이자할부 5년 조건으로 판매되고 있습니다. 총 금액을 계산한 후 이를 화면에 출력해보세요. (변수사용하기)"
      ],
      "metadata": {
        "id": "BiJgJpfvwwdj"
      }
    },
    {
      "cell_type": "code",
      "source": [
        "a=30000\n",
        "b=60\n",
        "a*=b\n",
        "print(a)"
      ],
      "metadata": {
        "id": "e_RllwoewzQs",
        "outputId": "b0db363f-8f92-4480-c462-2ee83159610b",
        "colab": {
          "base_uri": "https://localhost:8080/"
        }
      },
      "execution_count": 36,
      "outputs": [
        {
          "output_type": "stream",
          "name": "stdout",
          "text": [
            "1800000\n"
          ]
        }
      ]
    },
    {
      "cell_type": "markdown",
      "source": [
        "**예제 05** \n",
        "\n",
        "변수가 아래와 같이 선언되어 있습니다. 각 변수들끼리 서로 더한 결과를 정리하세요\n",
        "\n",
        "```\n",
        "a = 5 \n",
        "b = 3.14 \n",
        "c = 3 + 4j\n",
        "```"
      ],
      "metadata": {
        "id": "wP9-y-apw030"
      }
    },
    {
      "cell_type": "code",
      "source": [
        "a = 5 \n",
        "b = 3.14 \n",
        "c = 3 + 4j\n",
        "a+b+c"
      ],
      "metadata": {
        "id": "CQRbhmUMyq69",
        "outputId": "27c83781-4168-4e51-d575-339a83f78a50",
        "colab": {
          "base_uri": "https://localhost:8080/"
        }
      },
      "execution_count": 44,
      "outputs": [
        {
          "output_type": "execute_result",
          "data": {
            "text/plain": [
              "(11.14+4j)"
            ]
          },
          "metadata": {},
          "execution_count": 44
        }
      ]
    },
    {
      "cell_type": "markdown",
      "source": [
        "**예제 06**\n",
        "\n",
        "아래 결과를 예측하세요\n",
        "\n",
        "\n",
        "```\n",
        "a= 1\n",
        "a= a+1\n",
        "a= a**3\n",
        "print(a)\n",
        "```"
      ],
      "metadata": {
        "id": "AqR7zhPaw145"
      }
    },
    {
      "cell_type": "code",
      "source": [
        "a= 1\n",
        "a= a+1\n",
        "a= a**3\n",
        "print(a)"
      ],
      "metadata": {
        "id": "kIXwdd_nyrkR",
        "outputId": "71c6e628-13e1-426b-c9bf-2c3b9337ca15",
        "colab": {
          "base_uri": "https://localhost:8080/"
        }
      },
      "execution_count": 47,
      "outputs": [
        {
          "output_type": "stream",
          "name": "stdout",
          "text": [
            "8\n"
          ]
        }
      ]
    },
    {
      "cell_type": "markdown",
      "source": [
        "**예제 07**\n",
        "\n",
        "아래 결과를 예측하세요\n",
        "\n",
        "\n",
        "```\n",
        "a= 1+3j\n",
        "b= a.real\n",
        "print(b%2)\n",
        "```\n"
      ],
      "metadata": {
        "id": "ey2pYPv4yYBp"
      }
    },
    {
      "cell_type": "code",
      "source": [
        "a= 1+3j\n",
        "b= a.real\n",
        "print(b%2)"
      ],
      "metadata": {
        "id": "yanJRKU-yr8r",
        "outputId": "4313695e-788f-471e-961f-d5400688a5e4",
        "colab": {
          "base_uri": "https://localhost:8080/"
        }
      },
      "execution_count": 48,
      "outputs": [
        {
          "output_type": "stream",
          "name": "stdout",
          "text": [
            "1.0\n"
          ]
        }
      ]
    },
    {
      "cell_type": "markdown",
      "source": [
        "**예제 08**\n",
        "\n",
        "아래와 같이 주가와 주식개수를 인풋으로 받아 평가금액을 출력하는 코드를 작성하세요\n",
        "\n",
        "```\n",
        ">> 주가: 10000\n",
        ">> 주식개수: 3\n",
        "평가금액은 30000원 입니다.\n",
        "```"
      ],
      "metadata": {
        "id": "wyBij9C6yZDw"
      }
    },
    {
      "cell_type": "code",
      "source": [
        "input(\"주가:\")\n",
        "input(\"주식개수:\")\n",
        "print(\"평가금액은 30000원 입니다.\")\n",
        "a=10000\n",
        "b=3\n",
        "a*=b\n",
        "print(a)"
      ],
      "metadata": {
        "id": "M60QJ7V5ysav",
        "outputId": "8f01b761-5098-435e-f8fd-cc90c22afcb4",
        "colab": {
          "base_uri": "https://localhost:8080/"
        }
      },
      "execution_count": 53,
      "outputs": [
        {
          "output_type": "stream",
          "name": "stdout",
          "text": [
            "주가:10000\n",
            "주식개수:3\n",
            "평가금액은 30000원 입니다.\n",
            "30000\n"
          ]
        }
      ]
    },
    {
      "cell_type": "markdown",
      "source": [
        "**예제 09**\n",
        "\n",
        "아래와 같이 복소수(complex)를 입력하면 실수값과 허수값, 실수값과 허수값을 알려주는 코드를 작성하세요.\n",
        "\n",
        "```\n",
        ">> 복소수를 입력하세요: 1+5j\n",
        "실수값은 1, 허수값은 5입니다. \n",
        "```"
      ],
      "metadata": {
        "id": "HTFQuWVeyaS4"
      }
    },
    {
      "cell_type": "code",
      "source": [],
      "metadata": {
        "id": "2vGeOjbwys2C",
        "outputId": "61ee478d-855d-4556-85a1-47a24c36209c",
        "colab": {
          "base_uri": "https://localhost:8080/"
        }
      },
      "execution_count": 61,
      "outputs": [
        {
          "output_type": "execute_result",
          "data": {
            "text/plain": [
              "(1+5j)"
            ]
          },
          "metadata": {},
          "execution_count": 61
        }
      ]
    },
    {
      "cell_type": "markdown",
      "source": [
        "**예제 10**\n",
        "\n",
        "아래와 같이 정수(int)를 입력하면 제곱값과 세제곱값을 출력하는 코드를 작성하세요.\n",
        "\n",
        "```\n",
        ">> 숫자를 입력하세요: 5\n",
        "5의 제곱은 25이고 세제곱은 125 입니다.\n",
        "```\n"
      ],
      "metadata": {
        "id": "qrPmvCY7ybVA"
      }
    },
    {
      "cell_type": "code",
      "source": [
        "a=input(\"숫자를 입력하세요:\")\n",
        "print(a,\"의 제곱은\", (a**=b) )"
      ],
      "metadata": {
        "id": "0s1yUjPwTv8I",
        "outputId": "48f4da8d-ced3-4ba9-be1f-bbbfd6f95afc",
        "colab": {
          "base_uri": "https://localhost:8080/",
          "height": 137
        }
      },
      "execution_count": 83,
      "outputs": [
        {
          "output_type": "error",
          "ename": "SyntaxError",
          "evalue": "ignored",
          "traceback": [
            "\u001b[0;36m  File \u001b[0;32m\"<ipython-input-83-e4efc4ec0075>\"\u001b[0;36m, line \u001b[0;32m2\u001b[0m\n\u001b[0;31m    print(a,\"의 제곱은\", (a**=b) )\u001b[0m\n\u001b[0m                       ^\u001b[0m\n\u001b[0;31mSyntaxError\u001b[0m\u001b[0;31m:\u001b[0m invalid syntax\n"
          ]
        }
      ]
    },
    {
      "cell_type": "code",
      "source": [
        "a=5\n",
        "b=3\n",
        "a**=b\n",
        "print(a)"
      ],
      "metadata": {
        "id": "PigOmcgwyyhj",
        "outputId": "0f4af5cc-8f76-4a32-bbef-e084d37354a6",
        "colab": {
          "base_uri": "https://localhost:8080/"
        }
      },
      "execution_count": 60,
      "outputs": [
        {
          "output_type": "stream",
          "name": "stdout",
          "text": [
            "125\n"
          ]
        }
      ]
    },
    {
      "cell_type": "markdown",
      "source": [
        "**예제 11**\n",
        "\n",
        "실수값(float)을 입력하면 실수값에 5를 더한 값을 출력하는 코드를 작성하세요\n",
        "\n",
        "```\n",
        ">> 실수값을 입력하세요: 5.11\n",
        "5를 더한 값은 10.11 입니다.\n",
        "```\n"
      ],
      "metadata": {
        "id": "r-6cOE9Uyce4"
      }
    },
    {
      "cell_type": "code",
      "source": [
        "float=5.11\n",
        "a=5\n",
        "float+=a\n",
        "print(float)"
      ],
      "metadata": {
        "id": "wkoF8LTzy0g2",
        "outputId": "640cd58c-17a7-480f-d917-65e632348a0d",
        "colab": {
          "base_uri": "https://localhost:8080/"
        }
      },
      "execution_count": 63,
      "outputs": [
        {
          "output_type": "stream",
          "name": "stdout",
          "text": [
            "10.11\n"
          ]
        }
      ]
    },
    {
      "cell_type": "markdown",
      "source": [
        "\n",
        "**예제 12**\n",
        "\n",
        "첫번째 숫자와 두번째 숫자를 입력하면 첫번째 숫자를 두번째 숫자로 나눈 몫과 나머지를 구하는 코드를 작성하세요\n",
        "\n",
        "```\n",
        ">> 첫번째 숫자: 10\n",
        ">> 두번째 숫자: 3\n",
        "10 나누기 3은 몫이 3이고 나머지는 1입니다.\n",
        "```"
      ],
      "metadata": {
        "id": "PrS_rt0xydlV"
      }
    },
    {
      "cell_type": "code",
      "source": [
        "input(\"첫번째 숫자:\")\n",
        "input(\"두번째 숫자:\")\n",
        "a=10\n",
        "b=3\n",
        "print(a,\"나누기\",b,\"은 몫이\",(a/b), \"이고 나머지는\",(a%b),\"입니다.\")"
      ],
      "metadata": {
        "id": "1O9-xigHCaqb",
        "outputId": "d7b888f6-942b-45e6-a851-b535adba8e5b",
        "colab": {
          "base_uri": "https://localhost:8080/"
        }
      },
      "execution_count": 78,
      "outputs": [
        {
          "output_type": "stream",
          "name": "stdout",
          "text": [
            "첫번째 숫자:10\n",
            "두번째 숫자:3\n",
            "10 나누기 3 은 몫이 3.3333333333333335 이고 나머지는 1 입니다.\n"
          ]
        }
      ]
    },
    {
      "cell_type": "code",
      "source": [],
      "metadata": {
        "id": "vhmAEGpZQK-O"
      },
      "execution_count": null,
      "outputs": []
    }
  ]
}